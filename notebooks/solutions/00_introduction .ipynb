{
 "cells": [
  {
   "cell_type": "markdown",
   "metadata": {
    "toc": true
   },
   "source": [
    "<h1>Table of Contents<span class=\"tocSkip\"></span></h1>\n",
    "<div class=\"toc\"><ul class=\"toc-item\"><li><ul class=\"toc-item\"><li><ul class=\"toc-item\"><li><span><a href=\"#NEW-CELL§\" data-toc-modified-id=\"NEW-CELL§-0.0.1\">NEW CELL§</a></span></li></ul></li></ul></li><li><span><a href=\"#Understanding-Anaconda\" data-toc-modified-id=\"Understanding-Anaconda-1\">Understanding Anaconda</a></span></li><li><span><a href=\"#Python-Programming-environments\" data-toc-modified-id=\"Python-Programming-environments-2\">Python Programming environments</a></span><ul class=\"toc-item\"><li><span><a href=\"#jupyter\" data-toc-modified-id=\"jupyter-2.1\">jupyter</a></span><ul class=\"toc-item\"><li><span><a href=\"#Launching-jupyter\" data-toc-modified-id=\"Launching-jupyter-2.1.1\">Launching jupyter</a></span></li><li><span><a href=\"#Running-code-in-jupyter\" data-toc-modified-id=\"Running-code-in-jupyter-2.1.2\">Running code in jupyter</a></span></li><li><span><a href=\"#Finding-function-help-in-jupyter\" data-toc-modified-id=\"Finding-function-help-in-jupyter-2.1.3\">Finding function help in jupyter</a></span></li></ul></li><li><span><a href=\"#Spyder\" data-toc-modified-id=\"Spyder-2.2\">Spyder</a></span></li><li><span><a href=\"#Any-other-IDEs-(integrated-development-environment)\" data-toc-modified-id=\"Any-other-IDEs-(integrated-development-environment)-2.3\">Any other IDEs (integrated development environment)</a></span></li><li><span><a href=\"#vim-+-ipython\" data-toc-modified-id=\"vim-+-ipython-2.4\"><code>vim</code> + <code>ipython</code></a></span></li></ul></li><li><span><a href=\"#Installing-packages-with-Anaconda\" data-toc-modified-id=\"Installing-packages-with-Anaconda-3\">Installing packages with Anaconda</a></span><ul class=\"toc-item\"><li><span><a href=\"#Creating-new-enviroments\" data-toc-modified-id=\"Creating-new-enviroments-3.1\">Creating new enviroments</a></span></li></ul></li><li><span><a href=\"#Things-to-Google\" data-toc-modified-id=\"Things-to-Google-4\">Things to Google</a></span></li><li><span><a href=\"#Project-structure\" data-toc-modified-id=\"Project-structure-5\">Project structure</a></span></li></ul></div>"
   ]
  },
  {
   "cell_type": "markdown",
   "metadata": {
    "heading_collapsed": true
   },
   "source": [
    "# Understanding Anaconda "
   ]
  },
  {
   "cell_type": "markdown",
   "metadata": {
    "hidden": true
   },
   "source": [
    "<img src=\"../images/anaconda_structure.png\" style=\"float: left; width: 65%; margin-right: 20px\">\n",
    "\n",
    "Anaconda is a distribution of Python that makes your live much easier!\n",
    "\n",
    "The *Navigator* makes it much easier to access different tools, GUIs, interfaces. \n",
    "\n",
    "I tend to use **Jupyter Notebooks** for interactive programming (data science applications) and this is what we'll be using in this course. I use VS Code for scripting. Spyder is similar to MATLAB's interface.\n",
    "\n",
    "We'll use some of the science tools and visualisation packages. \n",
    "\n",
    "Conda is the package manager that provides an easy way to install packages such as `matplotlib` and provides a more robust alternative to `pip`. Note you can also install non-Python packages such as `cdo`."
   ]
  },
  {
   "cell_type": "markdown",
   "metadata": {
    "heading_collapsed": true
   },
   "source": [
    "# Python Programming environments"
   ]
  },
  {
   "cell_type": "markdown",
   "metadata": {
    "hidden": true
   },
   "source": [
    "## jupyter\n",
    "Jupyter is an interactive programming enviroment. It runs from your local computer (in the terminal/cmd), and uses the browser as an interface. Note that it does not run online!\n",
    "\n",
    "We will be using this interface. \n",
    "\n",
    "Note that Jupyter is not limited to running Python - it actually stands for: **`Ju`**(lia)**`Pyt`**(hon)`e`**`R`**.\n",
    "With an extra bit of work, these languages can be run in notebooks too!\n",
    "\n",
    "### Launching jupyter\n",
    "\n",
    "- Can be done using **Anaconda Navigator** or \n",
    "- From the **terminal** (MacOS and Linux) with the `jupyter-notebook` command. Your browser should launch automatically.\n",
    "\n",
    "There is also jupyterlab, but I have not got much experience with this platform. It is still in its infancy, but from what I've read will eventually take over from jupyter. \n",
    "\n",
    "### Running code in jupyter\n",
    "To start, run the user interface tour: `Help --> User Interface Tour`\n",
    "\n",
    "Jupyter consists of *cells* or blocks of code that can be run independently. These are run by pressing  \n",
    "`CTRL + Enter` (stay on cell) or `SHIFT + Enter` (go to next cell)\n",
    "\n",
    "### Finding function help in jupyter\n",
    "You can run a function followed by a `?` for documentation and `??` for documentation + code.  \n",
    "`print??`\n",
    "\n",
    "Alternatively, you can quickly find the help of a function by moving the cursor to the function you'd like to know more about.  \n",
    "Then hold `SHIFT` while pressing `TAB` up to four times to show different displays of the documentation. Pressing `TAB` four times is the equivalent to `<func>?`\n",
    "\n"
   ]
  },
  {
   "cell_type": "code",
   "execution_count": 2,
   "metadata": {
    "ExecuteTime": {
     "end_time": "2018-12-03T14:45:14.508120Z",
     "start_time": "2018-12-03T14:45:14.504813Z"
    },
    "hidden": true
   },
   "outputs": [],
   "source": [
    "# run some code here\n",
    "name1 = 'Luke Gregor'\n",
    "name2 = 'Tommy Ryan-Keogh'"
   ]
  },
  {
   "cell_type": "code",
   "execution_count": 8,
   "metadata": {
    "ExecuteTime": {
     "end_time": "2018-12-03T14:45:15.387034Z",
     "start_time": "2018-12-03T14:45:15.375601Z"
    },
    "hidden": true
   },
   "outputs": [
    {
     "data": {
      "text/plain": [
       "'Tommy Ryan-Keogh'"
      ]
     },
     "execution_count": 8,
     "metadata": {},
     "output_type": "execute_result"
    }
   ],
   "source": [
    "# this is to show how the output of cells behaves\n",
    "name1\n",
    "name2"
   ]
  },
  {
   "cell_type": "code",
   "execution_count": 6,
   "metadata": {
    "ExecuteTime": {
     "end_time": "2018-12-03T14:45:17.079927Z",
     "start_time": "2018-12-03T14:45:17.072283Z"
    },
    "hidden": true
   },
   "outputs": [
    {
     "name": "stdout",
     "output_type": "stream",
     "text": [
      "Luke Gregor\n"
     ]
    },
    {
     "data": {
      "text/plain": [
       "'Tommy Ryan-Keogh'"
      ]
     },
     "execution_count": 6,
     "metadata": {},
     "output_type": "execute_result"
    }
   ],
   "source": [
    "# we can show output from any variable by printing it\n",
    "print(name1)  # try looking at the help for the print function\n",
    "name2"
   ]
  },
  {
   "cell_type": "markdown",
   "metadata": {
    "ExecuteTime": {
     "end_time": "2018-12-03T14:05:21.185306Z",
     "start_time": "2018-12-03T14:05:21.177874Z"
    },
    "hidden": true
   },
   "source": [
    "<div></div>\n",
    "\n",
    "<img src=\"../images/Spyder.png\" style='width:60%; float:right; margin-left: 20px; margin-bottom: 20px'>\n",
    "\n",
    "## Spyder\n",
    "\n",
    "This is a MATLAB-esque environment as shown in the figure below. \n",
    "\n",
    "This might be a better platform for programming if you are used to MATLAB and you are relatively new to programming. \n",
    "\n",
    "Spyder is installed by default if you install Anaconda. "
   ]
  },
  {
   "cell_type": "markdown",
   "metadata": {
    "hidden": true
   },
   "source": [
    "## Any other IDEs (integrated development environment)\n",
    "I recommend the following free IDE's  \n",
    "- VS Code (https://code.visualstudio.com/download)\n",
    "- Sublime (https://www.sublimetext.com/3)\n",
    "\n",
    "These are both very powerfull environments that are highly customisable. It takes a while to set these up. I recommend these if you are developing a tool or building a package. Otherwise it may be easier to stick with the first two suggestions.\n"
   ]
  },
  {
   "cell_type": "markdown",
   "metadata": {
    "ExecuteTime": {
     "end_time": "2018-12-03T14:05:41.807637Z",
     "start_time": "2018-12-03T14:05:41.802532Z"
    },
    "hidden": true
   },
   "source": [
    "## `vim` + `ipython`\n",
    "This is old school, but useful for those who work remotely on clusters as there is no installation on your machine required. We will not be looking at this option. \n",
    "\n"
   ]
  },
  {
   "cell_type": "markdown",
   "metadata": {
    "hidden": true
   },
   "source": [
    "---"
   ]
  },
  {
   "cell_type": "markdown",
   "metadata": {
    "heading_collapsed": true
   },
   "source": [
    "# Installing packages with Anaconda"
   ]
  },
  {
   "cell_type": "markdown",
   "metadata": {
    "hidden": true
   },
   "source": [
    "<img src=\"../images/anaconda_install_packages.png\" style=\"float:right; width:70%\">\n",
    "\n",
    "Packages are what makes Python powerfull. It turns it from a very basic scripting language into a platform for science, website-creating or application development. \n",
    "\n",
    "Anaconda is geared toward scientific computing so most of the pacakges we'll be using are pre-installed. These include:\n",
    "```\n",
    "numpy \n",
    "scipy\n",
    "matplotlib\n",
    "pandas\n",
    "```\n",
    "\n",
    "You will have to install others, such as:\n",
    "```\n",
    "netCDF4\n",
    "xarray\n",
    "cartopy\n",
    "```\n",
    "\n",
    "Installing these can be done with anaconda navigator (as shown in the image on the right) or in the command line with conda.  \n",
    "`conda install netCDF4 xarray`"
   ]
  },
  {
   "cell_type": "code",
   "execution_count": 16,
   "metadata": {},
   "outputs": [
    {
     "name": "stdout",
     "output_type": "stream",
     "text": [
      "Package                            Version     Location                     \r\n",
      "---------------------------------- ----------- -----------------------------\r\n",
      "alabaster                          0.7.11      \r\n",
      "anaconda-client                    1.7.2       \r\n",
      "anaconda-navigator                 1.8.7       \r\n",
      "anaconda-project                   0.8.2       \r\n",
      "appdirs                            1.4.3       \r\n",
      "appnope                            0.1.0       \r\n",
      "appscript                          1.0.1       \r\n",
      "asn1crypto                         0.24.0      \r\n",
      "astral                             1.7.1       \r\n",
      "astroid                            2.0.4       \r\n",
      "astropy                            3.0.4       \r\n",
      "atomicwrites                       1.2.1       \r\n",
      "attrs                              18.2.0      \r\n",
      "Automat                            0.7.0       \r\n",
      "Babel                              2.6.0       \r\n",
      "backcall                           0.1.0       \r\n",
      "backports.shutil-get-terminal-size 1.0.0       \r\n",
      "beautifulsoup4                     4.6.3       \r\n",
      "bitarray                           0.8.3       \r\n",
      "bkcharts                           0.2         \r\n",
      "blaze                              0.11.3      \r\n",
      "bleach                             2.1.4       \r\n",
      "bokeh                              0.13.0      \r\n",
      "boto                               2.49.0      \r\n",
      "boto3                              1.9.61      \r\n",
      "botocore                           1.12.61     \r\n",
      "Bottleneck                         1.2.1       \r\n",
      "bz2file                            0.98        \r\n",
      "Cartopy                            0.16.0      \r\n",
      "certifi                            2018.8.24   \r\n",
      "cffi                               1.11.5      \r\n",
      "cftime                             1.0.2.1     \r\n",
      "chardet                            3.0.4       \r\n",
      "click                              6.7         \r\n",
      "cloudpickle                        0.5.5       \r\n",
      "clyent                             1.2.2       \r\n",
      "cmocean                            1.2         \r\n",
      "colorama                           0.3.9       \r\n",
      "conda                              4.5.11      \r\n",
      "conda-build                        3.15.1      \r\n",
      "constantly                         15.1.0      \r\n",
      "contextlib2                        0.5.5       \r\n",
      "cryptography                       2.3.1       \r\n",
      "cycler                             0.10.0      \r\n",
      "Cython                             0.28.5      \r\n",
      "cytoolz                            0.9.0.1     \r\n",
      "dask                               0.19.1      \r\n",
      "datashape                          0.5.4       \r\n",
      "decorator                          4.3.0       \r\n",
      "defusedxml                         0.5.0       \r\n",
      "distributed                        1.23.1      \r\n",
      "docutils                           0.14        \r\n",
      "entrypoints                        0.2.3       \r\n",
      "et-xmlfile                         1.0.1       \r\n",
      "fastcache                          1.0.2       \r\n",
      "filelock                           3.0.8       \r\n",
      "Flask                              1.0.2       \r\n",
      "Flask-Cors                         3.0.6       \r\n",
      "fuzzywuzzy                         0.17.0      \r\n",
      "gensim                             3.6.0       \r\n",
      "gevent                             1.3.6       \r\n",
      "glob2                              0.6         \r\n",
      "gmpy2                              2.0.8       \r\n",
      "greenlet                           0.4.15      \r\n",
      "gsw                                3.2.1       \r\n",
      "h5py                               2.8.0       \r\n",
      "heapdict                           1.0.0       \r\n",
      "html5lib                           1.0.1       \r\n",
      "hyperlink                          18.0.0      \r\n",
      "idna                               2.7         \r\n",
      "imageio                            2.4.1       \r\n",
      "imagesize                          1.1.0       \r\n",
      "imbalanced-learn                   0.4.3       \r\n",
      "incremental                        17.5.0      \r\n",
      "ipykernel                          4.9.0       \r\n",
      "ipyparallel                        6.2.3       \r\n",
      "ipython                            6.5.0       \r\n",
      "ipython-genutils                   0.2.0       \r\n",
      "ipywidgets                         7.4.1       \r\n",
      "isort                              4.3.4       \r\n",
      "itsdangerous                       0.24        \r\n",
      "jdcal                              1.4         \r\n",
      "jedi                               0.12.1      \r\n",
      "Jinja2                             2.10        \r\n",
      "jmespath                           0.9.3       \r\n",
      "jsonschema                         2.6.0       \r\n",
      "jupyter                            1.0.0       \r\n",
      "jupyter-client                     5.2.3       \r\n",
      "jupyter-console                    5.2.0       \r\n",
      "jupyter-contrib-core               0.3.3       \r\n",
      "jupyter-contrib-nbextensions       0.5.0       \r\n",
      "jupyter-core                       4.4.0       \r\n",
      "jupyter-highlight-selected-word    0.2.0       \r\n",
      "jupyter-latex-envs                 1.4.4       \r\n",
      "jupyter-nbextensions-configurator  0.4.0       \r\n",
      "jupyterlab                         0.34.9      \r\n",
      "jupyterlab-launcher                0.13.1      \r\n",
      "keyring                            13.2.1      \r\n",
      "kiwisolver                         1.0.1       \r\n",
      "lazy-object-proxy                  1.3.1       \r\n",
      "llvmlite                           0.24.0      \r\n",
      "locket                             0.2.0       \r\n",
      "lxml                               4.2.5       \r\n",
      "MarkupSafe                         1.0         \r\n",
      "matplotlib                         2.2.3       \r\n",
      "mccabe                             0.6.1       \r\n",
      "mistune                            0.8.3       \r\n",
      "mkl-fft                            1.0.4       \r\n",
      "mkl-random                         1.0.1       \r\n",
      "more-itertools                     4.3.0       \r\n",
      "mpmath                             1.0.0       \r\n",
      "msgpack                            0.5.6       \r\n",
      "multipledispatch                   0.6.0       \r\n",
      "navigator-updater                  0.2.1       \r\n",
      "nbconvert                          5.4.0       \r\n",
      "nbformat                           4.4.0       \r\n",
      "netCDF4                            1.4.2       \r\n",
      "networkx                           2.1         \r\n",
      "nltk                               3.3         \r\n",
      "nose                               1.3.7       \r\n",
      "notebook                           5.6.0       \r\n",
      "numba                              0.39.0      \r\n",
      "numexpr                            2.6.8       \r\n",
      "numpy                              1.15.1      \r\n",
      "numpydoc                           0.8.0       \r\n",
      "odo                                0.5.1       \r\n",
      "olefile                            0.46        \r\n",
      "openpyxl                           2.5.6       \r\n",
      "OWSLib                             0.17.0      \r\n",
      "packaging                          17.1        \r\n",
      "pandas                             0.23.4      \r\n",
      "pandocfilters                      1.4.2       \r\n",
      "parso                              0.3.1       \r\n",
      "partd                              0.3.8       \r\n",
      "path.py                            11.1.0      \r\n",
      "pathlib2                           2.3.2       \r\n",
      "patsy                              0.5.0       \r\n",
      "pendulum                           2.0.4       \r\n",
      "pep8                               1.7.1       \r\n",
      "pexpect                            4.6.0       \r\n",
      "pickleshare                        0.7.4       \r\n",
      "Pillow                             5.2.0       \r\n",
      "pip                                18.1        \r\n",
      "pkginfo                            1.4.2       \r\n",
      "plotly                             3.3.0       \r\n",
      "pluggy                             0.7.1       \r\n",
      "ply                                3.11        \r\n",
      "prometheus-client                  0.3.1       \r\n",
      "prompt-toolkit                     1.0.15      \r\n",
      "psutil                             5.4.7       \r\n",
      "ptyprocess                         0.6.0       \r\n",
      "py                                 1.6.0       \r\n",
      "pyasn1                             0.4.4       \r\n",
      "pyasn1-modules                     0.2.2       \r\n",
      "pycodestyle                        2.4.0       \r\n",
      "pycosat                            0.6.3       \r\n",
      "pycparser                          2.18        \r\n",
      "pycrypto                           2.6.1       \r\n",
      "pycurl                             7.43.0.2    \r\n",
      "pyepsg                             0.3.2       \r\n",
      "PyExcelerate                       0.7.3       \r\n",
      "pyflakes                           2.0.0       \r\n",
      "Pygments                           2.2.0       \r\n",
      "PyHamcrest                         1.9.0       \r\n",
      "PyKrige                            1.4.0       \r\n",
      "pylint                             2.1.1       \r\n",
      "pyodbc                             4.0.24      \r\n",
      "pyOpenSSL                          18.0.0      \r\n",
      "pyparsing                          2.2.0       \r\n",
      "pyproj                             1.9.5.1     \r\n",
      "pyshp                              1.2.12      \r\n",
      "PySocks                            1.6.8       \r\n",
      "pytest                             3.8.0       \r\n",
      "pytest-arraydiff                   0.2         \r\n",
      "pytest-astropy                     0.4.0       \r\n",
      "pytest-doctestplus                 0.1.3       \r\n",
      "pytest-openfiles                   0.3.0       \r\n",
      "pytest-remotedata                  0.3.0       \r\n",
      "python-dateutil                    2.7.3       \r\n",
      "pytz                               2018.5      \r\n",
      "pytzdata                           2018.7      \r\n",
      "PyWavelets                         1.0.0       \r\n",
      "PyYAML                             3.13        \r\n",
      "pyzmq                              17.1.2      \r\n",
      "QtAwesome                          0.4.4       \r\n",
      "qtconsole                          4.4.1       \r\n",
      "QtPy                               1.5.0       \r\n",
      "readme-renderer                    24.0        \r\n",
      "requests                           2.19.1      \r\n",
      "requests-toolbelt                  0.8.0       \r\n",
      "Requires                           0.0.3       \r\n",
      "retrying                           1.3.3       \r\n",
      "rope                               0.11.0      \r\n",
      "ruamel-yaml                        0.15.46     \r\n",
      "s3transfer                         0.1.13      \r\n",
      "scikit-image                       0.14.0      \r\n",
      "scikit-learn                       0.20.0      \r\n",
      "scipy                              1.1.0       \r\n",
      "seaborn                            0.9.0       \r\n",
      "seawater                           3.3.4       \r\n",
      "Send2Trash                         1.5.0       \r\n",
      "service-identity                   17.0.0      \r\n",
      "setuptools                         40.2.0      \r\n",
      "Shapely                            1.6.4.post1 \r\n",
      "simplegeneric                      0.8.1       \r\n",
      "singledispatch                     3.4.0.3     \r\n",
      "six                                1.11.0      \r\n",
      "smart-open                         1.7.1       \r\n",
      "snowballstemmer                    1.2.1       \r\n",
      "sortedcollections                  1.0.1       \r\n",
      "sortedcontainers                   2.0.5       \r\n",
      "Sphinx                             1.7.9       \r\n",
      "sphinxcontrib-websupport           1.1.0       \r\n",
      "spyder                             3.3.1       \r\n",
      "spyder-kernels                     0.2.6       \r\n",
      "SQLAlchemy                         1.2.11      \r\n",
      "statsmodels                        0.9.0       \r\n",
      "sympy                              1.2         \r\n",
      "tables                             3.4.4       \r\n",
      "tblib                              1.3.2       \r\n",
      "terminado                          0.8.1       \r\n",
      "testpath                           0.3.1       \r\n",
      "toolz                              0.9.0       \r\n",
      "tornado                            5.1         \r\n",
      "tqdm                               4.26.0      \r\n",
      "traitlets                          4.3.2       \r\n",
      "twine                              1.12.1      \r\n",
      "Twisted                            18.7.0      \r\n",
      "unicodecsv                         0.14.1      \r\n",
      "urllib3                            1.23        \r\n",
      "vindta-reCAlk                      0.2.3       /Users/luke/Git/vindta_reCAlk\r\n",
      "WaveGliDA                          0.2.1       \r\n",
      "wcwidth                            0.1.7       \r\n",
      "webencodings                       0.5.1       \r\n",
      "Werkzeug                           0.14.1      \r\n",
      "wheel                              0.31.1      \r\n",
      "widgetsnbextension                 3.4.1       \r\n",
      "wrapt                              1.10.11     \r\n"
     ]
    },
    {
     "name": "stdout",
     "output_type": "stream",
     "text": [
      "xarray                             0.10.9      \r\n",
      "xlrd                               1.1.0       \r\n",
      "XlsxWriter                         1.1.0       \r\n",
      "xlwings                            0.11.8      \r\n",
      "xlwt                               1.3.0       \r\n",
      "zict                               0.1.3       \r\n",
      "zope.interface                     4.5.0       \r\n"
     ]
    }
   ],
   "source": [
    "!pip list\n"
   ]
  },
  {
   "cell_type": "markdown",
   "metadata": {
    "hidden": true
   },
   "source": [
    "## Creating new enviroments"
   ]
  },
  {
   "cell_type": "markdown",
   "metadata": {
    "hidden": true
   },
   "source": [
    "<img src=\"../images/anaconda_install_environ.png\" style=\"float:right; width:70%\">\n",
    "\n",
    "It's quite common that you'll run into legacy issues when running older scientific packages that require Python 2.7 instead of Python 3.6/3.7. It is easy to create a new environment with Anaconda. \n",
    "\n",
    "You can choose the Python version. It then installs Python for that version, but you have to remember to enable it if you are using the command line. You will also have to install all the packages for the new version of Python. "
   ]
  },
  {
   "cell_type": "markdown",
   "metadata": {
    "heading_collapsed": true
   },
   "source": [
    "---\n",
    "# Things to Google"
   ]
  },
  {
   "cell_type": "markdown",
   "metadata": {
    "hidden": true
   },
   "source": [
    "- `install jupyter extensions`\n",
    "    - vairable inspector\n",
    "    - collapsing cells\n",
    "    - table of contents\n",
    "    - time to run for each cell\n",
    "- `conda install new environment`\n",
    "- `data science folder structure`"
   ]
  },
  {
   "cell_type": "markdown",
   "metadata": {},
   "source": [
    "---"
   ]
  },
  {
   "cell_type": "markdown",
   "metadata": {
    "heading_collapsed": true
   },
   "source": [
    "# Project structure"
   ]
  },
  {
   "cell_type": "markdown",
   "metadata": {
    "hidden": true
   },
   "source": [
    "One of the key aspects of doing research is that we need to **make our results reproducible**. As the computational element of climate science increases, we need to be ever more diligent of how we set up our projects. Projects can be papers or a thesis. \n",
    "\n",
    "A good setup can help us to make our work more reproducible by structuring the project correctly. \n",
    "\n",
    "Here are some of my rules for project structure:\n",
    "1. Create a folder for your project\n",
    "2. Keep all the data for that project in the project folder. This means that when you copy the data, it is easy for a person to run your code. \n",
    "3. Make sure all the scripts you use for the project are also hosted in the project. \n",
    "4. Save all output data and figures inside the project.\n",
    "5. Document your work! Jupyter notebooks are great for this, but you can also create a folder where you write reports or the thesis. \n",
    "\n",
    "\n",
    "Below is an example from one of my projects:\n",
    "```bash\n",
    "Global_CO2_MachineLearning\n",
    "│\n",
    "├── data\n",
    "│   ├── output\n",
    "│   │   ├── experiment_01\n",
    "│   │   └── experiment_02\n",
    "│   └── raw\n",
    "│\n",
    "├── figures\n",
    "│   ├── animations\n",
    "│   ├── data_exploration\n",
    "│   └── experiment_01\n",
    "│\n",
    "├── notebooks\n",
    "│   └── old\n",
    "│\n",
    "├── scripts\n",
    "│   ├── python\n",
    "│   └── bash\n",
    "│\n",
    "└── reports\n",
    "    ├── images\n",
    "    ├── references\n",
    "    ├── markdown\n",
    "    └── latex\n",
    "```\n",
    "\n",
    "The project we're working in at the moment - these slides - are structured in a similar way. You don't have to follow this verbatim, it's just a suggestion."
   ]
  },
  {
   "cell_type": "code",
   "execution_count": null,
   "metadata": {
    "hidden": true
   },
   "outputs": [],
   "source": []
  }
 ],
 "metadata": {
  "kernelspec": {
   "display_name": "Python 3",
   "language": "python",
   "name": "python3"
  },
  "language_info": {
   "codemirror_mode": {
    "name": "ipython",
    "version": 3
   },
   "file_extension": ".py",
   "mimetype": "text/x-python",
   "name": "python",
   "nbconvert_exporter": "python",
   "pygments_lexer": "ipython3",
   "version": "3.7.0"
  },
  "toc": {
   "base_numbering": 1,
   "nav_menu": {},
   "number_sections": false,
   "sideBar": true,
   "skip_h1_title": false,
   "title_cell": "Table of Contents",
   "title_sidebar": "Contents",
   "toc_cell": true,
   "toc_position": {
    "height": "calc(100% - 180px)",
    "left": "10px",
    "top": "150px",
    "width": "245.488px"
   },
   "toc_section_display": true,
   "toc_window_display": false
  },
  "varInspector": {
   "cols": {
    "lenName": 16,
    "lenType": 16,
    "lenVar": 40
   },
   "kernels_config": {
    "python": {
     "delete_cmd_postfix": "",
     "delete_cmd_prefix": "del ",
     "library": "var_list.py",
     "varRefreshCmd": "print(var_dic_list())"
    },
    "r": {
     "delete_cmd_postfix": ") ",
     "delete_cmd_prefix": "rm(",
     "library": "var_list.r",
     "varRefreshCmd": "cat(var_dic_list()) "
    }
   },
   "position": {
    "height": "353px",
    "left": "1533px",
    "right": "20px",
    "top": "79px",
    "width": "376px"
   },
   "types_to_exclude": [
    "module",
    "function",
    "builtin_function_or_method",
    "instance",
    "_Feature"
   ],
   "window_display": true
  }
 },
 "nbformat": 4,
 "nbformat_minor": 2
}

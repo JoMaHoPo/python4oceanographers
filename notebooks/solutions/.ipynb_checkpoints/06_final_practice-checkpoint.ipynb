{
 "cells": [
  {
   "cell_type": "markdown",
   "metadata": {
    "toc": true
   },
   "source": [
    "<h1>Table of Contents<span class=\"tocSkip\"></span></h1>\n",
    "<div class=\"toc\"><ul class=\"toc-item\"><li><span><a href=\"#About-this-project\" data-toc-modified-id=\"About-this-project-1\"><span class=\"toc-item-num\">1&nbsp;&nbsp;</span>About this project</a></span><ul class=\"toc-item\"><li><span><a href=\"#Map-of-SST\" data-toc-modified-id=\"Map-of-SST-1.1\"><span class=\"toc-item-num\">1.1&nbsp;&nbsp;</span>Map of SST</a></span></li><li><span><a href=\"#Time-series\" data-toc-modified-id=\"Time-series-1.2\"><span class=\"toc-item-num\">1.2&nbsp;&nbsp;</span>Time series</a></span></li><li><span><a href=\"#Scatter-comparing-SST-and-glider-temperature\" data-toc-modified-id=\"Scatter-comparing-SST-and-glider-temperature-1.3\"><span class=\"toc-item-num\">1.3&nbsp;&nbsp;</span>Scatter comparing SST and glider temperature</a></span></li><li><span><a href=\"#Transverse-Mercator-for-sections\" data-toc-modified-id=\"Transverse-Mercator-for-sections-1.4\"><span class=\"toc-item-num\">1.4&nbsp;&nbsp;</span>Transverse Mercator for sections</a></span></li></ul></li></ul></div>"
   ]
  },
  {
   "cell_type": "code",
   "execution_count": 1,
   "metadata": {
    "ExecuteTime": {
     "end_time": "2018-03-14T10:03:13.092305Z",
     "start_time": "2018-03-14T10:03:11.792673Z"
    },
    "run_control": {
     "frozen": false,
     "read_only": false
    }
   },
   "outputs": [
    {
     "name": "stdout",
     "output_type": "stream",
     "text": [
      "Populating the interactive namespace from numpy and matplotlib\n"
     ]
    }
   ],
   "source": [
    "%pylab inline\n",
    "\n",
    "import xarray as xr\n",
    "import netCDF4 as nc\n",
    "import cmocean.cm as cmo\n",
    "import cartopy.crs as ccrs\n",
    "import cartopy.feature as cfeature\n",
    "\n",
    "import sys \n",
    "sys.path.insert(0, '..')\n",
    "import scripts"
   ]
  },
  {
   "cell_type": "code",
   "execution_count": 2,
   "metadata": {},
   "outputs": [],
   "source": [
    "# rcParams changes matplotlib default values - this is useful for a constant style throughout the notebook\n",
    "rcParams['savefig.dpi'] = 150\n",
    "rcParams['figure.figsize'] = [14, 7]\n",
    "rcParams['figure.dpi'] = 150"
   ]
  },
  {
   "cell_type": "markdown",
   "metadata": {},
   "source": [
    "# About this project"
   ]
  },
  {
   "cell_type": "markdown",
   "metadata": {},
   "source": [
    "You will now compare waveglider and remotely sensed SST\n",
    "\n",
    "In this exercise we will compare the sea surface temperature from\n",
    "the OSTIA SST product with the Wave Glider temperature. This is\n",
    "will use all the skills you have learnt along the way.\n",
    "\n",
    "\n",
    "<div>\n",
    "<img src=\"../../images/SAMPLE_Fig1.png\" style=\"float:left; width: 50%; margin-right: 20px; margin-bottom:50px\">\n",
    "\n",
    "## Map of SST\n",
    "1. A map of average SST for the netCDF data.\n",
    "2. A subset of Southern Africa (up to 20°S and down to 80°S).\n",
    "3. Include the location of the wave glider as a point.\n",
    "4. Add average ice fraction as a second pcolormesh layer.\n",
    "</div>\n",
    "\n",
    "<div style=\"clear:both; margin-top: 50px;\">\n",
    "<img src=\"../../images/SAMPLE_Fig2.png\" style=\"float:right; width: 70%; margin-right: 20px; margin-bottom:50px\">\n",
    "    \n",
    "## Time series\n",
    "1. Time series comparing SST and wave glider temperature. \n",
    "</div>\n",
    "\n",
    "<div style=\"clear:both; margin-top: 50px;\">\n",
    "<img src=\"../../images/SAMPLE_Fig3.png\" style=\"float:left; width: 40%; margin-right: 20px; margin-bottom:50px\">\n",
    "\n",
    "## Scatter comparing SST and glider temperature\n",
    "1. A scatter plot comparing resampled wave glider data with OSTIA.\n",
    "   You will need to resample the wave glider data to the same sampling\n",
    "   frequency as the satellite data.\n",
    "2. Include a 1:1 line on this plot.\n",
    "3. If you can, add the line of best fit with the slope and $r^2$ using `sklearn.linear_model.LinearRegression`\n",
    "\n",
    "</div>"
   ]
  },
  {
   "cell_type": "code",
   "execution_count": 3,
   "metadata": {},
   "outputs": [],
   "source": [
    "sst_fname = '../../data/GHRSST/201*.nc'\n",
    "wgl_fname = '../../data/WaveGlider/02_wave_glider.csv'"
   ]
  },
  {
   "cell_type": "code",
   "execution_count": 4,
   "metadata": {
    "ExecuteTime": {
     "end_time": "2018-03-14T16:07:48.004936Z",
     "start_time": "2018-03-14T16:07:38.927169Z"
    },
    "scrolled": false
   },
   "outputs": [
    {
     "name": "stderr",
     "output_type": "stream",
     "text": [
      "/Users/luke/Dev/anaconda3/lib/python3.7/site-packages/dask/array/numpy_compat.py:28: RuntimeWarning: invalid value encountered in true_divide\n",
      "  x = np.divide(x1, x2, out)\n",
      "/Users/luke/Dev/anaconda3/lib/python3.7/site-packages/dask/array/numpy_compat.py:28: RuntimeWarning: divide by zero encountered in true_divide\n",
      "  x = np.divide(x1, x2, out)\n"
     ]
    }
   ],
   "source": [
    "xds = xr.open_mfdataset(sst_fname, autoclose=True).sel(lat=slice(-80, -20))\n",
    "sst = xds.analysed_sst - 273.15\n",
    "ice = xds.sea_ice_fraction\n",
    "\n",
    "sst_avg = sst.mean('time').load()\n",
    "ice_avg = ice.mean('time').load()"
   ]
  },
  {
   "cell_type": "code",
   "execution_count": 6,
   "metadata": {},
   "outputs": [
    {
     "ename": "AttributeError",
     "evalue": "'DataArray' object has no attribute 'map'",
     "output_type": "error",
     "traceback": [
      "\u001b[0;31m---------------------------------------------------------------------------\u001b[0m",
      "\u001b[0;31mAttributeError\u001b[0m                            Traceback (most recent call last)",
      "\u001b[0;32m<ipython-input-6-8b684eaebe19>\u001b[0m in \u001b[0;36m<module>\u001b[0;34m()\u001b[0m\n\u001b[0;32m----> 1\u001b[0;31m \u001b[0msst_avg\u001b[0m\u001b[0;34m.\u001b[0m\u001b[0mmap\u001b[0m\u001b[0;34m(\u001b[0m\u001b[0;34m)\u001b[0m\u001b[0;34m\u001b[0m\u001b[0m\n\u001b[0m",
      "\u001b[0;32m~/Dev/anaconda3/lib/python3.7/site-packages/xarray/core/common.py\u001b[0m in \u001b[0;36m__getattr__\u001b[0;34m(self, name)\u001b[0m\n\u001b[1;32m    175\u001b[0m                     \u001b[0;32mreturn\u001b[0m \u001b[0msource\u001b[0m\u001b[0;34m[\u001b[0m\u001b[0mname\u001b[0m\u001b[0;34m]\u001b[0m\u001b[0;34m\u001b[0m\u001b[0m\n\u001b[1;32m    176\u001b[0m         raise AttributeError(\"%r object has no attribute %r\" %\n\u001b[0;32m--> 177\u001b[0;31m                              (type(self).__name__, name))\n\u001b[0m\u001b[1;32m    178\u001b[0m \u001b[0;34m\u001b[0m\u001b[0m\n\u001b[1;32m    179\u001b[0m     \u001b[0;32mdef\u001b[0m \u001b[0m__setattr__\u001b[0m\u001b[0;34m(\u001b[0m\u001b[0mself\u001b[0m\u001b[0;34m,\u001b[0m \u001b[0mname\u001b[0m\u001b[0;34m,\u001b[0m \u001b[0mvalue\u001b[0m\u001b[0;34m)\u001b[0m\u001b[0;34m:\u001b[0m\u001b[0;34m\u001b[0m\u001b[0m\n",
      "\u001b[0;31mAttributeError\u001b[0m: 'DataArray' object has no attribute 'map'"
     ]
    }
   ],
   "source": [
    "fig, ax = plt.subplots(1, 1, figsize=[7, 5], )\n",
    "\n",
    "sst_avg.plot(ax=ax, transform=ccrs.PlateCarree())"
   ]
  },
  {
   "cell_type": "code",
   "execution_count": null,
   "metadata": {},
   "outputs": [],
   "source": []
  }
 ],
 "metadata": {
  "anaconda-cloud": {},
  "hide_input": false,
  "kernelspec": {
   "display_name": "Python 3",
   "language": "python",
   "name": "python3"
  },
  "language_info": {
   "codemirror_mode": {
    "name": "ipython",
    "version": 3
   },
   "file_extension": ".py",
   "mimetype": "text/x-python",
   "name": "python",
   "nbconvert_exporter": "python",
   "pygments_lexer": "ipython3",
   "version": "3.7.0"
  },
  "toc": {
   "base_numbering": 1,
   "nav_menu": {
    "height": "138px",
    "width": "252px"
   },
   "number_sections": true,
   "sideBar": true,
   "skip_h1_title": false,
   "title_cell": "Table of Contents",
   "title_sidebar": "Contents",
   "toc_cell": true,
   "toc_position": {},
   "toc_section_display": "block",
   "toc_window_display": false
  },
  "varInspector": {
   "cols": {
    "lenName": 16,
    "lenType": 16,
    "lenVar": 40
   },
   "kernels_config": {
    "python": {
     "delete_cmd_postfix": "",
     "delete_cmd_prefix": "del ",
     "library": "var_list.py",
     "varRefreshCmd": "print(var_dic_list())"
    },
    "r": {
     "delete_cmd_postfix": ") ",
     "delete_cmd_prefix": "rm(",
     "library": "var_list.r",
     "varRefreshCmd": "cat(var_dic_list()) "
    }
   },
   "types_to_exclude": [
    "module",
    "function",
    "builtin_function_or_method",
    "instance",
    "_Feature"
   ],
   "window_display": false
  }
 },
 "nbformat": 4,
 "nbformat_minor": 1
}

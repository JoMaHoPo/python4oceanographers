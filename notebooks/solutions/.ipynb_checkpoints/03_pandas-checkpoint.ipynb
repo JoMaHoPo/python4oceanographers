{
 "cells": [
  {
   "cell_type": "markdown",
   "metadata": {
    "toc": true
   },
   "source": [
    "<h1>Table of Contents<span class=\"tocSkip\"></span></h1>\n",
    "<div class=\"toc\"><ul class=\"toc-item\"><li><span><a href=\"#Intoduction-to-Pandas\" data-toc-modified-id=\"Intoduction-to-Pandas-1\"><span class=\"toc-item-num\">1&nbsp;&nbsp;</span>Intoduction to Pandas</a></span></li><li><span><a href=\"#Loading-and-working-with-data\" data-toc-modified-id=\"Loading-and-working-with-data-2\"><span class=\"toc-item-num\">2&nbsp;&nbsp;</span>Loading and working with data</a></span><ul class=\"toc-item\"><li><span><a href=\"#Fixing-the-headers-with-re\" data-toc-modified-id=\"Fixing-the-headers-with-re-2.1\"><span class=\"toc-item-num\">2.1&nbsp;&nbsp;</span>Fixing the headers with <code>re</code></a></span><ul class=\"toc-item\"><li><span><a href=\"#Creating-a-new-variable\" data-toc-modified-id=\"Creating-a-new-variable-2.1.1\"><span class=\"toc-item-num\">2.1.1&nbsp;&nbsp;</span>Creating a new variable</a></span></li><li><span><a href=\"#Plotting-in-pandas:-quick-and-easy\" data-toc-modified-id=\"Plotting-in-pandas:-quick-and-easy-2.1.2\"><span class=\"toc-item-num\">2.1.2&nbsp;&nbsp;</span>Plotting in pandas: quick and easy</a></span><ul class=\"toc-item\"><li><span><a href=\"#What-about-plotting-a-profile?\" data-toc-modified-id=\"What-about-plotting-a-profile?-2.1.2.1\"><span class=\"toc-item-num\">2.1.2.1&nbsp;&nbsp;</span>What about plotting a profile?</a></span></li></ul></li></ul></li><li><span><a href=\"#Indexing-with-pandas\" data-toc-modified-id=\"Indexing-with-pandas-2.2\"><span class=\"toc-item-num\">2.2&nbsp;&nbsp;</span>Indexing with <code>pandas</code></a></span><ul class=\"toc-item\"><li><span><a href=\"#Concept-of-indexing-with-boolean-array\" data-toc-modified-id=\"Concept-of-indexing-with-boolean-array-2.2.1\"><span class=\"toc-item-num\">2.2.1&nbsp;&nbsp;</span>Concept of indexing with boolean array</a></span></li><li><span><a href=\"#Indexing-in-a-dataframe\" data-toc-modified-id=\"Indexing-in-a-dataframe-2.2.2\"><span class=\"toc-item-num\">2.2.2&nbsp;&nbsp;</span>Indexing in a dataframe</a></span></li></ul></li><li><span><a href=\"#Running/Rolling/Moving-means\" data-toc-modified-id=\"Running/Rolling/Moving-means-2.3\"><span class=\"toc-item-num\">2.3&nbsp;&nbsp;</span>Running/Rolling/Moving means</a></span><ul class=\"toc-item\"><li><span><a href=\"#Numpy-way\" data-toc-modified-id=\"Numpy-way-2.3.1\"><span class=\"toc-item-num\">2.3.1&nbsp;&nbsp;</span>Numpy way</a></span></li><li><span><a href=\"#We-can-do-the-same-in-pandas\" data-toc-modified-id=\"We-can-do-the-same-in-pandas-2.3.2\"><span class=\"toc-item-num\">2.3.2&nbsp;&nbsp;</span>We can do the same in pandas</a></span></li></ul></li><li><span><a href=\"#Binning-the-data-into-1m-bins\" data-toc-modified-id=\"Binning-the-data-into-1m-bins-2.4\"><span class=\"toc-item-num\">2.4&nbsp;&nbsp;</span>Binning the data into 1m bins</a></span><ul class=\"toc-item\"><li><span><a href=\"#Group-the-data-by-depth\" data-toc-modified-id=\"Group-the-data-by-depth-2.4.1\"><span class=\"toc-item-num\">2.4.1&nbsp;&nbsp;</span>Group the data by depth</a></span></li><li><span><a href=\"#Plot-the-number-of-measurements-for-each-depth.\" data-toc-modified-id=\"Plot-the-number-of-measurements-for-each-depth.-2.4.2\"><span class=\"toc-item-num\">2.4.2&nbsp;&nbsp;</span>Plot the number of measurements for each depth.</a></span></li><li><span><a href=\"#Plot-the-average-salinity-by-depth\" data-toc-modified-id=\"Plot-the-average-salinity-by-depth-2.4.3\"><span class=\"toc-item-num\">2.4.3&nbsp;&nbsp;</span>Plot the average salinity by depth</a></span></li></ul></li></ul></li><li><span><a href=\"#Wave-glider-data-+-ship-pCO2\" data-toc-modified-id=\"Wave-glider-data-+-ship-pCO2-3\"><span class=\"toc-item-num\">3&nbsp;&nbsp;</span>Wave glider data + ship <em>p</em>CO<sub>2</sub></a></span><ul class=\"toc-item\"><li><span><a href=\"#Introduction\" data-toc-modified-id=\"Introduction-3.1\"><span class=\"toc-item-num\">3.1&nbsp;&nbsp;</span>Introduction</a></span><ul class=\"toc-item\"><li><span><a href=\"#Waveglider\" data-toc-modified-id=\"Waveglider-3.1.1\"><span class=\"toc-item-num\">3.1.1&nbsp;&nbsp;</span>Waveglider</a></span></li><li><span><a href=\"#Ship-data\" data-toc-modified-id=\"Ship-data-3.1.2\"><span class=\"toc-item-num\">3.1.2&nbsp;&nbsp;</span>Ship data</a></span></li></ul></li><li><span><a href=\"#Wave-Glider-data\" data-toc-modified-id=\"Wave-Glider-data-3.2\"><span class=\"toc-item-num\">3.2&nbsp;&nbsp;</span>Wave Glider data</a></span><ul class=\"toc-item\"><li><span><a href=\"#Plot-Wave-Glider-track\" data-toc-modified-id=\"Plot-Wave-Glider-track-3.2.1\"><span class=\"toc-item-num\">3.2.1&nbsp;&nbsp;</span>Plot Wave Glider track</a></span></li><li><span><a href=\"#Plot-resampled--$\\-f$CO$_2$-time-series\" data-toc-modified-id=\"Plot-resampled--$\\-f$CO$_2$-time-series-3.2.2\"><span class=\"toc-item-num\">3.2.2&nbsp;&nbsp;</span>Plot resampled  $\\ f$CO$_2$ time-series</a></span></li><li><span><a href=\"#Time-series-subplots-of-temperature/salinity-and-pCO2\" data-toc-modified-id=\"Time-series-subplots-of-temperature/salinity-and-pCO2-3.2.3\"><span class=\"toc-item-num\">3.2.3&nbsp;&nbsp;</span>Time-series subplots of temperature/salinity and pCO2</a></span></li></ul></li><li><span><a href=\"#Ship-based-Underway-pCO2\" data-toc-modified-id=\"Ship-based-Underway-pCO2-3.3\"><span class=\"toc-item-num\">3.3&nbsp;&nbsp;</span>Ship-based Underway pCO2</a></span><ul class=\"toc-item\"><li><span><a href=\"#Plot-ship-cruise-track\" data-toc-modified-id=\"Plot-ship-cruise-track-3.3.1\"><span class=\"toc-item-num\">3.3.1&nbsp;&nbsp;</span>Plot ship cruise track</a></span></li></ul></li></ul></li></ul></div>"
   ]
  },
  {
   "cell_type": "markdown",
   "metadata": {},
   "source": [
    "# Intoduction to Pandas\n",
    "<div style=\"float:left; width:45%;\">\n",
    "<img src=\"../../images/panda.gif\">\n",
    "</div>\n",
    "\n",
    "- Pandas is built on `numpy`\n",
    "- The main class you'll work with is called a `DataFrame` often abbreviated to `df`\n",
    "- If data has a column structure, it makes life a lot easier! You can call the column name using `df.Temperature`\n",
    "- Pandas read CSV and Excel files  \n",
    "- In this exercise we will learn how to read a CSV, do some basic stats, subset the data and then plot\n",
    "\n",
    "<br>\n",
    "\n",
    "<div style=\"clear:both; width:90%; margin-left:30px; margin-top: 100px;\">\n",
    "    Below is a cheat sheet from DataCamp\n",
    "    <a href=\"https://s3.amazonaws.com/assets.datacamp.com/blog_assets/PandasPythonForDataScience.pdf\">\n",
    "        <img src='https://api.ning.com/files/C5oySLeJLWY1o*iHM1XzvVl*4GgdVb6RHvdGg3m0tGQSa9I4CeXVfkKcJ3Symm6jLi33fBq-d1K5VzxhTL7Z5ZMjuo6xhWj7/pandas.PNG'>\n",
    "    </a>\n",
    "</div>"
   ]
  },
  {
   "cell_type": "code",
   "execution_count": 5,
   "metadata": {
    "ExecuteTime": {
     "end_time": "2018-03-13T08:36:53.777452Z",
     "start_time": "2018-03-13T08:36:52.845493Z"
    }
   },
   "outputs": [
    {
     "name": "stdout",
     "output_type": "stream",
     "text": [
      "Populating the interactive namespace from numpy and matplotlib\n",
      "    cell magic: %less_n <fname>\n"
     ]
    }
   ],
   "source": [
    "# equivalent to saying `from matplotlib.pylab import *`\n",
    "# but also ensures that plots are shown in the notebook\n",
    "%pylab inline  \n",
    "\n",
    "# the following are standard practice abbreviations for packages\n",
    "# I highly recommend that you follow these\n",
    "import pandas as pd\n",
    "import numpy as np  # imported with %pylab\n",
    "import matplotlib.pyplot as plt  # imported with %pylab\n",
    "\n",
    "from __future__ import print_function\n",
    "\n",
    "import sys\n",
    "sys.path.insert(0, '../../scripts/')\n",
    "import cell_magic"
   ]
  },
  {
   "cell_type": "markdown",
   "metadata": {},
   "source": [
    "Basic structure of `pd.DataFrames` and `pd.Series`"
   ]
  },
  {
   "cell_type": "code",
   "execution_count": null,
   "metadata": {
    "ExecuteTime": {
     "end_time": "2018-03-13T08:36:59.711495Z",
     "start_time": "2018-03-13T08:36:59.625950Z"
    }
   },
   "outputs": [],
   "source": [
    "pd.DataFrame?"
   ]
  },
  {
   "cell_type": "code",
   "execution_count": null,
   "metadata": {
    "ExecuteTime": {
     "end_time": "2018-03-13T08:37:47.087632Z",
     "start_time": "2018-03-13T08:37:47.073751Z"
    }
   },
   "outputs": [],
   "source": [
    "pd.Series?"
   ]
  },
  {
   "cell_type": "markdown",
   "metadata": {},
   "source": [
    "# Loading and working with data\n",
    "Viewing the data, indexing etc..."
   ]
  },
  {
   "cell_type": "code",
   "execution_count": 10,
   "metadata": {
    "collapsed": true
   },
   "outputs": [
    {
     "ename": "ValueError",
     "evalue": "could not convert string to float: 'True'",
     "output_type": "error",
     "traceback": [
      "\u001b[0;31m---------------------------------------------------------------------------\u001b[0m",
      "\u001b[0;31mValueError\u001b[0m                                Traceback (most recent call last)",
      "\u001b[0;32m<ipython-input-10-2009443485a9>\u001b[0m in \u001b[0;36m<module>\u001b[0;34m()\u001b[0m\n\u001b[0;32m----> 1\u001b[0;31m \u001b[0mnp\u001b[0m\u001b[0;34m.\u001b[0m\u001b[0mloadtxt\u001b[0m\u001b[0;34m(\u001b[0m\u001b[0;34m'../../data/CTD/01_SANAE53_CTD_007.csv'\u001b[0m\u001b[0;34m,\u001b[0m \u001b[0mdelimiter\u001b[0m\u001b[0;34m=\u001b[0m\u001b[0;34m','\u001b[0m\u001b[0;34m,\u001b[0m \u001b[0mskiprows\u001b[0m\u001b[0;34m=\u001b[0m\u001b[0;36m3\u001b[0m\u001b[0;34m)\u001b[0m\u001b[0;34m\u001b[0m\u001b[0m\n\u001b[0m",
      "\u001b[0;32m~/Dev/anaconda3/lib/python3.7/site-packages/numpy/lib/npyio.py\u001b[0m in \u001b[0;36mloadtxt\u001b[0;34m(fname, dtype, comments, delimiter, converters, skiprows, usecols, unpack, ndmin, encoding)\u001b[0m\n\u001b[1;32m   1099\u001b[0m         \u001b[0;31m# converting the data\u001b[0m\u001b[0;34m\u001b[0m\u001b[0;34m\u001b[0m\u001b[0m\n\u001b[1;32m   1100\u001b[0m         \u001b[0mX\u001b[0m \u001b[0;34m=\u001b[0m \u001b[0;32mNone\u001b[0m\u001b[0;34m\u001b[0m\u001b[0m\n\u001b[0;32m-> 1101\u001b[0;31m         \u001b[0;32mfor\u001b[0m \u001b[0mx\u001b[0m \u001b[0;32min\u001b[0m \u001b[0mread_data\u001b[0m\u001b[0;34m(\u001b[0m\u001b[0m_loadtxt_chunksize\u001b[0m\u001b[0;34m)\u001b[0m\u001b[0;34m:\u001b[0m\u001b[0;34m\u001b[0m\u001b[0m\n\u001b[0m\u001b[1;32m   1102\u001b[0m             \u001b[0;32mif\u001b[0m \u001b[0mX\u001b[0m \u001b[0;32mis\u001b[0m \u001b[0;32mNone\u001b[0m\u001b[0;34m:\u001b[0m\u001b[0;34m\u001b[0m\u001b[0m\n\u001b[1;32m   1103\u001b[0m                 \u001b[0mX\u001b[0m \u001b[0;34m=\u001b[0m \u001b[0mnp\u001b[0m\u001b[0;34m.\u001b[0m\u001b[0marray\u001b[0m\u001b[0;34m(\u001b[0m\u001b[0mx\u001b[0m\u001b[0;34m,\u001b[0m \u001b[0mdtype\u001b[0m\u001b[0;34m)\u001b[0m\u001b[0;34m\u001b[0m\u001b[0m\n",
      "\u001b[0;32m~/Dev/anaconda3/lib/python3.7/site-packages/numpy/lib/npyio.py\u001b[0m in \u001b[0;36mread_data\u001b[0;34m(chunk_size)\u001b[0m\n\u001b[1;32m   1026\u001b[0m \u001b[0;34m\u001b[0m\u001b[0m\n\u001b[1;32m   1027\u001b[0m             \u001b[0;31m# Convert each value according to its column and store\u001b[0m\u001b[0;34m\u001b[0m\u001b[0;34m\u001b[0m\u001b[0m\n\u001b[0;32m-> 1028\u001b[0;31m             \u001b[0mitems\u001b[0m \u001b[0;34m=\u001b[0m \u001b[0;34m[\u001b[0m\u001b[0mconv\u001b[0m\u001b[0;34m(\u001b[0m\u001b[0mval\u001b[0m\u001b[0;34m)\u001b[0m \u001b[0;32mfor\u001b[0m \u001b[0;34m(\u001b[0m\u001b[0mconv\u001b[0m\u001b[0;34m,\u001b[0m \u001b[0mval\u001b[0m\u001b[0;34m)\u001b[0m \u001b[0;32min\u001b[0m \u001b[0mzip\u001b[0m\u001b[0;34m(\u001b[0m\u001b[0mconverters\u001b[0m\u001b[0;34m,\u001b[0m \u001b[0mvals\u001b[0m\u001b[0;34m)\u001b[0m\u001b[0;34m]\u001b[0m\u001b[0;34m\u001b[0m\u001b[0m\n\u001b[0m\u001b[1;32m   1029\u001b[0m \u001b[0;34m\u001b[0m\u001b[0m\n\u001b[1;32m   1030\u001b[0m             \u001b[0;31m# Then pack it according to the dtype's nesting\u001b[0m\u001b[0;34m\u001b[0m\u001b[0;34m\u001b[0m\u001b[0m\n",
      "\u001b[0;32m~/Dev/anaconda3/lib/python3.7/site-packages/numpy/lib/npyio.py\u001b[0m in \u001b[0;36m<listcomp>\u001b[0;34m(.0)\u001b[0m\n\u001b[1;32m   1026\u001b[0m \u001b[0;34m\u001b[0m\u001b[0m\n\u001b[1;32m   1027\u001b[0m             \u001b[0;31m# Convert each value according to its column and store\u001b[0m\u001b[0;34m\u001b[0m\u001b[0;34m\u001b[0m\u001b[0m\n\u001b[0;32m-> 1028\u001b[0;31m             \u001b[0mitems\u001b[0m \u001b[0;34m=\u001b[0m \u001b[0;34m[\u001b[0m\u001b[0mconv\u001b[0m\u001b[0;34m(\u001b[0m\u001b[0mval\u001b[0m\u001b[0;34m)\u001b[0m \u001b[0;32mfor\u001b[0m \u001b[0;34m(\u001b[0m\u001b[0mconv\u001b[0m\u001b[0;34m,\u001b[0m \u001b[0mval\u001b[0m\u001b[0;34m)\u001b[0m \u001b[0;32min\u001b[0m \u001b[0mzip\u001b[0m\u001b[0;34m(\u001b[0m\u001b[0mconverters\u001b[0m\u001b[0;34m,\u001b[0m \u001b[0mvals\u001b[0m\u001b[0;34m)\u001b[0m\u001b[0;34m]\u001b[0m\u001b[0;34m\u001b[0m\u001b[0m\n\u001b[0m\u001b[1;32m   1029\u001b[0m \u001b[0;34m\u001b[0m\u001b[0m\n\u001b[1;32m   1030\u001b[0m             \u001b[0;31m# Then pack it according to the dtype's nesting\u001b[0m\u001b[0;34m\u001b[0m\u001b[0;34m\u001b[0m\u001b[0m\n",
      "\u001b[0;32m~/Dev/anaconda3/lib/python3.7/site-packages/numpy/lib/npyio.py\u001b[0m in \u001b[0;36mfloatconv\u001b[0;34m(x)\u001b[0m\n\u001b[1;32m    744\u001b[0m         \u001b[0;32mif\u001b[0m \u001b[0;34m'0x'\u001b[0m \u001b[0;32min\u001b[0m \u001b[0mx\u001b[0m\u001b[0;34m:\u001b[0m\u001b[0;34m\u001b[0m\u001b[0m\n\u001b[1;32m    745\u001b[0m             \u001b[0;32mreturn\u001b[0m \u001b[0mfloat\u001b[0m\u001b[0;34m.\u001b[0m\u001b[0mfromhex\u001b[0m\u001b[0;34m(\u001b[0m\u001b[0mx\u001b[0m\u001b[0;34m)\u001b[0m\u001b[0;34m\u001b[0m\u001b[0m\n\u001b[0;32m--> 746\u001b[0;31m         \u001b[0;32mreturn\u001b[0m \u001b[0mfloat\u001b[0m\u001b[0;34m(\u001b[0m\u001b[0mx\u001b[0m\u001b[0;34m)\u001b[0m\u001b[0;34m\u001b[0m\u001b[0m\n\u001b[0m\u001b[1;32m    747\u001b[0m \u001b[0;34m\u001b[0m\u001b[0m\n\u001b[1;32m    748\u001b[0m     \u001b[0mtyp\u001b[0m \u001b[0;34m=\u001b[0m \u001b[0mdtype\u001b[0m\u001b[0;34m.\u001b[0m\u001b[0mtype\u001b[0m\u001b[0;34m\u001b[0m\u001b[0m\n",
      "\u001b[0;31mValueError\u001b[0m: could not convert string to float: 'True'"
     ]
    }
   ],
   "source": [
    "np.loadtxt('../../data/CTD/01_SANAE53_CTD_007.csv', delimiter=',', skiprows=3)"
   ]
  },
  {
   "cell_type": "code",
   "execution_count": 17,
   "metadata": {
    "ExecuteTime": {
     "end_time": "2018-03-13T08:41:35.809924Z",
     "start_time": "2018-03-13T08:41:35.543266Z"
    }
   },
   "outputs": [
    {
     "data": {
      "text/html": [
       "<div>\n",
       "<style scoped>\n",
       "    .dataframe tbody tr th:only-of-type {\n",
       "        vertical-align: middle;\n",
       "    }\n",
       "\n",
       "    .dataframe tbody tr th {\n",
       "        vertical-align: top;\n",
       "    }\n",
       "\n",
       "    .dataframe thead th {\n",
       "        text-align: right;\n",
       "    }\n",
       "</style>\n",
       "<table border=\"1\" class=\"dataframe\">\n",
       "  <thead>\n",
       "    <tr style=\"text-align: right;\">\n",
       "      <th></th>\n",
       "      <th>Pressure [dbar]</th>\n",
       "      <th>depSM</th>\n",
       "      <th>t090C</th>\n",
       "      <th>c0S/m</th>\n",
       "      <th>sal00</th>\n",
       "      <th>sbeox0ML/L</th>\n",
       "      <th>upoly0</th>\n",
       "      <th>bat</th>\n",
       "      <th>xmiss</th>\n",
       "      <th>bat1</th>\n",
       "      <th>...</th>\n",
       "      <th>v2</th>\n",
       "      <th>v3</th>\n",
       "      <th>v4</th>\n",
       "      <th>v5</th>\n",
       "      <th>v6</th>\n",
       "      <th>v7</th>\n",
       "      <th>sigma-t00</th>\n",
       "      <th>svCM</th>\n",
       "      <th>sal00.1</th>\n",
       "      <th>flag</th>\n",
       "    </tr>\n",
       "    <tr>\n",
       "      <th>Scan</th>\n",
       "      <th></th>\n",
       "      <th></th>\n",
       "      <th></th>\n",
       "      <th></th>\n",
       "      <th></th>\n",
       "      <th></th>\n",
       "      <th></th>\n",
       "      <th></th>\n",
       "      <th></th>\n",
       "      <th></th>\n",
       "      <th></th>\n",
       "      <th></th>\n",
       "      <th></th>\n",
       "      <th></th>\n",
       "      <th></th>\n",
       "      <th></th>\n",
       "      <th></th>\n",
       "      <th></th>\n",
       "      <th></th>\n",
       "      <th></th>\n",
       "      <th></th>\n",
       "    </tr>\n",
       "  </thead>\n",
       "  <tbody>\n",
       "    <tr>\n",
       "      <th>1.0</th>\n",
       "      <td>1.443</td>\n",
       "      <td>1.394</td>\n",
       "      <td>-1.0839</td>\n",
       "      <td>2.728542</td>\n",
       "      <td>33.8711</td>\n",
       "      <td>7.49855</td>\n",
       "      <td>0.012773</td>\n",
       "      <td>0.1495</td>\n",
       "      <td>96.3303</td>\n",
       "      <td>0.3266</td>\n",
       "      <td>...</td>\n",
       "      <td>4.5201</td>\n",
       "      <td>4.3724</td>\n",
       "      <td>0.0794</td>\n",
       "      <td>0.2015</td>\n",
       "      <td>3.2625</td>\n",
       "      <td>4.9389</td>\n",
       "      <td>27.2415</td>\n",
       "      <td>1442.60</td>\n",
       "      <td>33.8711</td>\n",
       "      <td>True</td>\n",
       "    </tr>\n",
       "    <tr>\n",
       "      <th>2.0</th>\n",
       "      <td>1.452</td>\n",
       "      <td>1.500</td>\n",
       "      <td>-1.0864</td>\n",
       "      <td>2.728533</td>\n",
       "      <td>33.8739</td>\n",
       "      <td>7.50447</td>\n",
       "      <td>0.012773</td>\n",
       "      <td>0.1506</td>\n",
       "      <td>96.3043</td>\n",
       "      <td>0.3311</td>\n",
       "      <td>...</td>\n",
       "      <td>4.5189</td>\n",
       "      <td>4.3675</td>\n",
       "      <td>0.0806</td>\n",
       "      <td>0.2015</td>\n",
       "      <td>3.2650</td>\n",
       "      <td>4.9389</td>\n",
       "      <td>27.2437</td>\n",
       "      <td>1442.59</td>\n",
       "      <td>33.8738</td>\n",
       "      <td>True</td>\n",
       "    </tr>\n",
       "    <tr>\n",
       "      <th>3.0</th>\n",
       "      <td>1.461</td>\n",
       "      <td>1.337</td>\n",
       "      <td>-1.0864</td>\n",
       "      <td>2.728522</td>\n",
       "      <td>33.8737</td>\n",
       "      <td>7.50508</td>\n",
       "      <td>0.012773</td>\n",
       "      <td>0.1495</td>\n",
       "      <td>96.3303</td>\n",
       "      <td>0.3311</td>\n",
       "      <td>...</td>\n",
       "      <td>4.5201</td>\n",
       "      <td>4.3675</td>\n",
       "      <td>0.0806</td>\n",
       "      <td>0.2015</td>\n",
       "      <td>3.2784</td>\n",
       "      <td>4.9389</td>\n",
       "      <td>27.2436</td>\n",
       "      <td>1442.59</td>\n",
       "      <td>33.8737</td>\n",
       "      <td>True</td>\n",
       "    </tr>\n",
       "    <tr>\n",
       "      <th>4.0</th>\n",
       "      <td>1.471</td>\n",
       "      <td>1.606</td>\n",
       "      <td>-1.0836</td>\n",
       "      <td>2.728513</td>\n",
       "      <td>33.8703</td>\n",
       "      <td>7.50565</td>\n",
       "      <td>0.012773</td>\n",
       "      <td>0.1506</td>\n",
       "      <td>96.3043</td>\n",
       "      <td>0.3311</td>\n",
       "      <td>...</td>\n",
       "      <td>4.5189</td>\n",
       "      <td>4.3675</td>\n",
       "      <td>0.0806</td>\n",
       "      <td>0.2015</td>\n",
       "      <td>3.2845</td>\n",
       "      <td>4.9389</td>\n",
       "      <td>27.2408</td>\n",
       "      <td>1442.60</td>\n",
       "      <td>33.8704</td>\n",
       "      <td>True</td>\n",
       "    </tr>\n",
       "    <tr>\n",
       "      <th>5.0</th>\n",
       "      <td>1.476</td>\n",
       "      <td>1.451</td>\n",
       "      <td>-1.0820</td>\n",
       "      <td>2.728506</td>\n",
       "      <td>33.8684</td>\n",
       "      <td>7.50595</td>\n",
       "      <td>0.012773</td>\n",
       "      <td>0.1495</td>\n",
       "      <td>96.3303</td>\n",
       "      <td>0.3300</td>\n",
       "      <td>...</td>\n",
       "      <td>4.5201</td>\n",
       "      <td>4.3687</td>\n",
       "      <td>0.0806</td>\n",
       "      <td>0.2015</td>\n",
       "      <td>3.2882</td>\n",
       "      <td>4.9389</td>\n",
       "      <td>27.2392</td>\n",
       "      <td>1442.60</td>\n",
       "      <td>33.8685</td>\n",
       "      <td>True</td>\n",
       "    </tr>\n",
       "  </tbody>\n",
       "</table>\n",
       "<p>5 rows × 27 columns</p>\n",
       "</div>"
      ],
      "text/plain": [
       "         Pressure [dbar]     depSM               t090C    c0S/m               \\\n",
       "Scan                                                                           \n",
       "1.0                   1.443               1.394  -1.0839            2.728542   \n",
       "2.0                   1.452               1.500  -1.0864            2.728533   \n",
       "3.0                   1.461               1.337  -1.0864            2.728522   \n",
       "4.0                   1.471               1.606  -1.0836            2.728513   \n",
       "5.0                   1.476               1.451  -1.0820            2.728506   \n",
       "\n",
       "         sal00    sbeox0ML/L          upoly0                bat        \\\n",
       "Scan                                                                    \n",
       "1.0      33.8711             7.49855              0.012773     0.1495   \n",
       "2.0      33.8739             7.50447              0.012773     0.1506   \n",
       "3.0      33.8737             7.50508              0.012773     0.1495   \n",
       "4.0      33.8703             7.50565              0.012773     0.1506   \n",
       "5.0      33.8684             7.50595              0.012773     0.1495   \n",
       "\n",
       "         xmiss      bat1       ...   v2         v3         v4         \\\n",
       "Scan                           ...                                     \n",
       "1.0        96.3303     0.3266  ...      4.5201     4.3724     0.0794   \n",
       "2.0        96.3043     0.3311  ...      4.5189     4.3675     0.0806   \n",
       "3.0        96.3303     0.3311  ...      4.5201     4.3675     0.0806   \n",
       "4.0        96.3043     0.3311  ...      4.5189     4.3675     0.0806   \n",
       "5.0        96.3303     0.3300  ...      4.5201     4.3687     0.0806   \n",
       "\n",
       "         v5         v6         v7         sigma-t00  svCM     sal00.1  flag  \n",
       "Scan                                                                         \n",
       "1.0         0.2015     3.2625     4.9389    27.2415  1442.60  33.8711  True  \n",
       "2.0         0.2015     3.2650     4.9389    27.2437  1442.59  33.8738  True  \n",
       "3.0         0.2015     3.2784     4.9389    27.2436  1442.59  33.8737  True  \n",
       "4.0         0.2015     3.2845     4.9389    27.2408  1442.60  33.8704  True  \n",
       "5.0         0.2015     3.2882     4.9389    27.2392  1442.60  33.8685  True  \n",
       "\n",
       "[5 rows x 27 columns]"
      ]
     },
     "execution_count": 17,
     "metadata": {},
     "output_type": "execute_result"
    }
   ],
   "source": [
    "df = pd.read_csv('../../data/CTD/01_SANAE53_CTD_007.csv', index_col=0)\n",
    "df.head()"
   ]
  },
  {
   "cell_type": "code",
   "execution_count": 13,
   "metadata": {
    "scrolled": true
   },
   "outputs": [
    {
     "data": {
      "text/plain": [
       "Float64Index([    1.0,     2.0,     3.0,     4.0,     5.0,     6.0,     7.0,\n",
       "                  8.0,     9.0,    10.0,\n",
       "              ...\n",
       "              36585.0, 36586.0, 36587.0, 36588.0, 36589.0, 36590.0, 36591.0,\n",
       "              36592.0, 36593.0, 36594.0],\n",
       "             dtype='float64', name='Scan   ', length=36594)"
      ]
     },
     "execution_count": 13,
     "metadata": {},
     "output_type": "execute_result"
    }
   ],
   "source": [
    "df.index"
   ]
  },
  {
   "cell_type": "code",
   "execution_count": 14,
   "metadata": {},
   "outputs": [
    {
     "data": {
      "text/plain": [
       "Index(['Pressure [dbar]   ', 'depSM             ', 't090C  ',\n",
       "       'c0S/m             ', 'sal00  ', 'sbeox0ML/L        ',\n",
       "       'upoly0              ', 'bat      ', 'xmiss    ', 'bat1     ',\n",
       "       'xmiss1   ', 'flECO-AFL', 'upoly1              ',\n",
       "       'par                  ', 'spar     ', 'v0       ', 'v1       ',\n",
       "       'v2       ', 'v3       ', 'v4       ', 'v5       ', 'v6       ',\n",
       "       'v7       ', 'sigma-t00', 'svCM   ', 'sal00.1', 'flag'],\n",
       "      dtype='object')"
      ]
     },
     "execution_count": 14,
     "metadata": {},
     "output_type": "execute_result"
    }
   ],
   "source": [
    "df.columns"
   ]
  },
  {
   "cell_type": "code",
   "execution_count": 18,
   "metadata": {},
   "outputs": [
    {
     "ename": "AttributeError",
     "evalue": "'DataFrame' object has no attribute 'Pressure'",
     "output_type": "error",
     "traceback": [
      "\u001b[0;31m---------------------------------------------------------------------------\u001b[0m",
      "\u001b[0;31mAttributeError\u001b[0m                            Traceback (most recent call last)",
      "\u001b[0;32m<ipython-input-18-64dd3c4790ac>\u001b[0m in \u001b[0;36m<module>\u001b[0;34m()\u001b[0m\n\u001b[0;32m----> 1\u001b[0;31m \u001b[0mdf\u001b[0m\u001b[0;34m.\u001b[0m\u001b[0mPressure\u001b[0m \u001b[0;34m[\u001b[0m\u001b[0mdbar\u001b[0m\u001b[0;34m]\u001b[0m\u001b[0;34m\u001b[0m\u001b[0m\n\u001b[0m",
      "\u001b[0;32m~/Dev/anaconda3/lib/python3.7/site-packages/pandas/core/generic.py\u001b[0m in \u001b[0;36m__getattr__\u001b[0;34m(self, name)\u001b[0m\n\u001b[1;32m   4374\u001b[0m             \u001b[0;32mif\u001b[0m \u001b[0mself\u001b[0m\u001b[0;34m.\u001b[0m\u001b[0m_info_axis\u001b[0m\u001b[0;34m.\u001b[0m\u001b[0m_can_hold_identifiers_and_holds_name\u001b[0m\u001b[0;34m(\u001b[0m\u001b[0mname\u001b[0m\u001b[0;34m)\u001b[0m\u001b[0;34m:\u001b[0m\u001b[0;34m\u001b[0m\u001b[0m\n\u001b[1;32m   4375\u001b[0m                 \u001b[0;32mreturn\u001b[0m \u001b[0mself\u001b[0m\u001b[0;34m[\u001b[0m\u001b[0mname\u001b[0m\u001b[0;34m]\u001b[0m\u001b[0;34m\u001b[0m\u001b[0m\n\u001b[0;32m-> 4376\u001b[0;31m             \u001b[0;32mreturn\u001b[0m \u001b[0mobject\u001b[0m\u001b[0;34m.\u001b[0m\u001b[0m__getattribute__\u001b[0m\u001b[0;34m(\u001b[0m\u001b[0mself\u001b[0m\u001b[0;34m,\u001b[0m \u001b[0mname\u001b[0m\u001b[0;34m)\u001b[0m\u001b[0;34m\u001b[0m\u001b[0m\n\u001b[0m\u001b[1;32m   4377\u001b[0m \u001b[0;34m\u001b[0m\u001b[0m\n\u001b[1;32m   4378\u001b[0m     \u001b[0;32mdef\u001b[0m \u001b[0m__setattr__\u001b[0m\u001b[0;34m(\u001b[0m\u001b[0mself\u001b[0m\u001b[0;34m,\u001b[0m \u001b[0mname\u001b[0m\u001b[0;34m,\u001b[0m \u001b[0mvalue\u001b[0m\u001b[0;34m)\u001b[0m\u001b[0;34m:\u001b[0m\u001b[0;34m\u001b[0m\u001b[0m\n",
      "\u001b[0;31mAttributeError\u001b[0m: 'DataFrame' object has no attribute 'Pressure'"
     ]
    }
   ],
   "source": [
    "df.Pressure [dbar]   "
   ]
  },
  {
   "cell_type": "code",
   "execution_count": 15,
   "metadata": {},
   "outputs": [
    {
     "data": {
      "text/plain": [
       "Scan   \n",
       "1.0        True\n",
       "2.0        True\n",
       "3.0        True\n",
       "4.0        True\n",
       "5.0        True\n",
       "6.0        True\n",
       "7.0        True\n",
       "8.0        True\n",
       "9.0        True\n",
       "10.0       True\n",
       "11.0       True\n",
       "12.0       True\n",
       "13.0       True\n",
       "14.0       True\n",
       "15.0       True\n",
       "16.0       True\n",
       "17.0       True\n",
       "18.0       True\n",
       "19.0       True\n",
       "20.0       True\n",
       "21.0       True\n",
       "22.0       True\n",
       "23.0       True\n",
       "24.0       True\n",
       "25.0       True\n",
       "26.0       True\n",
       "27.0       True\n",
       "28.0       True\n",
       "29.0       True\n",
       "30.0       True\n",
       "           ... \n",
       "36565.0    True\n",
       "36566.0    True\n",
       "36567.0    True\n",
       "36568.0    True\n",
       "36569.0    True\n",
       "36570.0    True\n",
       "36571.0    True\n",
       "36572.0    True\n",
       "36573.0    True\n",
       "36574.0    True\n",
       "36575.0    True\n",
       "36576.0    True\n",
       "36577.0    True\n",
       "36578.0    True\n",
       "36579.0    True\n",
       "36580.0    True\n",
       "36581.0    True\n",
       "36582.0    True\n",
       "36583.0    True\n",
       "36584.0    True\n",
       "36585.0    True\n",
       "36586.0    True\n",
       "36587.0    True\n",
       "36588.0    True\n",
       "36589.0    True\n",
       "36590.0    True\n",
       "36591.0    True\n",
       "36592.0    True\n",
       "36593.0    True\n",
       "36594.0    True\n",
       "Name: flag, Length: 36594, dtype: bool"
      ]
     },
     "execution_count": 15,
     "metadata": {},
     "output_type": "execute_result"
    }
   ],
   "source": [
    "df.flag"
   ]
  },
  {
   "cell_type": "code",
   "execution_count": null,
   "metadata": {},
   "outputs": [],
   "source": [
    "df['Pressure [dbar]   ']  # use dictionary notation to access any header (returns a Series)"
   ]
  },
  {
   "cell_type": "markdown",
   "metadata": {},
   "source": [
    "## Fixing the headers with `re`\n",
    "\n",
    "**Are the headers broken? Why fix them?**  \n",
    "`pandas.DataFrame`s allow us to interactively call the data without using `dict`ionary notation `dict['key']`. We can simply use `df.varname`, but this only works if the headers are correctly formatted, with no `/`, `-`, `.`, etc.\n",
    "\n",
    "\n",
    "\n",
    "**`r`egular `e`xpressions** is a very powerful string manipulation tool\n",
    "we use it here to substitute all special characters\n",
    "The pattern below does the following:\n",
    "    \n",
    "     []  match any of the characters inside brackets\n",
    "      ^  doesn't match\n",
    "    A-Z  match upper case\n",
    "    a-z  match lower case\n",
    "    0-9  any digit\n",
    "      +  1 or more occurances"
   ]
  },
  {
   "cell_type": "code",
   "execution_count": 19,
   "metadata": {
    "ExecuteTime": {
     "end_time": "2018-03-13T08:39:44.258123Z",
     "start_time": "2018-03-13T08:39:44.252129Z"
    }
   },
   "outputs": [
    {
     "name": "stdout",
     "output_type": "stream",
     "text": [
      "['Pressuredbar', 'depSM', 't090C', 'c0Sm', 'sal00', 'sbeox0MLL', 'upoly0', 'bat', 'xmiss', 'bat1', 'xmiss1', 'flECOAFL', 'upoly1', 'par', 'spar', 'v0', 'v1', 'v2', 'v3', 'v4', 'v5', 'v6', 'v7', 'sigmat00', 'svCM', 'sal001', 'flag']\n"
     ]
    }
   ],
   "source": [
    "# treat this as a black box that you can use to fix your column headers\n",
    "# you can make this a function if we want and place it in a script \n",
    "# to call it in the future\n",
    "\n",
    "import re\n",
    "\n",
    "pattern = '[^A-Za-z0-9]+'\n",
    "cols = [re.sub(pattern, '', c) for c in df.columns]\n",
    "print(cols)\n",
    "\n",
    "df.columns = cols"
   ]
  },
  {
   "cell_type": "code",
   "execution_count": 23,
   "metadata": {},
   "outputs": [
    {
     "data": {
      "text/plain": [
       "count    36594.000000\n",
       "mean        34.411987\n",
       "std          0.188905\n",
       "min         33.843800\n",
       "25%         34.317800\n",
       "50%         34.357300\n",
       "75%         34.611400\n",
       "max         34.669700\n",
       "Name: sal00, dtype: float64"
      ]
     },
     "execution_count": 23,
     "metadata": {},
     "output_type": "execute_result"
    }
   ],
   "source": [
    "df.sal00.describe()  # a quick statistical description of the data"
   ]
  },
  {
   "cell_type": "markdown",
   "metadata": {},
   "source": [
    "### Creating a new variable"
   ]
  },
  {
   "cell_type": "code",
   "execution_count": 24,
   "metadata": {
    "ExecuteTime": {
     "end_time": "2018-03-13T08:43:02.804098Z",
     "start_time": "2018-03-13T08:43:02.797386Z"
    }
   },
   "outputs": [],
   "source": [
    "df['Dates'] = np.datetime64('2010-01-01')"
   ]
  },
  {
   "cell_type": "code",
   "execution_count": 31,
   "metadata": {},
   "outputs": [
    {
     "data": {
      "text/plain": [
       "Scan   \n",
       "1.0       NaN\n",
       "2.0       NaN\n",
       "3.0       NaN\n",
       "4.0       NaN\n",
       "5.0       NaN\n",
       "6.0       NaN\n",
       "7.0       NaN\n",
       "8.0       NaN\n",
       "9.0       NaN\n",
       "10.0      NaN\n",
       "11.0      NaN\n",
       "12.0      NaN\n",
       "13.0      NaN\n",
       "14.0      NaN\n",
       "15.0      NaN\n",
       "16.0      NaN\n",
       "17.0      NaN\n",
       "18.0      NaN\n",
       "19.0      NaN\n",
       "20.0      NaN\n",
       "21.0      NaN\n",
       "22.0      NaN\n",
       "23.0      NaN\n",
       "24.0      NaN\n",
       "25.0      NaN\n",
       "26.0      NaN\n",
       "27.0      NaN\n",
       "28.0      NaN\n",
       "29.0      NaN\n",
       "30.0      NaN\n",
       "           ..\n",
       "36565.0   NaN\n",
       "36566.0   NaN\n",
       "36567.0   NaN\n",
       "36568.0   NaN\n",
       "36569.0   NaN\n",
       "36570.0   NaN\n",
       "36571.0   NaN\n",
       "36572.0   NaN\n",
       "36573.0   NaN\n",
       "36574.0   NaN\n",
       "36575.0   NaN\n",
       "36576.0   NaN\n",
       "36577.0   NaN\n",
       "36578.0   NaN\n",
       "36579.0   NaN\n",
       "36580.0   NaN\n",
       "36581.0   NaN\n",
       "36582.0   NaN\n",
       "36583.0   NaN\n",
       "36584.0   NaN\n",
       "36585.0   NaN\n",
       "36586.0   NaN\n",
       "36587.0   NaN\n",
       "36588.0   NaN\n",
       "36589.0   NaN\n",
       "36590.0   NaN\n",
       "36591.0   NaN\n",
       "36592.0   NaN\n",
       "36593.0   NaN\n",
       "36594.0   NaN\n",
       "Name: blank, Length: 36594, dtype: float64"
      ]
     },
     "execution_count": 31,
     "metadata": {},
     "output_type": "execute_result"
    }
   ],
   "source": [
    "df['blank'] = np.nan  # this is an entry into the dataframe\n",
    "# we can apply all the functions for a series to `blank`\n",
    "df.blank"
   ]
  },
  {
   "cell_type": "code",
   "execution_count": 28,
   "metadata": {},
   "outputs": [],
   "source": [
    "df.board = 2  # do not do this. \n",
    "# this is not a series in the dataframe, but a property of the object\n",
    "df.board  "
   ]
  },
  {
   "cell_type": "markdown",
   "metadata": {},
   "source": [
    "### Plotting in pandas: quick and easy"
   ]
  },
  {
   "cell_type": "code",
   "execution_count": 34,
   "metadata": {
    "ExecuteTime": {
     "end_time": "2018-03-13T08:44:10.794439Z",
     "start_time": "2018-03-13T08:44:10.590394Z"
    }
   },
   "outputs": [
    {
     "data": {
      "text/plain": [
       "Text(0.5,1,'CTD profile')"
      ]
     },
     "execution_count": 34,
     "metadata": {},
     "output_type": "execute_result"
    },
    {
     "data": {
      "image/png": "[encoded data removed]",
      "text/plain": [
       "<Figure size 432x288 with 1 Axes>"
      ]
     },
     "metadata": {
      "needs_background": "light"
     },
     "output_type": "display_data"
    }
   ],
   "source": [
    "ax = df.t090C.plot()\n",
    "ax.set_ylabel('Temperature')\n",
    "ax.set_title('CTD profile')"
   ]
  },
  {
   "cell_type": "markdown",
   "metadata": {},
   "source": [
    "**Let's plot dissolved oxygen column: `sbeox0ML/L`  **"
   ]
  },
  {
   "cell_type": "code",
   "execution_count": 35,
   "metadata": {
    "ExecuteTime": {
     "end_time": "2018-03-13T08:55:22.485372Z",
     "start_time": "2018-03-13T08:55:22.281898Z"
    }
   },
   "outputs": [
    {
     "data": {
      "text/plain": [
       "<matplotlib.axes._subplots.AxesSubplot at 0x3199129e8>"
      ]
     },
     "execution_count": 35,
     "metadata": {},
     "output_type": "execute_result"
    },
    {
     "data": {
      "image/png": "[encoded data removed]",
      "text/plain": [
       "<Figure size 432x288 with 1 Axes>"
      ]
     },
     "metadata": {
      "needs_background": "light"
     },
     "output_type": "display_data"
    }
   ],
   "source": [
    "df['sbeox0MLL'].plot()"
   ]
  },
  {
   "cell_type": "markdown",
   "metadata": {},
   "source": [
    "#### What about plotting a profile?"
   ]
  },
  {
   "cell_type": "code",
   "execution_count": 37,
   "metadata": {
    "ExecuteTime": {
     "end_time": "2018-03-13T09:00:09.406442Z",
     "start_time": "2018-03-13T09:00:09.181280Z"
    }
   },
   "outputs": [
    {
     "data": {
      "image/png": "[encoded data removed]",
      "text/plain": [
       "<Figure size 288x432 with 1 Axes>"
      ]
     },
     "metadata": {
      "needs_background": "light"
     },
     "output_type": "display_data"
    }
   ],
   "source": [
    "ax = df.plot.line(x='sbeox0MLL', y='depSM', figsize=[4, 6], ylim=[1000, 0], legend=False)\n",
    "\n",
    "ax.set_ylabel('test')\n",
    "\n",
    "fig = plt.gcf()\n",
    "fig.tight_layout()"
   ]
  },
  {
   "cell_type": "markdown",
   "metadata": {},
   "source": [
    "## Indexing with `pandas`\n",
    "\n",
    "1. Limit the data to the top 200 meters using the depth column. Note that it is best practice to use the `pd.Series.loc[row, col]` function. Look at the help of this function or read more about `pandas` indexing online: https://pandas.pydata.org/pandas-docs/stable/indexing.html\n",
    "2. Plot temperature by depth using pandas default plotting"
   ]
  },
  {
   "cell_type": "markdown",
   "metadata": {},
   "source": [
    "### Concept of indexing with boolean array"
   ]
  },
  {
   "cell_type": "code",
   "execution_count": 39,
   "metadata": {},
   "outputs": [
    {
     "data": {
      "text/plain": [
       "array([3, 6, 1, 8, 2, 0])"
      ]
     },
     "execution_count": 39,
     "metadata": {},
     "output_type": "execute_result"
    }
   ],
   "source": [
    "a  = np.array([3, 6, 1, 8, 2, 0])\n",
    "a"
   ]
  },
  {
   "cell_type": "code",
   "execution_count": 40,
   "metadata": {},
   "outputs": [
    {
     "data": {
      "text/plain": [
       "array([False,  True, False,  True, False, False])"
      ]
     },
     "execution_count": 40,
     "metadata": {},
     "output_type": "execute_result"
    }
   ],
   "source": [
    "mask = a > 5\n",
    "mask"
   ]
  },
  {
   "cell_type": "code",
   "execution_count": 41,
   "metadata": {},
   "outputs": [
    {
     "data": {
      "text/plain": [
       "array([6, 8])"
      ]
     },
     "execution_count": 41,
     "metadata": {},
     "output_type": "execute_result"
    }
   ],
   "source": [
    "a[mask]"
   ]
  },
  {
   "cell_type": "markdown",
   "metadata": {},
   "source": [
    "### Indexing in a dataframe"
   ]
  },
  {
   "cell_type": "code",
   "execution_count": 45,
   "metadata": {
    "ExecuteTime": {
     "end_time": "2018-03-13T09:54:23.173733Z",
     "start_time": "2018-03-13T09:54:23.137190Z"
    },
    "scrolled": true
   },
   "outputs": [],
   "source": [
    "df200 = 'dataframe limited to top 200m'\n",
    "\n",
    "i200 = df.depSM < 200\n",
    "df200 = df[i200]\n",
    "\n",
    "# alternate method\n",
    "df200 = df.loc[i200, :]"
   ]
  },
  {
   "cell_type": "code",
   "execution_count": 48,
   "metadata": {
    "ExecuteTime": {
     "end_time": "2018-03-13T09:56:05.644683Z",
     "start_time": "2018-03-13T09:56:05.434206Z"
    },
    "scrolled": false
   },
   "outputs": [
    {
     "data": {
      "text/plain": [
       "<matplotlib.axes._subplots.AxesSubplot at 0x319eb3b70>"
      ]
     },
     "execution_count": 48,
     "metadata": {},
     "output_type": "execute_result"
    },
    {
     "data": {
      "image/png": "[encoded data removed]",
      "text/plain": [
       "<Figure size 288x432 with 1 Axes>"
      ]
     },
     "metadata": {
      "needs_background": "light"
     },
     "output_type": "display_data"
    }
   ],
   "source": [
    "df200.plot(x='flECOAFL', y='depSM', \n",
    "           figsize=[4, 6], \n",
    "           ylim=[220, 0], \n",
    "           xlim=[-.2, 1.2],\n",
    "           title='CTD Fluorescence', \n",
    "           legend=False)"
   ]
  },
  {
   "cell_type": "markdown",
   "metadata": {},
   "source": [
    "## Running/Rolling/Moving means\n",
    "<img src=\"https://cdn-images-1.medium.com/max/1600/1*gRzEgnmJgUYYsuwOKzPpAw.png\">\n",
    "\n",
    "Smooth the data according to the rolling mean"
   ]
  },
  {
   "cell_type": "markdown",
   "metadata": {},
   "source": [
    "### Numpy way"
   ]
  },
  {
   "cell_type": "code",
   "execution_count": 51,
   "metadata": {
    "ExecuteTime": {
     "end_time": "2018-03-13T10:05:06.214553Z",
     "start_time": "2018-03-13T10:05:06.081584Z"
    }
   },
   "outputs": [],
   "source": [
    "window = 600  # 600 point rolling mean\n",
    "flr = df200['flECOAFL'].values  # how to access numpy array from pandas\n",
    "flr_mv_avg = np.zeros_like(flr) * np.nan  # create a blank array of nans\n",
    "\n",
    "# a complicated for loop \n",
    "for i0 in range(df200.shape[0] - window): \n",
    "    i1 = i0 + window\n",
    "    j = int(i0 + window / 2)\n",
    "    flr_mv_avg[j] = flr[i0:i1].mean()"
   ]
  },
  {
   "cell_type": "code",
   "execution_count": 52,
   "metadata": {
    "ExecuteTime": {
     "end_time": "2018-03-13T10:05:33.645463Z",
     "start_time": "2018-03-13T10:05:33.319547Z"
    }
   },
   "outputs": [
    {
     "data": {
      "text/plain": [
       "[<matplotlib.lines.Line2D at 0x31b885dd8>]"
      ]
     },
     "execution_count": 52,
     "metadata": {},
     "output_type": "execute_result"
    },
    {
     "data": {
      "image/png": "[encoded data removed]",
      "text/plain": [
       "<Figure size 648x288 with 1 Axes>"
      ]
     },
     "metadata": {
      "needs_background": "light"
     },
     "output_type": "display_data"
    }
   ],
   "source": [
    "figure(figsize=[9, 4])\n",
    "plot(flr, lw=4)\n",
    "plot(flr_mv_avg, lw=4)"
   ]
  },
  {
   "cell_type": "markdown",
   "metadata": {},
   "source": [
    "### We can do the same in pandas"
   ]
  },
  {
   "cell_type": "code",
   "execution_count": 67,
   "metadata": {},
   "outputs": [
    {
     "data": {
      "text/plain": [
       "0           NaN\n",
       "1           NaN\n",
       "2           NaN\n",
       "3     51.428571\n",
       "4     56.714286\n",
       "5     58.285714\n",
       "6     64.857143\n",
       "7     59.714286\n",
       "8     65.000000\n",
       "9     67.000000\n",
       "10    65.285714\n",
       "11    60.000000\n",
       "12    58.857143\n",
       "13    59.714286\n",
       "14    69.285714\n",
       "15    55.285714\n",
       "16    51.285714\n",
       "17          NaN\n",
       "18          NaN\n",
       "19          NaN\n",
       "dtype: float64"
      ]
     },
     "execution_count": 67,
     "metadata": {},
     "output_type": "execute_result"
    }
   ],
   "source": [
    "# an example of what roll does. Try this with center=True/False\n",
    "ser = pd.Series(np.random.randint(0, 100, size=20))\n",
    "ser.rolling(7, center=True).mean()"
   ]
  },
  {
   "cell_type": "code",
   "execution_count": 81,
   "metadata": {
    "ExecuteTime": {
     "end_time": "2018-03-13T10:13:38.532673Z",
     "start_time": "2018-03-13T10:13:38.528072Z"
    }
   },
   "outputs": [],
   "source": [
    "flr = df200['flECOAFL']\n",
    "roll = flr.rolling(600, center=True)  # create a rolling window object"
   ]
  },
  {
   "cell_type": "code",
   "execution_count": 89,
   "metadata": {
    "ExecuteTime": {
     "end_time": "2018-03-13T10:16:28.846471Z",
     "start_time": "2018-03-13T10:16:28.613169Z"
    }
   },
   "outputs": [
    {
     "data": {
      "text/plain": [
       "<matplotlib.legend.Legend at 0x31b1d5e10>"
      ]
     },
     "execution_count": 89,
     "metadata": {},
     "output_type": "execute_result"
    },
    {
     "data": {
      "image/png": "[encoded data removed]",
      "text/plain": [
       "<Figure size 576x504 with 2 Axes>"
      ]
     },
     "metadata": {
      "needs_background": "light"
     },
     "output_type": "display_data"
    }
   ],
   "source": [
    "# Create a plot here that shows the measured, rolling mean and rolling median lines\n",
    "fig, ax = plt.subplots(2, 1, figsize=[8, 7], sharex=True)\n",
    "\n",
    "flr.plot(ax=ax[0], linewidth=3, label=\"Original\")\n",
    "roll.median().plot(ax=ax[0], lw=3, linestyle='-', label=\"Running median\")\n",
    "roll.mean().plot(ax=ax[0], lw=3, ls=':', label=\"Running mean\")\n",
    "\n",
    "roll.quantile(0.05).plot(ax=ax[1], c='r', label='5th percentile')\n",
    "roll.quantile(0.95).plot(ax=ax[1], c='r', ls=':', label='95th percentile')\n",
    "\n",
    "ax[0].legend()\n",
    "ax[1].legend()\n"
   ]
  },
  {
   "cell_type": "code",
   "execution_count": 92,
   "metadata": {},
   "outputs": [
    {
     "data": {
      "text/plain": [
       "(11301, 11301)"
      ]
     },
     "execution_count": 92,
     "metadata": {},
     "output_type": "execute_result"
    }
   ],
   "source": [
    "roll.median().size, df200.depSM.size"
   ]
  },
  {
   "cell_type": "code",
   "execution_count": 94,
   "metadata": {},
   "outputs": [
    {
     "data": {
      "image/png": "[encoded data removed]",
      "text/plain": [
       "<Figure size 576x504 with 2 Axes>"
      ]
     },
     "metadata": {
      "needs_background": "light"
     },
     "output_type": "display_data"
    }
   ],
   "source": [
    "fig, ax = plt.subplots(1, 2, figsize=[8, 7], sharex=True)\n",
    "\n",
    "x1 = roll.mean().values\n",
    "x2 = roll.median().values\n",
    "y = df200.depSM.values\n",
    "\n",
    "ax[0].plot(x1, y)\n",
    "ax[0].plot(x2, y)\n",
    "ax[0].set_ylim(200, 0)\n",
    "\n",
    "fig.tight_layout()"
   ]
  },
  {
   "cell_type": "markdown",
   "metadata": {},
   "source": [
    "## Binning the data into 1m bins\n",
    "\n",
    "The CTD samples at a much higher frequency than once per meter. This is not always useful.  \n",
    "We can bin the CTD data using pandas using the groupby function\n",
    "\n",
    "**Principle used in groupby**: \n",
    "Group together variables if they are the same. Then take the average, standard deviation, etc. of the groups.  \n",
    "For our specific case, the depths are not the same, but they could be..."
   ]
  },
  {
   "cell_type": "code",
   "execution_count": 95,
   "metadata": {
    "ExecuteTime": {
     "end_time": "2018-03-13T10:24:55.637557Z",
     "start_time": "2018-03-13T10:24:55.435565Z"
    }
   },
   "outputs": [
    {
     "data": {
      "text/plain": [
       "<matplotlib.axes._subplots.AxesSubplot at 0x31cd7ac50>"
      ]
     },
     "execution_count": 95,
     "metadata": {},
     "output_type": "execute_result"
    },
    {
     "data": {
      "image/png": "[encoded data removed]",
      "text/plain": [
       "<Figure size 432x288 with 1 Axes>"
      ]
     },
     "metadata": {
      "needs_background": "light"
     },
     "output_type": "display_data"
    }
   ],
   "source": [
    "df.depSM.plot()"
   ]
  },
  {
   "cell_type": "code",
   "execution_count": 113,
   "metadata": {},
   "outputs": [
    {
     "name": "stdout",
     "output_type": "stream",
     "text": [
      "[3 6 1 8 2 0] ['cat' 'cat' 'dog' 'dog' 'dog' 'cat']\n"
     ]
    },
    {
     "data": {
      "text/plain": [
       "0    3.000000\n",
       "1    3.666667\n",
       "dtype: float64"
      ]
     },
     "execution_count": 113,
     "metadata": {},
     "output_type": "execute_result"
    }
   ],
   "source": [
    "a = np.array([3, 6, 1, 8, 2, 0])\n",
    "b = np.array(['cat', 'cat', 'dog', 'dog', 'dog', 'cat'])\n",
    "c = np.array([0, 0, 1, 1, 1, 0])\n",
    "print(a, b)\n",
    "a_ser = pd.Series(a)\n",
    "grp = a_ser.groupby(b).mean()\n",
    "\n",
    "\n",
    "a_ser.groupby(c).mean()"
   ]
  },
  {
   "cell_type": "code",
   "execution_count": 114,
   "metadata": {
    "ExecuteTime": {
     "end_time": "2018-03-13T10:27:39.424947Z",
     "start_time": "2018-03-13T10:27:39.418490Z"
    }
   },
   "outputs": [],
   "source": [
    "df['Depth_bins'] = 'some function to make 1m bins; hint: we want the nearest metre'\n",
    "df['Depth_bins'] = df.depSM.round(0)"
   ]
  },
  {
   "cell_type": "code",
   "execution_count": 118,
   "metadata": {},
   "outputs": [
    {
     "data": {
      "text/html": [
       "<div>\n",
       "<style scoped>\n",
       "    .dataframe tbody tr th:only-of-type {\n",
       "        vertical-align: middle;\n",
       "    }\n",
       "\n",
       "    .dataframe tbody tr th {\n",
       "        vertical-align: top;\n",
       "    }\n",
       "\n",
       "    .dataframe thead th {\n",
       "        text-align: right;\n",
       "    }\n",
       "</style>\n",
       "<table border=\"1\" class=\"dataframe\">\n",
       "  <thead>\n",
       "    <tr style=\"text-align: right;\">\n",
       "      <th></th>\n",
       "      <th>depSM</th>\n",
       "      <th>Depth_bins</th>\n",
       "    </tr>\n",
       "    <tr>\n",
       "      <th>Scan</th>\n",
       "      <th></th>\n",
       "      <th></th>\n",
       "    </tr>\n",
       "  </thead>\n",
       "  <tbody>\n",
       "    <tr>\n",
       "      <th>1.0</th>\n",
       "      <td>1.394</td>\n",
       "      <td>1.0</td>\n",
       "    </tr>\n",
       "    <tr>\n",
       "      <th>2.0</th>\n",
       "      <td>1.500</td>\n",
       "      <td>2.0</td>\n",
       "    </tr>\n",
       "    <tr>\n",
       "      <th>3.0</th>\n",
       "      <td>1.337</td>\n",
       "      <td>1.0</td>\n",
       "    </tr>\n",
       "    <tr>\n",
       "      <th>4.0</th>\n",
       "      <td>1.606</td>\n",
       "      <td>2.0</td>\n",
       "    </tr>\n",
       "    <tr>\n",
       "      <th>5.0</th>\n",
       "      <td>1.451</td>\n",
       "      <td>1.0</td>\n",
       "    </tr>\n",
       "  </tbody>\n",
       "</table>\n",
       "</div>"
      ],
      "text/plain": [
       "         depSM  Depth_bins\n",
       "Scan                      \n",
       "1.0      1.394         1.0\n",
       "2.0      1.500         2.0\n",
       "3.0      1.337         1.0\n",
       "4.0      1.606         2.0\n",
       "5.0      1.451         1.0"
      ]
     },
     "execution_count": 118,
     "metadata": {},
     "output_type": "execute_result"
    }
   ],
   "source": [
    "df.loc[:, ['depSM', 'Depth_bins']].head()"
   ]
  },
  {
   "cell_type": "code",
   "execution_count": 121,
   "metadata": {},
   "outputs": [
    {
     "data": {
      "text/plain": [
       "<matplotlib.axes._subplots.AxesSubplot at 0x32012db38>"
      ]
     },
     "execution_count": 121,
     "metadata": {},
     "output_type": "execute_result"
    },
    {
     "data": {
      "image/png": "[encoded data removed]",
      "text/plain": [
       "<Figure size 432x288 with 1 Axes>"
      ]
     },
     "metadata": {
      "needs_background": "light"
     },
     "output_type": "display_data"
    }
   ],
   "source": [
    "df.depSM.plot()"
   ]
  },
  {
   "cell_type": "code",
   "execution_count": 124,
   "metadata": {
    "ExecuteTime": {
     "end_time": "2018-03-13T10:28:29.939379Z",
     "start_time": "2018-03-13T10:28:29.925045Z"
    }
   },
   "outputs": [
    {
     "data": {
      "text/plain": [
       "263.0    2208\n",
       "938.0    1127\n",
       "59.0     1008\n",
       "191.0     843\n",
       "567.0     560\n",
       "Name: Depth_bins, dtype: int64"
      ]
     },
     "execution_count": 124,
     "metadata": {},
     "output_type": "execute_result"
    }
   ],
   "source": [
    "df.Depth_bins.value_counts().head()  # shows the frequency of depth measurements"
   ]
  },
  {
   "cell_type": "markdown",
   "metadata": {},
   "source": [
    "### Group the data by depth"
   ]
  },
  {
   "cell_type": "code",
   "execution_count": 125,
   "metadata": {
    "ExecuteTime": {
     "end_time": "2018-03-13T10:36:50.256066Z",
     "start_time": "2018-03-13T10:36:50.249441Z"
    },
    "scrolled": false
   },
   "outputs": [],
   "source": [
    "grp = df.groupby(by='Depth_bins')  # Inspect the grp object"
   ]
  },
  {
   "cell_type": "code",
   "execution_count": 132,
   "metadata": {},
   "outputs": [
    {
     "data": {
      "text/plain": [
       "Depth_bins\n",
       "1.0       0.126866\n",
       "2.0       0.123836\n",
       "3.0       0.095367\n",
       "4.0       0.091580\n",
       "5.0       0.108464\n",
       "6.0       0.103877\n",
       "7.0       0.113546\n",
       "8.0       0.135334\n",
       "9.0       0.166703\n",
       "10.0      0.183605\n",
       "11.0      0.190461\n",
       "12.0      0.192597\n",
       "13.0      0.206879\n",
       "14.0      0.228461\n",
       "15.0      0.268709\n",
       "16.0      0.339851\n",
       "17.0      0.378469\n",
       "18.0      0.424900\n",
       "19.0      0.427764\n",
       "20.0      0.445428\n",
       "21.0      0.460859\n",
       "22.0      0.471610\n",
       "23.0      0.484333\n",
       "24.0      0.570381\n",
       "25.0      0.691511\n",
       "26.0      0.751441\n",
       "27.0      0.781581\n",
       "28.0      0.897061\n",
       "29.0      0.894504\n",
       "30.0      0.946814\n",
       "            ...   \n",
       "972.0     0.003308\n",
       "973.0     0.003319\n",
       "974.0     0.003357\n",
       "975.0    -0.003961\n",
       "976.0     0.001167\n",
       "977.0     0.003113\n",
       "978.0     0.002593\n",
       "979.0    -0.000293\n",
       "980.0    -0.005946\n",
       "981.0    -0.000571\n",
       "982.0    -0.002396\n",
       "983.0     0.000896\n",
       "984.0    -0.003179\n",
       "985.0    -0.007204\n",
       "986.0    -0.006046\n",
       "987.0    -0.005946\n",
       "988.0     0.005027\n",
       "989.0     0.003330\n",
       "990.0    -0.005525\n",
       "991.0    -0.004781\n",
       "992.0     0.008104\n",
       "993.0    -0.005100\n",
       "994.0     0.008044\n",
       "995.0    -0.004237\n",
       "996.0    -0.007018\n",
       "997.0    -0.004884\n",
       "998.0    -0.005857\n",
       "999.0    -0.003855\n",
       "1000.0    0.000641\n",
       "1001.0    0.003600\n",
       "Name: flECOAFL, Length: 1001, dtype: float64"
      ]
     },
     "execution_count": 132,
     "metadata": {},
     "output_type": "execute_result"
    }
   ],
   "source": [
    "dfm.flECOAFL"
   ]
  },
  {
   "cell_type": "code",
   "execution_count": 137,
   "metadata": {
    "ExecuteTime": {
     "end_time": "2018-03-13T10:38:18.404545Z",
     "start_time": "2018-03-13T10:38:18.231574Z"
    }
   },
   "outputs": [
    {
     "data": {
      "text/plain": [
       "(200, 0)"
      ]
     },
     "execution_count": 137,
     "metadata": {},
     "output_type": "execute_result"
    },
    {
     "data": {
      "image/png": "[encoded data removed]",
      "text/plain": [
       "<Figure size 288x432 with 1 Axes>"
      ]
     },
     "metadata": {
      "needs_background": "light"
     },
     "output_type": "display_data"
    }
   ],
   "source": [
    "dfm = grp.mean()  # mean per depth bin\n",
    "dfs = grp.std()  # standard deviation per depth bin\n",
    "\n",
    "x1 = (dfm.flECOAFL + dfs.flECOAFL * 3)\n",
    "x2 = (dfm.flECOAFL - dfs.flECOAFL * 3)\n",
    "y = dfm.index.values\n",
    "\n",
    "plt.figure(figsize=[4, 6])\n",
    "plt.fill_betweenx(y, x1, x2)\n",
    "plt.plot(dfm.flECOAFL.values, y, zorder=4, c='orange')\n",
    "ylim(200, 0)"
   ]
  },
  {
   "cell_type": "markdown",
   "metadata": {},
   "source": [
    "### Plot the number of measurements for each depth. \n",
    "\n",
    "What do you think the plot shows? Think about what a CTD-rosette does."
   ]
  },
  {
   "cell_type": "code",
   "execution_count": 146,
   "metadata": {},
   "outputs": [
    {
     "data": {
      "text/plain": [
       "260.0    2520\n",
       "940.0    1772\n",
       "60.0     1590\n",
       "190.0    1235\n",
       "570.0     957\n",
       "130.0     944\n",
       "30.0      905\n",
       "0.0       824\n",
       "20.0      436\n",
       "10.0      421\n",
       "40.0      390\n",
       "70.0      386\n",
       "120.0     369\n",
       "80.0      369\n",
       "100.0     366\n",
       "50.0      366\n",
       "170.0     365\n",
       "90.0      365\n",
       "160.0     365\n",
       "180.0     364\n",
       "150.0     364\n",
       "140.0     364\n",
       "110.0     363\n",
       "270.0     336\n",
       "950.0     326\n",
       "930.0     286\n",
       "980.0     282\n",
       "200.0     277\n",
       "730.0     261\n",
       "960.0     261\n",
       "         ... \n",
       "360.0     255\n",
       "860.0     255\n",
       "590.0     255\n",
       "450.0     255\n",
       "210.0     255\n",
       "640.0     255\n",
       "840.0     255\n",
       "420.0     255\n",
       "550.0     255\n",
       "370.0     255\n",
       "720.0     255\n",
       "650.0     255\n",
       "710.0     254\n",
       "410.0     254\n",
       "240.0     254\n",
       "970.0     254\n",
       "390.0     254\n",
       "220.0     254\n",
       "460.0     254\n",
       "680.0     254\n",
       "330.0     254\n",
       "620.0     254\n",
       "430.0     254\n",
       "250.0     254\n",
       "440.0     253\n",
       "690.0     253\n",
       "470.0     253\n",
       "910.0     253\n",
       "230.0     252\n",
       "490.0     251\n",
       "Name: depSM, Length: 101, dtype: int64"
      ]
     },
     "execution_count": 146,
     "metadata": {},
     "output_type": "execute_result"
    }
   ],
   "source": [
    "bins.value_counts()"
   ]
  },
  {
   "cell_type": "code",
   "execution_count": 149,
   "metadata": {
    "ExecuteTime": {
     "end_time": "2018-03-13T11:03:21.118133Z",
     "start_time": "2018-03-13T11:03:20.921288Z"
    }
   },
   "outputs": [
    {
     "data": {
      "text/plain": [
       "depSM\n",
       "0.0      824\n",
       "10.0     421\n",
       "20.0     436\n",
       "30.0     905\n",
       "40.0     390\n",
       "50.0     366\n",
       "60.0    1590\n",
       "70.0     386\n",
       "80.0     369\n",
       "90.0     365\n",
       "Name: sal00, dtype: int64"
      ]
     },
     "execution_count": 149,
     "metadata": {},
     "output_type": "execute_result"
    }
   ],
   "source": [
    "# 1. create 10m bins by rounding. HINT: df.depSM.round()\n",
    "bins = df.depSM.round(-1)\n",
    "# 2. group by the new index\n",
    "grp = df.groupby(bins)\n",
    "# 3. get the number of depths per bin\n",
    "grp.sal00.count().head(10)\n",
    "# your code here\n"
   ]
  },
  {
   "cell_type": "markdown",
   "metadata": {},
   "source": [
    "### Plot the average salinity by depth\n",
    "\n",
    "again with x-axis as salinity and y-depth"
   ]
  },
  {
   "cell_type": "code",
   "execution_count": null,
   "metadata": {},
   "outputs": [],
   "source": []
  },
  {
   "cell_type": "markdown",
   "metadata": {
    "ExecuteTime": {
     "end_time": "2018-03-07T14:52:50.106935Z",
     "start_time": "2018-03-07T14:52:50.098025Z"
    }
   },
   "source": [
    "# Wave glider data + ship *p*CO<sub>2</sub>"
   ]
  },
  {
   "cell_type": "markdown",
   "metadata": {},
   "source": [
    "## Introduction\n",
    "<a href=\"https://www.youtube.com/watch?v=fk-2XDIbZiQ\" title=\"Click for waveglider video\"><img src=\"http://defsec.csir.co.za/wp-content/uploads/2014/09/IMG_7760.jpg\" style=\"float:left; width:44%; margin-right:20px\"></a>\n",
    "### Waveglider\n",
    "The CSIR has a wave glider that measures surface partial pressure of CO<sub>2</sub> (pCO2). The wave glider is deployed in the Southern Ocean where it measures pCO2, temperature, salinity and pH every hour. \n",
    "\n",
    "### Ship data\n",
    "The Agulhas II also measures pCO2 in the Southern Ocean. However, this data is slightly different in structure. The raw files are not concatenated in one simple directory as you'd like :-/  \n",
    "Your job is to use pandas to load and concatenate these files, then plot the data on a map. \n",
    "\n",
    "  \n",
    " \n",
    "\n",
    "Again... \n",
    "\n",
    "1. Where? (lat and lon)\n",
    "2. When? (line graphs)\n",
    "3. What? (line graphs of pCO2 with other variables)"
   ]
  },
  {
   "cell_type": "markdown",
   "metadata": {},
   "source": [
    "## Wave Glider data\n",
    "\n",
    "inspect the data first. I've created a custom function that makes this a lot easier (shows the first 200 lines of the file with line numbers). This lets you inspect the structure of the file. This is critical to knowing how we should import the file - what settings we should pass to `pd.read_csv`."
   ]
  },
  {
   "cell_type": "code",
   "execution_count": 152,
   "metadata": {},
   "outputs": [],
   "source": [
    "%less ../../data/WaveGlider/02_wave_glider.csv"
   ]
  },
  {
   "cell_type": "code",
   "execution_count": 236,
   "metadata": {
    "ExecuteTime": {
     "end_time": "2018-03-13T12:41:18.742509Z",
     "start_time": "2018-03-13T12:41:18.720705Z"
    }
   },
   "outputs": [],
   "source": [
    "# read the keyword arguements available to pd.read_csv. Look specifically at index_col= and parse_dates=, \n",
    "\n",
    "fname = '../../data/WaveGlider/02_wave_glider.csv'\n",
    "df = pd.read_csv(fname, comment='#', index_col=0, parse_dates=True)"
   ]
  },
  {
   "cell_type": "markdown",
   "metadata": {},
   "source": [
    "### Plot Wave Glider track"
   ]
  },
  {
   "cell_type": "code",
   "execution_count": 237,
   "metadata": {},
   "outputs": [
    {
     "data": {
      "image/png": "[encoded data removed]",
      "text/plain": [
       "<Figure size 432x288 with 2 Axes>"
      ]
     },
     "metadata": {
      "needs_background": "light"
     },
     "output_type": "display_data"
    }
   ],
   "source": [
    "ax = df.plot.scatter(x='Lon', y='Lat', s=10, c='Temperature', \n",
    "                     marker='o', zorder=2, sharex=False,\n",
    "                     cmap=cm.Spectral_r, vmin=8, vmax=11)\n",
    "ax.grid(zorder=0)"
   ]
  },
  {
   "cell_type": "markdown",
   "metadata": {},
   "source": [
    "### Plot resampled  $\\ f$CO$_2$ time-series \n",
    "\n",
    "If we have an index that is `np.datetime64` we can resample the data at different intervals. This is done with the `pd.DataFrame.resample` function. This creates a `resample` object. "
   ]
  },
  {
   "cell_type": "code",
   "execution_count": 239,
   "metadata": {
    "ExecuteTime": {
     "end_time": "2018-03-13T12:58:55.142499Z",
     "start_time": "2018-03-13T12:58:54.909578Z"
    }
   },
   "outputs": [],
   "source": [
    "df_hr = df.copy()\n",
    "df_6H = df_hr.resample('6D')  # creates a resample object that has methods\n",
    "\n",
    "a = df_6H.DeltaFco2_filled.median()\n",
    "b = df_hr.DeltaFco2_filled\n",
    "x1 = a.index.values + np.timedelta64(3, 'D')\n",
    "x2 = b.index.values"
   ]
  },
  {
   "cell_type": "code",
   "execution_count": 242,
   "metadata": {},
   "outputs": [
    {
     "data": {
      "image/png": "[encoded data removed]",
      "text/plain": [
       "<Figure size 648x216 with 1 Axes>"
      ]
     },
     "metadata": {
      "needs_background": "light"
     },
     "output_type": "display_data"
    }
   ],
   "source": [
    "plt.figure(figsize=[9, 3])\n",
    "plt.plot(x2, b, label='Hourly data')\n",
    "plt.plot(x1, a, lw=3, label='Daily average')\n",
    "plt.xticks(rotation=45)\n",
    "plt.ylabel('pCO2 (µatm)')\n",
    "plt.legend()\n",
    "plt.tight_layout()"
   ]
  },
  {
   "cell_type": "markdown",
   "metadata": {},
   "source": [
    "### Time-series subplots of temperature/salinity and pCO2\n",
    "\n",
    "Create a plot that looks like this, with your own colors etc. \n",
    "\n",
    "![](../../images/WaveGlider_timeseries.png)"
   ]
  },
  {
   "cell_type": "code",
   "execution_count": null,
   "metadata": {},
   "outputs": [],
   "source": []
  },
  {
   "cell_type": "markdown",
   "metadata": {},
   "source": [
    "## Ship-based Underway pCO2\n",
    "\n",
    "The Ship-based pCO2 that you'll be using is raw data and has not been prepared as the wave glider data has. This means it requires a bit more processing. You'll need to do a bit of work to read in the files and concatenate them. \n",
    "\n",
    "You can also, if you want, fix the column headers so that there are only alpha-numerical characters in the column names.\n",
    "\n",
    "**Measurement `Type`**  \n",
    "Because it is still raw the data contains oceanic and atmospheric measurements. These are denoted by the `Type` column, where `EQU` is the equilibrator measurement from seawater, and `ATM` is the atmospheric measurement. \n",
    "\n"
   ]
  },
  {
   "cell_type": "code",
   "execution_count": 207,
   "metadata": {},
   "outputs": [],
   "source": [
    "%less_n ../../data/ShipCO2/CSIR GO8050_347-0000dat.txt"
   ]
  },
  {
   "cell_type": "code",
   "execution_count": 215,
   "metadata": {},
   "outputs": [],
   "source": [
    "fname = \"../../data/ShipCO2/CSIR GO8050_347-0000dat.txt\"\n",
    "df = pd.read_csv(fname, \n",
    "                 sep='\\t',  # set the seperator to tabs\n",
    "                 # combines the cols Date and PC Time into one `DateTime`\n",
    "                 # it also interprests these columns as datetime column\n",
    "                 # and converts it to datetime64\n",
    "                 parse_dates={'DateTime': ['Date', 'PC Time']}, #\n",
    "                 index_col='DateTime')  # make DateTime the index"
   ]
  },
  {
   "cell_type": "code",
   "execution_count": 221,
   "metadata": {},
   "outputs": [
    {
     "name": "stdout",
     "output_type": "stream",
     "text": [
      "../../data/ShipCO2/CSIR GO8050_350-0000dat.txt\n",
      "../../data/ShipCO2/CSIR GO8050_348-0001dat.txt\n",
      "../../data/ShipCO2/CSIR GO8050_351-0001dat.txt\n",
      "../../data/ShipCO2/CSIR GO8050_349-0000dat.txt\n",
      "../../data/ShipCO2/CSIR GO8050_350-1500dat.txt\n",
      "../../data/ShipCO2/CSIR GO8050_347-0000dat.txt\n",
      "../../data/ShipCO2/CSIR GO8050_347-1647dat.txt\n"
     ]
    }
   ],
   "source": [
    "# understanding glob\n",
    "# glob is a package that makes getting a list of files \n",
    "# with a specific pattern much easier. \n",
    "# you can use * to represent a part of the filename that changes\n",
    "\n",
    "from glob import glob\n",
    "\n",
    "flist = glob('../../data/ShipCO2/*dat.txt')\n",
    "\n",
    "for file in flist:\n",
    "    pd.read_csv(file)"
   ]
  },
  {
   "cell_type": "code",
   "execution_count": 228,
   "metadata": {
    "ExecuteTime": {
     "end_time": "2018-03-13T13:21:46.367690Z",
     "start_time": "2018-03-13T13:21:45.337069Z"
    }
   },
   "outputs": [
    {
     "name": "stdout",
     "output_type": "stream",
     "text": [
      "../../data/ShipCO2/CSIR GO8050_350-0000dat.txt\n",
      "../../data/ShipCO2/CSIR GO8050_348-0001dat.txt\n",
      "../../data/ShipCO2/CSIR GO8050_351-0001dat.txt\n",
      "../../data/ShipCO2/CSIR GO8050_349-0000dat.txt\n",
      "../../data/ShipCO2/CSIR GO8050_350-1500dat.txt\n",
      "../../data/ShipCO2/CSIR GO8050_347-0000dat.txt\n",
      "../../data/ShipCO2/CSIR GO8050_347-1647dat.txt\n"
     ]
    }
   ],
   "source": [
    "from glob import glob\n",
    "flist = glob('../data/ShipCO2/*dat.txt')\n",
    "\n",
    "data = []\n",
    "for fname in flist:\n",
    "    print(fname)\n",
    "    df = pd.read_csv(fname, \n",
    "                     # <-- seperator to tabs\n",
    "                     # <-- DateTime as the index column which we create in the next line\n",
    "                     parse_dates={'DateTime': ['Date', 'PC Time']},  # create a new column as DATE. \n",
    "                    )\n",
    "    data.append(df)\n",
    "    \n",
    "#HINT: \n",
    "pd.concat?"
   ]
  },
  {
   "cell_type": "code",
   "execution_count": 232,
   "metadata": {},
   "outputs": [
    {
     "data": {
      "text/plain": [
       "Index(['Type', 'error', ' gps time', ' latitude', ' longitude', ' equ temp',\n",
       "       'std val', ' CO2 mv', ' CO2 um/m', ' H2O mv', ' H2O mm/m',\n",
       "       ' licor temp', ' licor press', ' atm press', ' equ press', ' H2O flow',\n",
       "       ' licor flow', ' equ pump', ' vent flow', ' atm cond', ' equ cond',\n",
       "       ' drip 1', ' drip 2', ' cond temp', ' dry box temp', ' deck box temp',\n",
       "       'O2 um/l', 'O2 temp', 'Ch conc', 'Ch temp', 'Press', 'Temp', 'Cond',\n",
       "       'Sal', 'O2%', 'O2ppm', 'Temp2', 'TempIntake'],\n",
       "      dtype='object')"
      ]
     },
     "execution_count": 232,
     "metadata": {},
     "output_type": "execute_result"
    }
   ],
   "source": [
    "df.columns"
   ]
  },
  {
   "cell_type": "code",
   "execution_count": 230,
   "metadata": {
    "ExecuteTime": {
     "end_time": "2018-03-13T13:23:35.298975Z",
     "start_time": "2018-03-13T13:23:35.206377Z"
    }
   },
   "outputs": [],
   "source": [
    "co2  # data is imported with dates as the initial column"
   ]
  },
  {
   "cell_type": "code",
   "execution_count": 234,
   "metadata": {
    "ExecuteTime": {
     "end_time": "2018-03-13T13:25:28.078723Z",
     "start_time": "2018-03-13T13:25:27.875163Z"
    }
   },
   "outputs": [
    {
     "data": {
      "text/plain": [
       "(350, 450)"
      ]
     },
     "execution_count": 234,
     "metadata": {},
     "output_type": "execute_result"
    },
    {
     "data": {
      "image/png": "[encoded data removed]",
      "text/plain": [
       "<Figure size 432x288 with 1 Axes>"
      ]
     },
     "metadata": {
      "needs_background": "light"
     },
     "output_type": "display_data"
    }
   ],
   "source": [
    "# Type column shows if data is equilibrator (EQU), atmospheric (ATM)\n",
    "# or standard calibration gasses (STDx). We are interested only in the EQU\n",
    "\n",
    "# get the boolean index for only EQU values\n",
    "i = co2.Type == 'EQU'\n",
    "j = co2.Type == 'ATM'\n",
    "\n",
    "# use .loc (index function) to get CO2 column and EQU values\n",
    "co2_EQU = co2.loc[i, ' CO2 um/m']  \n",
    "co2_ATM = co2.loc[j, ' CO2 um/m']  \n",
    "\n",
    "co2_EQU.plot()\n",
    "co2_ATM.plot()\n"
   ]
  },
  {
   "cell_type": "markdown",
   "metadata": {
    "ExecuteTime": {
     "end_time": "2018-03-13T13:16:57.467071Z",
     "start_time": "2018-03-13T13:16:57.272054Z"
    }
   },
   "source": [
    "### Plot ship cruise track\n"
   ]
  },
  {
   "cell_type": "code",
   "execution_count": null,
   "metadata": {},
   "outputs": [],
   "source": []
  }
 ],
 "metadata": {
  "hide_input": false,
  "kernelspec": {
   "display_name": "Python 3",
   "language": "python",
   "name": "python3"
  },
  "language_info": {
   "codemirror_mode": {
    "name": "ipython",
    "version": 3
   },
   "file_extension": ".py",
   "mimetype": "text/x-python",
   "name": "python",
   "nbconvert_exporter": "python",
   "pygments_lexer": "ipython3",
   "version": "3.7.0"
  },
  "toc": {
   "base_numbering": "1",
   "nav_menu": {},
   "number_sections": true,
   "sideBar": true,
   "skip_h1_title": false,
   "title_cell": "Table of Contents",
   "title_sidebar": "Contents",
   "toc_cell": true,
   "toc_position": {},
   "toc_section_display": true,
   "toc_window_display": false
  },
  "varInspector": {
   "cols": {
    "lenName": 16,
    "lenType": 16,
    "lenVar": 40
   },
   "kernels_config": {
    "python": {
     "delete_cmd_postfix": "",
     "delete_cmd_prefix": "del ",
     "library": "var_list.py",
     "varRefreshCmd": "print(var_dic_list())"
    },
    "r": {
     "delete_cmd_postfix": ") ",
     "delete_cmd_prefix": "rm(",
     "library": "var_list.r",
     "varRefreshCmd": "cat(var_dic_list()) "
    }
   },
   "position": {
    "height": "229px",
    "left": "232px",
    "right": "20px",
    "top": "101px",
    "width": "500px"
   },
   "types_to_exclude": [
    "module",
    "function",
    "builtin_function_or_method",
    "instance",
    "_Feature"
   ],
   "window_display": false
  }
 },
 "nbformat": 4,
 "nbformat_minor": 2
}

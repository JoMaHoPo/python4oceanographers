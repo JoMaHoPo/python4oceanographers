{
 "cells": [
  {
   "cell_type": "markdown",
   "metadata": {
    "toc": true
   },
   "source": [
    "<h1>Table of Contents<span class=\"tocSkip\"></span></h1>\n",
    "<div class=\"toc\"><ul class=\"toc-item\"><li><span><a href=\"#Core-Python\" data-toc-modified-id=\"Core-Python-1\">Core Python</a></span></li><li><span><a href=\"#Variable-assigment\" data-toc-modified-id=\"Variable-assigment-2\">Variable assigment</a></span><ul class=\"toc-item\"><li><ul class=\"toc-item\"><li><span><a href=\"#Assignment-of-basic-types\" data-toc-modified-id=\"Assignment-of-basic-types-2.0.1\">Assignment of basic types</a></span></li><li><span><a href=\"#Assigment-of-iterable-types\" data-toc-modified-id=\"Assigment-of-iterable-types-2.0.2\">Assigment of iterable types</a></span></li><li><span><a href=\"#Introduction-to-types\" data-toc-modified-id=\"Introduction-to-types-2.0.3\">Introduction to types</a></span></li></ul></li></ul></li><li><span><a href=\"#Arithmetic-operators\" data-toc-modified-id=\"Arithmetic-operators-3\">Arithmetic operators</a></span><ul class=\"toc-item\"><li><ul class=\"toc-item\"><li><span><a href=\"#Check-the-output-of-these-different-operators\" data-toc-modified-id=\"Check-the-output-of-these-different-operators-3.0.1\">Check the output of these different operators</a></span></li><li><span><a href=\"#Conditional-operators\" data-toc-modified-id=\"Conditional-operators-3.0.2\">Conditional operators</a></span></li><li><span><a href=\"#Logic-operators\" data-toc-modified-id=\"Logic-operators-3.0.3\">Logic operators</a></span></li></ul></li></ul></li><li><span><a href=\"#string\" data-toc-modified-id=\"string-4\"><code>str</code>ing</a></span></li><li><span><a href=\"#list\" data-toc-modified-id=\"list-5\"><code>list</code></a></span><ul class=\"toc-item\"><li><ul class=\"toc-item\"><li><span><a href=\"#appending-to-a-list\" data-toc-modified-id=\"appending-to-a-list-5.0.1\">appending to a list</a></span></li><li><span><a href=\"#Changing-values-with-indexing\" data-toc-modified-id=\"Changing-values-with-indexing-5.0.2\">Changing values with indexing</a></span></li><li><span><a href=\"#Slicing-with-indexing\" data-toc-modified-id=\"Slicing-with-indexing-5.0.3\">Slicing with indexing</a></span></li></ul></li></ul></li><li><span><a href=\"#tuple\" data-toc-modified-id=\"tuple-6\"><code>tuple</code></a></span></li><li><span><a href=\"#dictionary\" data-toc-modified-id=\"dictionary-7\"><code>dict</code>ionary</a></span><ul class=\"toc-item\"><li><ul class=\"toc-item\"><li><span><a href=\"#Now-get-the-word-anything-and-reverse-it\" data-toc-modified-id=\"Now-get-the-word-anything-and-reverse-it-7.0.1\">Now get the word anything and reverse it</a></span></li></ul></li></ul></li><li><span><a href=\"#for-loops\" data-toc-modified-id=\"for-loops-8\"><code>for</code> loops</a></span><ul class=\"toc-item\"><li><ul class=\"toc-item\"><li><span><a href=\"#Emulate-MATLAB-approach---this-is-often-useful\" data-toc-modified-id=\"Emulate-MATLAB-approach---this-is-often-useful-8.0.1\">Emulate MATLAB approach - this is often useful</a></span></li><li><span><a href=\"#Let's-do-some-arithmetic-with-a-loop\" data-toc-modified-id=\"Let's-do-some-arithmetic-with-a-loop-8.0.2\">Let's do some arithmetic with a loop</a></span></li></ul></li></ul></li><li><span><a href=\"#if-statement\" data-toc-modified-id=\"if-statement-9\"><code>if</code> statement</a></span></li><li><span><a href=\"#Exercises\" data-toc-modified-id=\"Exercises-10\">Exercises</a></span><ul class=\"toc-item\"><li><span><a href=\"#1.-Happy-birthday-with-core-Python\" data-toc-modified-id=\"1.-Happy-birthday-with-core-Python-10.1\">1. Happy birthday with core Python</a></span></li><li><span><a href=\"#2.-Zombie-by-the-Cranberries-(advanced)\" data-toc-modified-id=\"2.-Zombie-by-the-Cranberries-(advanced)-10.2\">2. Zombie by the Cranberries (advanced)</a></span></li></ul></li></ul></div>"
   ]
  },
  {
   "cell_type": "markdown",
   "metadata": {
    "heading_collapsed": true
   },
   "source": [
    "# Core Python\n",
    "\n",
    "Core Python refers to bare bones Python without importing any packages. \n",
    "To get a good understanding of Python and its syntax you really have to understand these building blocks. \n",
    "\n",
    "You should know this relatively well from the exercises that you did at one of the following:  \n",
    "- https://python101.pythonlibrary.org/ \n",
    "- https://www.udemy.com/pythonforbeginnersintro/\n",
    "\n",
    "We will be doing a recap to make sure that everyone is on the same page!"
   ]
  },
  {
   "cell_type": "markdown",
   "metadata": {
    "heading_collapsed": true
   },
   "source": [
    "# Variable assigment\n",
    "\n",
    "Variable assignment is how we store data in Python. I have also annotated the object types stored in each variable."
   ]
  },
  {
   "cell_type": "markdown",
   "metadata": {
    "hidden": true
   },
   "source": [
    "### Assignment of basic types"
   ]
  },
  {
   "cell_type": "code",
   "execution_count": 4,
   "metadata": {
    "ExecuteTime": {
     "end_time": "2018-12-04T13:56:54.882512Z",
     "start_time": "2018-12-04T13:56:54.878987Z"
    },
    "hidden": true
   },
   "outputs": [],
   "source": [
    "a = 9149  # int[eger]\n",
    "b = 3.12  # float\n",
    "c = True  # bool (False)"
   ]
  },
  {
   "cell_type": "markdown",
   "metadata": {
    "hidden": true
   },
   "source": [
    "### Assigment of iterable types"
   ]
  },
  {
   "cell_type": "code",
   "execution_count": 19,
   "metadata": {
    "ExecuteTime": {
     "end_time": "2018-12-04T14:17:18.504463Z",
     "start_time": "2018-12-04T14:17:18.499814Z"
    },
    "hidden": true
   },
   "outputs": [],
   "source": [
    "d = 'hi'  # str[ing]\n",
    "e = [21]  # list\n",
    "f = (82)  # tuple\n",
    "g = {'a': 4}  # dict[ionary]"
   ]
  },
  {
   "cell_type": "markdown",
   "metadata": {
    "heading_collapsed": true,
    "hidden": true
   },
   "source": [
    "### Introduction to types\n",
    "Python has several basic types. It is incredibly important to understand these. It determines what we can do with each of these types and what arithmetic operators we can apply to the types. "
   ]
  },
  {
   "cell_type": "code",
   "execution_count": 6,
   "metadata": {
    "ExecuteTime": {
     "end_time": "2018-12-04T14:00:50.166135Z",
     "start_time": "2018-12-04T14:00:50.157676Z"
    },
    "hidden": true
   },
   "outputs": [
    {
     "data": {
      "text/plain": [
       "list"
      ]
     },
     "execution_count": 6,
     "metadata": {},
     "output_type": "execute_result"
    }
   ],
   "source": [
    "type(e)"
   ]
  },
  {
   "cell_type": "markdown",
   "metadata": {
    "heading_collapsed": true
   },
   "source": [
    "# Arithmetic operators\n",
    "Before we dig deeper into `types`, we're going to look at aritmetic operators first"
   ]
  },
  {
   "cell_type": "code",
   "execution_count": 8,
   "metadata": {
    "ExecuteTime": {
     "end_time": "2018-12-05T14:00:32.657079Z",
     "start_time": "2018-12-05T14:00:32.653663Z"
    },
    "hidden": true
   },
   "outputs": [],
   "source": [
    "a = 5\n",
    "b = 9\n",
    "\n",
    "plus = a + b\n",
    "minus = a - b\n",
    "times = a * b\n",
    "power = a**2\n",
    "divide = a / b\n",
    "intdiv = a // b  "
   ]
  },
  {
   "cell_type": "markdown",
   "metadata": {
    "hidden": true
   },
   "source": [
    "### Check the output of these different operators"
   ]
  },
  {
   "cell_type": "code",
   "execution_count": null,
   "metadata": {
    "hidden": true
   },
   "outputs": [],
   "source": []
  },
  {
   "cell_type": "markdown",
   "metadata": {
    "hidden": true
   },
   "source": [
    "### Conditional operators"
   ]
  },
  {
   "cell_type": "code",
   "execution_count": 13,
   "metadata": {
    "ExecuteTime": {
     "end_time": "2018-12-04T14:14:47.456431Z",
     "start_time": "2018-12-04T14:14:47.451715Z"
    },
    "hidden": true
   },
   "outputs": [],
   "source": [
    "greater_equal_than = a >= b\n",
    "less_than = a < b\n",
    "equal = a == b\n",
    "not_equal = a != b"
   ]
  },
  {
   "cell_type": "code",
   "execution_count": null,
   "metadata": {
    "hidden": true
   },
   "outputs": [],
   "source": []
  },
  {
   "cell_type": "markdown",
   "metadata": {
    "heading_collapsed": true,
    "hidden": true
   },
   "source": [
    "### Logic operators"
   ]
  },
  {
   "cell_type": "code",
   "execution_count": 18,
   "metadata": {
    "ExecuteTime": {
     "end_time": "2018-12-04T14:16:52.734880Z",
     "start_time": "2018-12-04T14:16:52.730435Z"
    },
    "hidden": true
   },
   "outputs": [],
   "source": [
    "or_logic = greater_equal_than or less_than  # can also be `|` (pipe)\n",
    "and_logic = not_equal & less_than  # can also be `and`"
   ]
  },
  {
   "cell_type": "markdown",
   "metadata": {
    "heading_collapsed": true
   },
   "source": [
    "# `str`ing\n",
    "\n",
    "Knowing how to work with strings is incredibly useful though it's not what we do most of the time in science.\n",
    "\n",
    "It allows us to format headers, change case, append to strings etc. "
   ]
  },
  {
   "cell_type": "code",
   "execution_count": 1,
   "metadata": {
    "ExecuteTime": {
     "end_time": "2018-12-05T13:56:57.771448Z",
     "start_time": "2018-12-05T13:56:57.761352Z"
    },
    "hidden": true
   },
   "outputs": [
    {
     "data": {
      "text/plain": [
       "'Some sentence that Fluke created to play around with.'"
      ]
     },
     "execution_count": 1,
     "metadata": {},
     "output_type": "execute_result"
    }
   ],
   "source": [
    "a = 'Some sentence that Luke created to play around with.'\n",
    "a.replace('L', 'Fl')"
   ]
  },
  {
   "cell_type": "code",
   "execution_count": 2,
   "metadata": {
    "ExecuteTime": {
     "end_time": "2018-12-05T13:57:04.870892Z",
     "start_time": "2018-12-05T13:57:04.864360Z"
    },
    "hidden": true,
    "scrolled": true
   },
   "outputs": [
    {
     "data": {
      "text/plain": [
       "['__add__',\n",
       " '__class__',\n",
       " '__contains__',\n",
       " '__delattr__',\n",
       " '__dir__',\n",
       " '__doc__',\n",
       " '__eq__',\n",
       " '__format__',\n",
       " '__ge__',\n",
       " '__getattribute__',\n",
       " '__getitem__',\n",
       " '__getnewargs__',\n",
       " '__gt__',\n",
       " '__hash__',\n",
       " '__init__',\n",
       " '__init_subclass__',\n",
       " '__iter__',\n",
       " '__le__',\n",
       " '__len__',\n",
       " '__lt__',\n",
       " '__mod__',\n",
       " '__mul__',\n",
       " '__ne__',\n",
       " '__new__',\n",
       " '__reduce__',\n",
       " '__reduce_ex__',\n",
       " '__repr__',\n",
       " '__rmod__',\n",
       " '__rmul__',\n",
       " '__setattr__',\n",
       " '__sizeof__',\n",
       " '__str__',\n",
       " '__subclasshook__',\n",
       " 'capitalize',\n",
       " 'casefold',\n",
       " 'center',\n",
       " 'count',\n",
       " 'encode',\n",
       " 'endswith',\n",
       " 'expandtabs',\n",
       " 'find',\n",
       " 'format',\n",
       " 'format_map',\n",
       " 'index',\n",
       " 'isalnum',\n",
       " 'isalpha',\n",
       " 'isascii',\n",
       " 'isdecimal',\n",
       " 'isdigit',\n",
       " 'isidentifier',\n",
       " 'islower',\n",
       " 'isnumeric',\n",
       " 'isprintable',\n",
       " 'isspace',\n",
       " 'istitle',\n",
       " 'isupper',\n",
       " 'join',\n",
       " 'ljust',\n",
       " 'lower',\n",
       " 'lstrip',\n",
       " 'maketrans',\n",
       " 'partition',\n",
       " 'replace',\n",
       " 'rfind',\n",
       " 'rindex',\n",
       " 'rjust',\n",
       " 'rpartition',\n",
       " 'rsplit',\n",
       " 'rstrip',\n",
       " 'split',\n",
       " 'splitlines',\n",
       " 'startswith',\n",
       " 'strip',\n",
       " 'swapcase',\n",
       " 'title',\n",
       " 'translate',\n",
       " 'upper',\n",
       " 'zfill']"
      ]
     },
     "execution_count": 2,
     "metadata": {},
     "output_type": "execute_result"
    }
   ],
   "source": [
    "dir(a)"
   ]
  },
  {
   "cell_type": "markdown",
   "metadata": {
    "heading_collapsed": true
   },
   "source": [
    "# `list`"
   ]
  },
  {
   "cell_type": "code",
   "execution_count": 18,
   "metadata": {
    "ExecuteTime": {
     "end_time": "2018-12-05T14:02:57.273793Z",
     "start_time": "2018-12-05T14:02:57.269684Z"
    },
    "hidden": true
   },
   "outputs": [],
   "source": [
    "a = [1, 5, 9, 3]  # a list of int[egers]\n",
    "b = [[5, 3], ['oh no!']]  # can be anything inside the string!\n",
    "c = [[[[[]]]]]  # nested for days"
   ]
  },
  {
   "cell_type": "markdown",
   "metadata": {
    "hidden": true
   },
   "source": [
    "Let's add 3 to each of the values in a"
   ]
  },
  {
   "cell_type": "code",
   "execution_count": 36,
   "metadata": {
    "ExecuteTime": {
     "end_time": "2018-12-04T14:29:16.132104Z",
     "start_time": "2018-12-04T14:29:16.121876Z"
    },
    "hidden": true
   },
   "outputs": [
    {
     "ename": "TypeError",
     "evalue": "unsupported operand type(s) for +: 'dict' and 'int'",
     "output_type": "error",
     "traceback": [
      "\u001b[0;31m---------------------------------------------------------------------------\u001b[0m",
      "\u001b[0;31mTypeError\u001b[0m                                 Traceback (most recent call last)",
      "\u001b[0;32m<ipython-input-36-20e70b17f4ce>\u001b[0m in \u001b[0;36m<module>\u001b[0;34m()\u001b[0m\n\u001b[0;32m----> 1\u001b[0;31m \u001b[0ma\u001b[0m \u001b[0;34m+\u001b[0m \u001b[0;36m3\u001b[0m  \u001b[0;31m# it's unfortunately not this easy in Core Python - we'll come back to this\u001b[0m\u001b[0;34m\u001b[0m\u001b[0m\n\u001b[0m",
      "\u001b[0;31mTypeError\u001b[0m: unsupported operand type(s) for +: 'dict' and 'int'"
     ]
    }
   ],
   "source": [
    "a + 3  # it's unfortunately not this easy in Core Python - we'll come back to this"
   ]
  },
  {
   "cell_type": "markdown",
   "metadata": {
    "hidden": true
   },
   "source": [
    "### appending to a list"
   ]
  },
  {
   "cell_type": "code",
   "execution_count": 19,
   "metadata": {
    "ExecuteTime": {
     "end_time": "2018-12-05T14:02:58.978822Z",
     "start_time": "2018-12-05T14:02:58.973442Z"
    },
    "hidden": true
   },
   "outputs": [
    {
     "data": {
      "text/plain": [
       "[1, 5, 9, 3, [], [5, 3], ['oh no!']]"
      ]
     },
     "execution_count": 19,
     "metadata": {},
     "output_type": "execute_result"
    }
   ],
   "source": [
    "d = a + [[]] + b  # list + list\n",
    "d"
   ]
  },
  {
   "cell_type": "code",
   "execution_count": 22,
   "metadata": {
    "ExecuteTime": {
     "end_time": "2018-12-05T14:03:02.154826Z",
     "start_time": "2018-12-05T14:03:02.148749Z"
    },
    "hidden": true
   },
   "outputs": [
    {
     "data": {
      "text/plain": [
       "[1, 5, 9, 3, [[5, 3], ['oh no!']], [[5, 3], ['oh no!']], [[5, 3], ['oh no!']]]"
      ]
     },
     "execution_count": 22,
     "metadata": {},
     "output_type": "execute_result"
    }
   ],
   "source": [
    "a.append(b)  # be carefull - this method operates \"inplace\" run this cell multiple times to see what happens\n",
    "a"
   ]
  },
  {
   "cell_type": "markdown",
   "metadata": {
    "hidden": true
   },
   "source": [
    "### Changing values with indexing\n",
    "\n",
    "Remember indexing starts from 0.  \n",
    "**TASK: Change the 3rd value (idx 2) to a string.**"
   ]
  },
  {
   "cell_type": "code",
   "execution_count": null,
   "metadata": {
    "ExecuteTime": {
     "end_time": "2018-12-04T14:24:37.386084Z",
     "start_time": "2018-12-04T14:24:37.379650Z"
    },
    "hidden": true
   },
   "outputs": [],
   "source": []
  },
  {
   "cell_type": "markdown",
   "metadata": {
    "heading_collapsed": true,
    "hidden": true
   },
   "source": [
    "### Slicing with indexing \n",
    "\n",
    "Slicing is just a fancy name to say that we want to get from the 3rd value to the end."
   ]
  },
  {
   "cell_type": "code",
   "execution_count": 30,
   "metadata": {
    "ExecuteTime": {
     "end_time": "2018-12-04T14:26:32.955446Z",
     "start_time": "2018-12-04T14:26:32.949122Z"
    },
    "hidden": true
   },
   "outputs": [
    {
     "data": {
      "text/plain": [
       "[9, 3, [], [5, 3], ['oh no!']]"
      ]
     },
     "execution_count": 30,
     "metadata": {},
     "output_type": "execute_result"
    }
   ],
   "source": [
    "d[2:]"
   ]
  },
  {
   "cell_type": "markdown",
   "metadata": {
    "hidden": true
   },
   "source": [
    "Let's do this backwards - from the beginning to the 2nd last value"
   ]
  },
  {
   "cell_type": "code",
   "execution_count": null,
   "metadata": {
    "hidden": true
   },
   "outputs": [],
   "source": []
  },
  {
   "cell_type": "markdown",
   "metadata": {
    "hidden": true
   },
   "source": [
    "Now let's get every second value"
   ]
  },
  {
   "cell_type": "code",
   "execution_count": null,
   "metadata": {
    "hidden": true
   },
   "outputs": [],
   "source": []
  },
  {
   "cell_type": "markdown",
   "metadata": {
    "heading_collapsed": true
   },
   "source": [
    "# `tuple`\n",
    "\n",
    "Tuples are similar to lists, but they are immutable - this means that we cannot change them with indexing. "
   ]
  },
  {
   "cell_type": "code",
   "execution_count": null,
   "metadata": {
    "hidden": true
   },
   "outputs": [],
   "source": []
  },
  {
   "cell_type": "markdown",
   "metadata": {
    "heading_collapsed": true
   },
   "source": [
    "# `dict`ionary"
   ]
  },
  {
   "cell_type": "code",
   "execution_count": 34,
   "metadata": {
    "ExecuteTime": {
     "end_time": "2018-12-04T14:28:34.283659Z",
     "start_time": "2018-12-04T14:28:34.276580Z"
    },
    "hidden": true
   },
   "outputs": [
    {
     "data": {
      "text/plain": [
       "{'key': ['anything', 'you', 'want'], 'number': 4}"
      ]
     },
     "execution_count": 34,
     "metadata": {},
     "output_type": "execute_result"
    }
   ],
   "source": [
    "value = ['anything', 'you', 'want']\n",
    "a = {'key': value, 'number': 4}\n",
    "a"
   ]
  },
  {
   "cell_type": "code",
   "execution_count": 35,
   "metadata": {
    "ExecuteTime": {
     "end_time": "2018-12-04T14:28:40.645675Z",
     "start_time": "2018-12-04T14:28:40.639019Z"
    },
    "hidden": true
   },
   "outputs": [
    {
     "data": {
      "text/plain": [
       "4"
      ]
     },
     "execution_count": 35,
     "metadata": {},
     "output_type": "execute_result"
    }
   ],
   "source": [
    "a['number']"
   ]
  },
  {
   "cell_type": "markdown",
   "metadata": {
    "heading_collapsed": true,
    "hidden": true
   },
   "source": [
    "### Now get the word anything and reverse it"
   ]
  },
  {
   "cell_type": "code",
   "execution_count": null,
   "metadata": {
    "hidden": true
   },
   "outputs": [],
   "source": []
  },
  {
   "cell_type": "markdown",
   "metadata": {
    "heading_collapsed": true
   },
   "source": [
    "# `for` loops\n",
    "\n",
    "For loops a little different to MATLAB.  \n",
    "Instead of looping over only numbers, we iterate through an object.  \n",
    "This can be a list (or range) of index numbers as shown below.  \n",
    "Or it can even be a word."
   ]
  },
  {
   "cell_type": "code",
   "execution_count": 48,
   "metadata": {
    "ExecuteTime": {
     "end_time": "2018-12-04T14:38:37.370382Z",
     "start_time": "2018-12-04T14:38:37.361957Z"
    },
    "hidden": true
   },
   "outputs": [
    {
     "name": "stdout",
     "output_type": "stream",
     "text": [
      "0, 1, 2, 3, 4, 5, 6, 7, 8, 9, "
     ]
    }
   ],
   "source": [
    "for i in range(10):\n",
    "    print(i, end=', ')"
   ]
  },
  {
   "cell_type": "code",
   "execution_count": 4,
   "metadata": {
    "ExecuteTime": {
     "end_time": "2018-12-05T13:59:20.328255Z",
     "start_time": "2018-12-05T13:59:20.323842Z"
    },
    "hidden": true
   },
   "outputs": [
    {
     "name": "stdout",
     "output_type": "stream",
     "text": [
      "a,  , s, h, o, r, t,  , p, h, r, a, s, e, "
     ]
    }
   ],
   "source": [
    "text = 'a short phrase'\n",
    "for i in text:\n",
    "    print(i, end=', ')"
   ]
  },
  {
   "cell_type": "markdown",
   "metadata": {
    "hidden": true
   },
   "source": [
    "### Emulate MATLAB approach - this is often useful"
   ]
  },
  {
   "cell_type": "code",
   "execution_count": 5,
   "metadata": {
    "ExecuteTime": {
     "end_time": "2018-12-05T13:59:21.313175Z",
     "start_time": "2018-12-05T13:59:21.307225Z"
    },
    "hidden": true
   },
   "outputs": [
    {
     "name": "stdout",
     "output_type": "stream",
     "text": [
      "0 a\n",
      "1  \n",
      "2 s\n",
      "3 h\n",
      "4 o\n",
      "5 r\n",
      "6 t\n",
      "7  \n",
      "8 p\n",
      "9 h\n",
      "10 r\n",
      "11 a\n",
      "12 s\n",
      "13 e\n"
     ]
    }
   ],
   "source": [
    "for i in range(len(text)):\n",
    "    print(i, text[i])"
   ]
  },
  {
   "cell_type": "markdown",
   "metadata": {
    "ExecuteTime": {
     "end_time": "2018-12-05T13:59:32.689530Z",
     "start_time": "2018-12-05T13:59:32.684372Z"
    },
    "hidden": true
   },
   "source": [
    "And now the more pythonic way"
   ]
  },
  {
   "cell_type": "code",
   "execution_count": 7,
   "metadata": {
    "ExecuteTime": {
     "end_time": "2018-12-05T13:59:51.082813Z",
     "start_time": "2018-12-05T13:59:51.076915Z"
    },
    "hidden": true
   },
   "outputs": [
    {
     "name": "stdout",
     "output_type": "stream",
     "text": [
      "0 a\n",
      "1  \n",
      "2 s\n",
      "3 h\n",
      "4 o\n",
      "5 r\n",
      "6 t\n",
      "7  \n",
      "8 p\n",
      "9 h\n",
      "10 r\n",
      "11 a\n",
      "12 s\n",
      "13 e\n"
     ]
    }
   ],
   "source": [
    "for i, t in enumerate(text):\n",
    "    print(i, t)"
   ]
  },
  {
   "cell_type": "markdown",
   "metadata": {
    "heading_collapsed": true,
    "hidden": true
   },
   "source": [
    "### Let's do some arithmetic with a loop\n",
    "Create a range of numbers from 5 to 13 and calculate the square of each number in the list"
   ]
  },
  {
   "cell_type": "code",
   "execution_count": 10,
   "metadata": {
    "ExecuteTime": {
     "end_time": "2018-12-05T14:01:44.172173Z",
     "start_time": "2018-12-05T14:01:44.168888Z"
    },
    "hidden": true
   },
   "outputs": [],
   "source": [
    "squared = []\n",
    "# for loop. Append to the list"
   ]
  },
  {
   "cell_type": "markdown",
   "metadata": {
    "heading_collapsed": true
   },
   "source": [
    "# `if` statement"
   ]
  },
  {
   "cell_type": "code",
   "execution_count": 24,
   "metadata": {
    "ExecuteTime": {
     "end_time": "2018-12-05T14:05:16.716791Z",
     "start_time": "2018-12-05T14:05:16.712884Z"
    },
    "hidden": true
   },
   "outputs": [
    {
     "name": "stdout",
     "output_type": "stream",
     "text": [
      "will always print\n"
     ]
    }
   ],
   "source": [
    "if True:  # must give a bool - this is all that an if statement is\n",
    "    print('will always print')\n",
    "else:\n",
    "    print('will never print')"
   ]
  },
  {
   "cell_type": "markdown",
   "metadata": {
    "heading_collapsed": true
   },
   "source": [
    "# Exercises\n",
    "\n",
    "Use any means to do the following exercises. \n",
    "\n",
    "HINT: I recommend a loop in the first song and anything else for the second"
   ]
  },
  {
   "cell_type": "markdown",
   "metadata": {
    "hidden": true
   },
   "source": [
    "## 1. Happy birthday with core Python\n",
    "Happy birthday is a repetitive song... \n",
    "\n",
    "    Happy birthday to you\n",
    "    Happy birthday to you\n",
    "    Happy birthday dear Luu-uuke\n",
    "    Happy birthday to you\n",
    "    \n",
    "Write a for loop to save you from the agony of typing too much.\n",
    "Save the song as a variable and print it out in the next cell.\n",
    "\n",
    "The output should be a list, where each line is a string within the list."
   ]
  },
  {
   "cell_type": "code",
   "execution_count": 71,
   "metadata": {
    "ExecuteTime": {
     "end_time": "2018-12-05T15:08:21.129526Z",
     "start_time": "2018-12-05T15:08:21.124904Z"
    },
    "hidden": true
   },
   "outputs": [
    {
     "name": "stdout",
     "output_type": "stream",
     "text": [
      "[]\n"
     ]
    }
   ],
   "source": [
    "name = \"\"\n",
    "\n",
    "song = []\n",
    "for i in range(4):\n",
    "    pass  # remove pass - this is just to avoid a syntax error in an incomplete for loop\n",
    "    # hint: use an if loop for the 3rd line (idx = 2)\n",
    "    \n",
    "    # append the line to [song]\n",
    "    \n",
    "print(song)"
   ]
  },
  {
   "cell_type": "markdown",
   "metadata": {
    "heading_collapsed": true,
    "hidden": true
   },
   "source": [
    "## 2. Zombie by the Cranberries (advanced)\n",
    "Write the folloing lyrics between the lines in less characters of code than the original.  \n",
    "I don't care about grammar.\n",
    "\n",
    "```\n",
    "But you see, it's not me\n",
    "It's not my family\n",
    "In your head, in your head, they are fighting\n",
    "With their tanks, and their bombs\n",
    "And their bombs, and their guns\n",
    "\n",
    "==============\n",
    "In your head, in your head they are crying\n",
    "In your head, in your head\n",
    "Zombie, zombie, zombie-ie-ie\n",
    "What's in your head, in your head\n",
    "Zombie, zombie, zombie-ie-ie, oh\n",
    "\n",
    "Du, du, du, du\n",
    "Du, du, du, du\n",
    "Du, du, du, du\n",
    "Du, du, du, du\n",
    "==============\n",
    "```"
   ]
  },
  {
   "cell_type": "code",
   "execution_count": 93,
   "metadata": {
    "ExecuteTime": {
     "end_time": "2018-12-05T15:20:51.783111Z",
     "start_time": "2018-12-05T15:20:51.779785Z"
    },
    "hidden": true
   },
   "outputs": [],
   "source": [
    "# hint, set up r1 = repeat 1\n",
    "\n",
    "r1 = \"in your head \" * 2\n",
    "r2 = (\" zombie\" * 3 + '-ie' * 2).strip()"
   ]
  },
  {
   "cell_type": "code",
   "execution_count": null,
   "metadata": {
    "hidden": true
   },
   "outputs": [],
   "source": []
  }
 ],
 "metadata": {
  "kernelspec": {
   "display_name": "Python 3",
   "language": "python",
   "name": "python3"
  },
  "language_info": {
   "codemirror_mode": {
    "name": "ipython",
    "version": 3
   },
   "file_extension": ".py",
   "mimetype": "text/x-python",
   "name": "python",
   "nbconvert_exporter": "python",
   "pygments_lexer": "ipython3",
   "version": "3.7.0"
  },
  "toc": {
   "base_numbering": 1,
   "nav_menu": {},
   "number_sections": false,
   "sideBar": true,
   "skip_h1_title": false,
   "title_cell": "Table of Contents",
   "title_sidebar": "Contents",
   "toc_cell": true,
   "toc_position": {},
   "toc_section_display": true,
   "toc_window_display": true
  },
  "varInspector": {
   "cols": {
    "lenName": 16,
    "lenType": 16,
    "lenVar": 40
   },
   "kernels_config": {
    "python": {
     "delete_cmd_postfix": "",
     "delete_cmd_prefix": "del ",
     "library": "var_list.py",
     "varRefreshCmd": "print(var_dic_list())"
    },
    "r": {
     "delete_cmd_postfix": ") ",
     "delete_cmd_prefix": "rm(",
     "library": "var_list.r",
     "varRefreshCmd": "cat(var_dic_list()) "
    }
   },
   "types_to_exclude": [
    "module",
    "function",
    "builtin_function_or_method",
    "instance",
    "_Feature"
   ],
   "window_display": false
  }
 },
 "nbformat": 4,
 "nbformat_minor": 2
}

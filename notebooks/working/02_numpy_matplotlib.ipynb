{
 "cells": [
  {
   "cell_type": "markdown",
   "metadata": {
    "run_control": {
     "frozen": false,
     "read_only": false
    },
    "toc": "true"
   },
   "source": [
    "<h1>Table of Contents<span class=\"tocSkip\"></span></h1>\n",
    "<div class=\"toc\"><ul class=\"toc-item\"><li><span><a href=\"#Core-arithmetic-is-a-pain\" data-toc-modified-id=\"Core-arithmetic-is-a-pain-1\"><span class=\"toc-item-num\">1&nbsp;&nbsp;</span>Core arithmetic is a pain</a></span></li><li><span><a href=\"#Enter-numpy-arrays\" data-toc-modified-id=\"Enter-numpy-arrays-2\"><span class=\"toc-item-num\">2&nbsp;&nbsp;</span>Enter <code>numpy</code> arrays</a></span><ul class=\"toc-item\"><li><span><a href=\"#Exercise:-make-a-random-array\" data-toc-modified-id=\"Exercise:-make-a-random-array-2.1\"><span class=\"toc-item-num\">2.1&nbsp;&nbsp;</span>Exercise: make a random array</a></span><ul class=\"toc-item\"><li><span><a href=\"#Exercise:-indexing\" data-toc-modified-id=\"Exercise:-indexing-2.1.1\"><span class=\"toc-item-num\">2.1.1&nbsp;&nbsp;</span>Exercise: indexing</a></span></li><li><span><a href=\"#Concatenating-data\" data-toc-modified-id=\"Concatenating-data-2.1.2\"><span class=\"toc-item-num\">2.1.2&nbsp;&nbsp;</span>Concatenating data</a></span></li></ul></li></ul></li><li><span><a href=\"#Plotting\" data-toc-modified-id=\"Plotting-3\"><span class=\"toc-item-num\">3&nbsp;&nbsp;</span>Plotting</a></span><ul class=\"toc-item\"><li><span><a href=\"#PLOT-the-random-data-using-plt.plot\" data-toc-modified-id=\"PLOT-the-random-data-using-plt.plot-3.1\"><span class=\"toc-item-num\">3.1&nbsp;&nbsp;</span>PLOT the random data using <code>plt.plot</code></a></span></li><li><span><a href=\"#WORKING-WITH-CTD-DATA!\" data-toc-modified-id=\"WORKING-WITH-CTD-DATA!-3.2\"><span class=\"toc-item-num\">3.2&nbsp;&nbsp;</span>WORKING WITH CTD DATA!</a></span><ul class=\"toc-item\"><li><span><a href=\"#Load-salinity-and-oxygen\" data-toc-modified-id=\"Load-salinity-and-oxygen-3.2.1\"><span class=\"toc-item-num\">3.2.1&nbsp;&nbsp;</span>Load salinity and oxygen</a></span></li><li><span><a href=\"#Plot-the-data-on-the-same-axis\" data-toc-modified-id=\"Plot-the-data-on-the-same-axis-3.2.2\"><span class=\"toc-item-num\">3.2.2&nbsp;&nbsp;</span>Plot the data on the same axis</a></span></li><li><span><a href=\"#Get-only-the-upper-200-m-of-the-profile\" data-toc-modified-id=\"Get-only-the-upper-200-m-of-the-profile-3.2.3\"><span class=\"toc-item-num\">3.2.3&nbsp;&nbsp;</span>Get only the upper 200 m of the profile</a></span></li></ul></li></ul></li><li><span><a href=\"#SeaGlider-data-and-section-plots\" data-toc-modified-id=\"SeaGlider-data-and-section-plots-4\"><span class=\"toc-item-num\">4&nbsp;&nbsp;</span>SeaGlider data and section plots</a></span><ul class=\"toc-item\"><li><span><a href=\"#Load-the-data-using-numpy\" data-toc-modified-id=\"Load-the-data-using-numpy-4.1\"><span class=\"toc-item-num\">4.1&nbsp;&nbsp;</span>Load the data using numpy</a></span></li><li><span><a href=\"#Get-a-feel-for-the-data\" data-toc-modified-id=\"Get-a-feel-for-the-data-4.2\"><span class=\"toc-item-num\">4.2&nbsp;&nbsp;</span>Get a feel for the data</a></span></li><li><span><a href=\"#pcolormesh-plots\" data-toc-modified-id=\"pcolormesh-plots-4.3\"><span class=\"toc-item-num\">4.3&nbsp;&nbsp;</span><code>pcolormesh</code> plots</a></span></li></ul></li></ul></div>"
   ]
  },
  {
   "cell_type": "markdown",
   "metadata": {},
   "source": [
    "# Core arithmetic is a pain "
   ]
  },
  {
   "cell_type": "code",
   "execution_count": 7,
   "metadata": {
    "ExecuteTime": {
     "end_time": "2018-12-05T15:43:40.877740Z",
     "start_time": "2018-12-05T15:43:40.872279Z"
    }
   },
   "outputs": [
    {
     "name": "stdout",
     "output_type": "stream",
     "text": [
      "9\n",
      "11\n",
      "12\n",
      "16\n",
      "20\n",
      "15\n"
     ]
    }
   ],
   "source": [
    "a = [4, 6, 7, 11, 15, 10]\n",
    "\n",
    "for i in a:\n",
    "    print(i + 5)"
   ]
  },
  {
   "cell_type": "markdown",
   "metadata": {
    "collapsed": true,
    "run_control": {
     "frozen": false,
     "read_only": true
    }
   },
   "source": [
    "# Enter `numpy` arrays\n",
    "\n",
    "Numpy arrays are the same as a matlab matrices, though there are differences. \n",
    "They can be vectorised and are thus much more efficient than Python loops. "
   ]
  },
  {
   "cell_type": "code",
   "execution_count": 20,
   "metadata": {
    "ExecuteTime": {
     "end_time": "2018-12-05T15:43:41.437443Z",
     "start_time": "2018-12-05T15:43:41.431711Z"
    }
   },
   "outputs": [
    {
     "data": {
      "text/plain": [
       "array([ 9, 11, 12, 16, 20, 15])"
      ]
     },
     "execution_count": 20,
     "metadata": {},
     "output_type": "execute_result"
    }
   ],
   "source": [
    "import numpy as np\n",
    "\n",
    "b = np.array(a)\n",
    "b + 5"
   ]
  },
  {
   "cell_type": "code",
   "execution_count": 15,
   "metadata": {},
   "outputs": [
    {
     "name": "stdout",
     "output_type": "stream",
     "text": [
      "<class 'list'>\n",
      "<class 'numpy.ndarray'>\n"
     ]
    }
   ],
   "source": [
    "print(type(a))\n",
    "print(type(b))"
   ]
  },
  {
   "cell_type": "code",
   "execution_count": 16,
   "metadata": {
    "ExecuteTime": {
     "end_time": "2018-12-05T15:44:06.548427Z",
     "start_time": "2018-12-05T15:44:06.544432Z"
    }
   },
   "outputs": [],
   "source": [
    "# Lets have a look at what a numpy.array is. \n",
    "\n",
    "np.array?"
   ]
  },
  {
   "cell_type": "markdown",
   "metadata": {},
   "source": [
    "We can use numpy to make a range of numbers (sequence)"
   ]
  },
  {
   "cell_type": "code",
   "execution_count": 28,
   "metadata": {},
   "outputs": [],
   "source": [
    "from numpy import arange"
   ]
  },
  {
   "cell_type": "code",
   "execution_count": 32,
   "metadata": {
    "ExecuteTime": {
     "end_time": "2018-12-05T15:44:44.869090Z",
     "start_time": "2018-12-05T15:44:44.863401Z"
    }
   },
   "outputs": [
    {
     "data": {
      "text/plain": [
       "array([ 0,  2,  4,  6,  8, 10, 12, 14, 16, 18, 20, 22, 24, 26, 28, 30, 32,\n",
       "       34, 36, 38, 40, 42, 44, 46, 48, 50, 52, 54, 56, 58, 60, 62, 64, 66,\n",
       "       68, 70, 72, 74, 76, 78, 80, 82, 84, 86, 88, 90, 92, 94, 96, 98])"
      ]
     },
     "execution_count": 32,
     "metadata": {},
     "output_type": "execute_result"
    }
   ],
   "source": [
    "arange(0, 100, 2)  # why arange and not just range? storytime"
   ]
  },
  {
   "cell_type": "markdown",
   "metadata": {},
   "source": [
    "notice, we start from 0 and end before 1000\n",
    "\n",
    "**Let's make an array that ranges from 0, 10000, but in steps of 133**"
   ]
  },
  {
   "cell_type": "code",
   "execution_count": 39,
   "metadata": {
    "ExecuteTime": {
     "end_time": "2018-12-05T15:44:58.493572Z",
     "start_time": "2018-12-05T15:44:58.490822Z"
    }
   },
   "outputs": [
    {
     "data": {
      "text/plain": [
       "array([   0.,  133.,  266.,  399.,  532.,  665.,  798.,  931., 1064.,\n",
       "       1197., 1330., 1463., 1596., 1729., 1862., 1995., 2128., 2261.,\n",
       "       2394., 2527., 2660., 2793., 2926., 3059., 3192., 3325., 3458.,\n",
       "       3591., 3724., 3857., 3990., 4123., 4256., 4389., 4522., 4655.,\n",
       "       4788., 4921., 5054., 5187., 5320., 5453., 5586., 5719., 5852.,\n",
       "       5985., 6118., 6251., 6384., 6517., 6650., 6783., 6916., 7049.,\n",
       "       7182., 7315., 7448., 7581., 7714., 7847., 7980., 8113., 8246.,\n",
       "       8379., 8512., 8645., 8778., 8911., 9044., 9177., 9310., 9443.,\n",
       "       9576., 9709., 9842., 9975.])"
      ]
     },
     "execution_count": 39,
     "metadata": {},
     "output_type": "execute_result"
    }
   ],
   "source": [
    "# your code here\n",
    "np.arange(0, 1e4, 133)"
   ]
  },
  {
   "cell_type": "markdown",
   "metadata": {
    "ExecuteTime": {
     "end_time": "2018-03-07T05:47:24.391216Z",
     "start_time": "2018-03-07T05:47:24.384720Z"
    }
   },
   "source": [
    "## Exercise: make a random array\n",
    "Use `numpy.random` to make a [200, 300] array of intigers ranging between 1 and 1000. Call this array `x`"
   ]
  },
  {
   "cell_type": "code",
   "execution_count": 6,
   "metadata": {
    "ExecuteTime": {
     "end_time": "2018-12-05T15:45:18.593303Z",
     "start_time": "2018-12-05T15:45:18.579964Z"
    },
    "code_folding": [],
    "run_control": {
     "frozen": false,
     "read_only": false
    }
   },
   "outputs": [],
   "source": [
    "# You'll need to import numpy first\n",
    "# YOUR CODE HERE\n",
    "x = np.random.randint(low=1, high=1000, size=[200, 300])"
   ]
  },
  {
   "cell_type": "code",
   "execution_count": 7,
   "metadata": {
    "ExecuteTime": {
     "end_time": "2018-12-05T15:45:21.596022Z",
     "start_time": "2018-12-05T15:45:21.587547Z"
    }
   },
   "outputs": [
    {
     "data": {
      "text/plain": [
       "(200, 300)"
      ]
     },
     "execution_count": 7,
     "metadata": {},
     "output_type": "execute_result"
    }
   ],
   "source": [
    "x.shape"
   ]
  },
  {
   "cell_type": "markdown",
   "metadata": {
    "collapsed": true,
    "run_control": {
     "frozen": false,
     "read_only": false
    }
   },
   "source": [
    "###  Exercise: indexing \n",
    "1. From `x` select the 3rd last column. Call this `x3_1`\n",
    "2. Then select every 18th row from `x3_1` starting at the 2nd row. Overwrite the output to x3_1\n",
    "3. See if you can do this in a single step slicing step. Call this `x3_2`\n",
    "4. Compare the two arrays to see if they are the same (using `assert`)"
   ]
  },
  {
   "cell_type": "code",
   "execution_count": 8,
   "metadata": {},
   "outputs": [],
   "source": [
    "a = np.array([\n",
    "    [3, 5],\n",
    "    [8, 4]\n",
    "])\n",
    "\n",
    "col = x[:, -3]\n",
    "col = col[1::18]\n",
    "\n",
    "col2 = x[1::18, -3]\n"
   ]
  },
  {
   "cell_type": "code",
   "execution_count": 9,
   "metadata": {},
   "outputs": [
    {
     "data": {
      "text/plain": [
       "(array([891, 539, 810, 226, 272, 427, 690, 105, 183, 927, 436, 514]),\n",
       " array([891, 539, 810, 226, 272, 427, 690, 105, 183, 927, 436, 514]))"
      ]
     },
     "execution_count": 9,
     "metadata": {},
     "output_type": "execute_result"
    }
   ],
   "source": [
    "col2, col"
   ]
  },
  {
   "cell_type": "code",
   "execution_count": 10,
   "metadata": {
    "ExecuteTime": {
     "end_time": "2018-12-05T15:45:45.806052Z",
     "start_time": "2018-12-05T15:45:45.796943Z"
    },
    "run_control": {
     "frozen": false,
     "read_only": false
    }
   },
   "outputs": [],
   "source": [
    "# CODE GOES HERE\n",
    "x3_1 = x[:, -3]\n",
    "x3_1 = x3_1[1::18]\n",
    "\n",
    "x3_2 = x[1::18, -3]\n",
    "\n",
    "# This is how we can compare the values\n",
    "assert all(x3_1 == x3_2), 'Your arrays are not the same'"
   ]
  },
  {
   "cell_type": "code",
   "execution_count": 64,
   "metadata": {},
   "outputs": [
    {
     "name": "stdout",
     "output_type": "stream",
     "text": [
      "[822  86 396 509 223 340 431 403 534 503 949  60]\n"
     ]
    }
   ],
   "source": [
    "if any(x3_1 == x3_2):\n",
    "    print(x3_1)"
   ]
  },
  {
   "cell_type": "markdown",
   "metadata": {},
   "source": [
    "### Concatenating data\n",
    "\n",
    "There is a special trick to concatenating data. We can use `np.r_` and `np.c`  \n",
    "Let's try"
   ]
  },
  {
   "cell_type": "code",
   "execution_count": 67,
   "metadata": {
    "ExecuteTime": {
     "end_time": "2018-12-05T15:46:42.025028Z",
     "start_time": "2018-12-05T15:46:42.021460Z"
    }
   },
   "outputs": [],
   "source": [
    "x = np.arange(10)\n",
    "y = np.arange(10, 0, -1)"
   ]
  },
  {
   "cell_type": "code",
   "execution_count": 68,
   "metadata": {
    "ExecuteTime": {
     "end_time": "2018-12-05T15:46:42.603255Z",
     "start_time": "2018-12-05T15:46:42.597540Z"
    }
   },
   "outputs": [
    {
     "data": {
      "text/plain": [
       "(array([0, 1, 2, 3, 4, 5, 6, 7, 8, 9]),\n",
       " array([10,  9,  8,  7,  6,  5,  4,  3,  2,  1]))"
      ]
     },
     "execution_count": 68,
     "metadata": {},
     "output_type": "execute_result"
    }
   ],
   "source": [
    "x, y"
   ]
  },
  {
   "cell_type": "code",
   "execution_count": 76,
   "metadata": {},
   "outputs": [
    {
     "data": {
      "text/plain": [
       "array([[ 0, 10,  1],\n",
       "       [ 1,  9,  2],\n",
       "       [ 2,  8,  3],\n",
       "       [ 3,  7,  4],\n",
       "       [ 4,  6,  5],\n",
       "       [ 5,  5,  6],\n",
       "       [ 6,  4,  7],\n",
       "       [ 7,  3,  8],\n",
       "       [ 8,  2,  9],\n",
       "       [ 9,  1, 10]])"
      ]
     },
     "execution_count": 76,
     "metadata": {},
     "output_type": "execute_result"
    }
   ],
   "source": [
    "c_[x, y, y[::-1]]"
   ]
  },
  {
   "cell_type": "code",
   "execution_count": 77,
   "metadata": {
    "ExecuteTime": {
     "end_time": "2018-12-05T15:46:46.990910Z",
     "start_time": "2018-12-05T15:46:46.986331Z"
    }
   },
   "outputs": [
    {
     "name": "stdout",
     "output_type": "stream",
     "text": [
      "[[ 0 10]\n",
      " [ 1  9]\n",
      " [ 2  8]\n",
      " [ 3  7]\n",
      " [ 4  6]\n",
      " [ 5  5]\n",
      " [ 6  4]\n",
      " [ 7  3]\n",
      " [ 8  2]\n",
      " [ 9  1]]\n"
     ]
    }
   ],
   "source": [
    "print(np.c_[x, y])"
   ]
  },
  {
   "cell_type": "markdown",
   "metadata": {},
   "source": [
    "# Plotting"
   ]
  },
  {
   "cell_type": "markdown",
   "metadata": {},
   "source": [
    "## PLOT the random data using `plt.plot`\n",
    "\n",
    "Let's plot an arbitrary column from the random numpy data we've created. You can even create a new array.  \n",
    "Remember that you can always run `plt.plot?` for help"
   ]
  },
  {
   "cell_type": "code",
   "execution_count": 82,
   "metadata": {},
   "outputs": [],
   "source": [
    "import time"
   ]
  },
  {
   "cell_type": "code",
   "execution_count": 84,
   "metadata": {},
   "outputs": [
    {
     "name": "stdout",
     "output_type": "stream",
     "text": [
      "CPU times: user 831 µs, sys: 1.59 ms, total: 2.42 ms\n",
      "Wall time: 2 s\n"
     ]
    }
   ],
   "source": [
    "%time time.sleep(2)"
   ]
  },
  {
   "cell_type": "code",
   "execution_count": 1,
   "metadata": {},
   "outputs": [
    {
     "name": "stdout",
     "output_type": "stream",
     "text": [
      "Populating the interactive namespace from numpy and matplotlib\n"
     ]
    }
   ],
   "source": [
    "%pylab inline"
   ]
  },
  {
   "cell_type": "code",
   "execution_count": 11,
   "metadata": {},
   "outputs": [],
   "source": [
    "from matplotlib import pyplot as plt\n",
    "import numpy as np\n",
    "import matplotlib as mpl"
   ]
  },
  {
   "cell_type": "code",
   "execution_count": 12,
   "metadata": {
    "ExecuteTime": {
     "end_time": "2018-03-22T09:01:19.154163Z",
     "start_time": "2018-03-22T09:01:19.147242Z"
    }
   },
   "outputs": [
    {
     "data": {
      "text/plain": [
       "[<matplotlib.lines.Line2D at 0x11b5f6198>]"
      ]
     },
     "execution_count": 12,
     "metadata": {},
     "output_type": "execute_result"
    },
    {
     "data": {
      "image/png": "[encoded data removed]",
      "text/plain": [
       "<Figure size 432x288 with 1 Axes>"
      ]
     },
     "metadata": {
      "needs_background": "light"
     },
     "output_type": "display_data"
    }
   ],
   "source": [
    "plot(x3_1)"
   ]
  },
  {
   "cell_type": "markdown",
   "metadata": {},
   "source": [
    "## WORKING WITH CTD DATA!\n",
    "\n",
    "Always good to understand your data before you work with it in Python"
   ]
  },
  {
   "cell_type": "code",
   "execution_count": 16,
   "metadata": {},
   "outputs": [],
   "source": [
    "%less ../data/CTD/01_SANAE53_CTD_007_temperature.csv"
   ]
  },
  {
   "cell_type": "code",
   "execution_count": 23,
   "metadata": {
    "ExecuteTime": {
     "end_time": "2018-12-05T16:08:14.681213Z",
     "start_time": "2018-12-05T16:08:14.675889Z"
    }
   },
   "outputs": [],
   "source": [
    "fname = '../data/CTD/01_SANAE53_CTD_007_temperature.csv'\n",
    "\n",
    "temperature = np.loadtxt(fname, delimiter=',', skiprows=1)"
   ]
  },
  {
   "cell_type": "markdown",
   "metadata": {
    "ExecuteTime": {
     "end_time": "2018-12-05T16:08:13.033875Z",
     "start_time": "2018-12-05T16:08:13.028619Z"
    }
   },
   "source": [
    "### Load salinity and oxygen"
   ]
  },
  {
   "cell_type": "code",
   "execution_count": 40,
   "metadata": {
    "ExecuteTime": {
     "end_time": "2018-12-05T16:11:15.459830Z",
     "start_time": "2018-12-05T16:11:15.455871Z"
    }
   },
   "outputs": [],
   "source": [
    "temp_fname = '../data/CTD/01_SANAE53_CTD_007_temperature.csv'\n",
    "salt_fname = '../data/CTD/01_SANAE53_CTD_007_salinity.csv'\n",
    "oxgn_fname = '../data/CTD/01_SANAE53_CTD_007_oxygen.csv'\n",
    "\n",
    "# code here\n",
    "temperature = np.loadtxt(temp_fname, delimiter=',', skiprows=1)\n",
    "salinity = np.loadtxt(salt_fname, delimiter=',', skiprows=1)\n",
    "oxygen = np.loadtxt(oxgn_fname, delimiter=',', skiprows=1)"
   ]
  },
  {
   "cell_type": "markdown",
   "metadata": {},
   "source": [
    "### Plot the data on the same axis\n",
    "\n",
    "Plot oxygen and salinity on the same axes, with Oxygen at the top x-axis and Salinity at the bottom x-axis.  \n",
    "Use the `twin[y,x]` method from an existing axes object to create a second axes. \n",
    "\n",
    "I'll show you how to do legends for more complicated situations like this."
   ]
  },
  {
   "cell_type": "code",
   "execution_count": 42,
   "metadata": {},
   "outputs": [
    {
     "data": {
      "text/plain": [
       "[<matplotlib.lines.Line2D at 0x11c3d62e8>]"
      ]
     },
     "execution_count": 42,
     "metadata": {},
     "output_type": "execute_result"
    },
    {
     "data": {
      "image/png": "[encoded data removed]",
      "text/plain": [
       "<Figure size 432x288 with 1 Axes>"
      ]
     },
     "metadata": {
      "needs_background": "light"
     },
     "output_type": "display_data"
    }
   ],
   "source": [
    "plot(temperature[:, 1], temperature[:, 0])"
   ]
  },
  {
   "cell_type": "markdown",
   "metadata": {},
   "source": [
    "    array2d[rows, cols]"
   ]
  },
  {
   "cell_type": "code",
   "execution_count": 44,
   "metadata": {},
   "outputs": [],
   "source": [
    "depth = temperature[:, 0]  # depth column\n",
    "temp = temperature[:, 1]  # temperature column"
   ]
  },
  {
   "cell_type": "code",
   "execution_count": 65,
   "metadata": {},
   "outputs": [
    {
     "data": {
      "image/png": "[encoded data removed]",
      "text/plain": [
       "<Figure size 560x480 with 2 Axes>"
      ]
     },
     "metadata": {
      "needs_background": "light"
     },
     "output_type": "display_data"
    }
   ],
   "source": [
    "fig = plt.figure(figsize=[7, 6], dpi=80)\n",
    "ax1 = fig.add_subplot(121)\n",
    "ax2 = fig.add_subplot(122)\n",
    "\n",
    "ax1.plot(temp, depth, label='Temperature')\n",
    "\n",
    "ax1.set_ylim(1000, 0)\n",
    "ax1.set_ylabel('Depth (m)')\n",
    "ax1.set_xlabel('Temperature (degC)')\n",
    "\n",
    "ax1.legend()\n",
    "\n",
    "fig.tight_layout()"
   ]
  },
  {
   "cell_type": "code",
   "execution_count": 95,
   "metadata": {},
   "outputs": [
    {
     "data": {
      "text/plain": [
       "<matplotlib.axes._subplots.AxesSubplot at 0x121516898>"
      ]
     },
     "execution_count": 95,
     "metadata": {},
     "output_type": "execute_result"
    }
   ],
   "source": [
    "fig.get_children()[1]"
   ]
  },
  {
   "cell_type": "code",
   "execution_count": 99,
   "metadata": {
    "ExecuteTime": {
     "end_time": "2018-12-05T16:02:59.328112Z",
     "start_time": "2018-12-05T16:02:59.160392Z"
    }
   },
   "outputs": [
    {
     "data": {
      "text/plain": [
       "<matplotlib.legend.Legend at 0x122955080>"
      ]
     },
     "execution_count": 99,
     "metadata": {},
     "output_type": "execute_result"
    },
    {
     "data": {
      "image/png": "[encoded data removed]",
      "text/plain": [
       "<Figure size 400x600 with 2 Axes>"
      ]
     },
     "metadata": {
      "needs_background": "light"
     },
     "output_type": "display_data"
    }
   ],
   "source": [
    "x1 = oxygen[:, 1]\n",
    "x2 = salinity[:, 1]\n",
    "y = depth\n",
    "\n",
    "line = []\n",
    "\n",
    "fig, ax1 = plt.subplots(1, 1, figsize=[4, 6], dpi=100)\n",
    "line += ax1.plot(x1, y, label='Oxygen')\n",
    "ax1.set_ylim(1000, 0)\n",
    "ax1.set_xlabel('Oxygen')\n",
    "ax1.set_ylabel('Depth (m)')\n",
    "\n",
    "ax2 = ax1.twiny()\n",
    "line += ax2.plot(x2, y, label='Salinity', color='red')\n",
    "ax2.set_xlabel('Salinity')\n",
    "\n",
    "ax1.yaxis.set_ticklabels('fivess')  # another way of changing the xticklabels \n",
    "\n",
    "fig.legend(line, ['Oxygen', 'Salinity'], loc=[0.2, 0.5])\n",
    "# your code here"
   ]
  },
  {
   "cell_type": "code",
   "execution_count": 84,
   "metadata": {},
   "outputs": [
    {
     "data": {
      "text/plain": [
       "[<matplotlib.lines.Line2D at 0x11cc72a58>]"
      ]
     },
     "execution_count": 84,
     "metadata": {},
     "output_type": "execute_result"
    }
   ],
   "source": [
    "line1"
   ]
  },
  {
   "cell_type": "markdown",
   "metadata": {},
   "source": [
    "### Get only the upper 200 m of the profile\n",
    "\n",
    "We are interested in working with Chlorophyll. There is no light below 200m, so we can simply cut this data away to reduce the size of the dataset we're working with. Using indexing, cut the `data` array:\n",
    "1. identify the depth column\n",
    "2. find where the depth is less than 200 m\n",
    "3. use indexing to split the data into an down and up cast of the CTD"
   ]
  },
  {
   "cell_type": "code",
   "execution_count": null,
   "metadata": {},
   "outputs": [],
   "source": []
  },
  {
   "cell_type": "code",
   "execution_count": null,
   "metadata": {},
   "outputs": [],
   "source": []
  },
  {
   "cell_type": "markdown",
   "metadata": {
    "ExecuteTime": {
     "end_time": "2018-03-06T14:48:13.283664Z",
     "start_time": "2018-03-06T14:48:13.278147Z"
    }
   },
   "source": [
    "# SeaGlider data and section plots\n",
    "See the file `seaGlider_exercise1.py` and complete this for tomorrow. This has to be done in a script – not an ipython notebook. "
   ]
  },
  {
   "cell_type": "markdown",
   "metadata": {},
   "source": [
    "## Load the data using numpy "
   ]
  },
  {
   "cell_type": "code",
   "execution_count": null,
   "metadata": {
    "ExecuteTime": {
     "end_time": "2018-03-22T10:20:41.103349Z",
     "start_time": "2018-03-22T10:20:38.819209Z"
    }
   },
   "outputs": [],
   "source": [
    "fname_flr1 = '../data/SeaGlider/seaGlider_Fluorescence_p1.csv'\n",
    "fname_flr2 = '../data/SeaGlider/seaGlider_Fluorescence_p2.csv'\n",
    "fname_dept = '../data/SeaGlider/seaGlider_Depth.csv'\n",
    "fname_date = '../data/SeaGlider/seaGlider_DateTime.csv'\n",
    "\n",
    "flr1 = np.loadtxt(fname_flr1, delimiter=',')  # load fluorescence section part 1\n",
    "flr2 = np.loadtxt(fname_flr2, delimiter=',')  # load fluorescence section part 1\n",
    "flr = np.c_[flr1, flr2]\n",
    "\n",
    "depth = np.loadtxt(fname_dept, delimiter=',')  # load depths\n",
    "# load the dates - the dates are in format 'YYYY-MM-DD hh:mm:ss.000' \n",
    "# dtype='datetime64[s]' tells loadtxt to read the strings as dates that python understands\n",
    "dates = np.loadtxt(fname_date, delimiter=',', dtype='datetime64[s]')  "
   ]
  },
  {
   "cell_type": "markdown",
   "metadata": {},
   "source": [
    "## Get a feel for the data"
   ]
  },
  {
   "cell_type": "code",
   "execution_count": null,
   "metadata": {
    "ExecuteTime": {
     "end_time": "2018-03-22T10:20:43.628346Z",
     "start_time": "2018-03-22T10:20:43.311717Z"
    }
   },
   "outputs": [],
   "source": [
    "# quick plot of every second profile for the last 10 profiles showing only the top 200 m\n",
    "# note that the data is binned in 1m bins\n",
    "\n",
    "plt.plot(flr[:200, -10::2], range(200))\n",
    "plt.ylim(200, 0)\n",
    "\n",
    "# annotate the figure here \n",
    "\n",
    "plt.show()"
   ]
  },
  {
   "cell_type": "markdown",
   "metadata": {},
   "source": [
    "## `pcolormesh` plots\n",
    "\n",
    "**Differences between `pcolor` and `pcolormesh`?**\n",
    "\n",
    ">The 2 functions are almost identical. The main important difference is that **pcolormesh is much faster by several orders of magnitude**"
   ]
  },
  {
   "cell_type": "code",
   "execution_count": null,
   "metadata": {
    "ExecuteTime": {
     "end_time": "2018-03-22T10:25:29.487083Z",
     "start_time": "2018-03-22T10:25:29.464052Z"
    }
   },
   "outputs": [],
   "source": [
    "# matplotlib doesn't like the np.datetime64 type - prefers datetime.datetime - .astype('O) converts\n",
    "x = dates.astype('O')  \n",
    "y = depth  \n",
    "# Older versions of matplotlib didn't like nans in the data. We can mask the data to avoid this.\n",
    "z = ma.masked_invalid(flr)  "
   ]
  },
  {
   "cell_type": "code",
   "execution_count": null,
   "metadata": {
    "ExecuteTime": {
     "end_time": "2018-03-22T10:25:53.732806Z",
     "start_time": "2018-03-22T10:25:53.723130Z"
    }
   },
   "outputs": [],
   "source": [
    "# dimensions should match \n",
    "z.shape, x.shape, y.shape"
   ]
  },
  {
   "cell_type": "code",
   "execution_count": null,
   "metadata": {
    "ExecuteTime": {
     "end_time": "2018-03-22T10:25:56.632922Z",
     "start_time": "2018-03-22T10:25:56.621264Z"
    }
   },
   "outputs": [],
   "source": [
    "z  # z is now a masked array"
   ]
  },
  {
   "cell_type": "markdown",
   "metadata": {},
   "source": [
    "**A bit of background on `np.ma` (masked arrays)**  \n",
    "Masked arrays consist of two parts: data, mask.   \n",
    "The data is an exact replica of a numpy array, while the mask is a boolean array that is True where the object is masked. \n",
    "\n",
    "In older versions of "
   ]
  },
  {
   "cell_type": "code",
   "execution_count": null,
   "metadata": {},
   "outputs": [],
   "source": [
    "z = np.around(z, 1)\n",
    "print('original data containing nans')\n",
    "print(z.data, 1)\n",
    "print('\\nmask object')\n",
    "print(z.mask)\n",
    "print('\\nmasked array')\n",
    "print(z)"
   ]
  },
  {
   "cell_type": "code",
   "execution_count": null,
   "metadata": {
    "ExecuteTime": {
     "end_time": "2018-03-22T10:10:01.010324Z",
     "start_time": "2018-03-22T10:09:55.847672Z"
    }
   },
   "outputs": [],
   "source": [
    "# create a figure, and axes with names fig and ax\n",
    "fig, ax = plt.subplots(1, 1, figsize=[11, 4], dpi=150)\n",
    "# create a section of fluorescence and call the section `im`\n",
    "im = ax.pcolormesh(x, y[:200], z[:200], vmax=200)  \n",
    "\n",
    "# add more arguments so that the plot is labeled properly \n",
    "plt.ylim(200, 0)  # swap the y axis to upside down. \n",
    "\n",
    "# add a colorbar for the section called `im`\n",
    "cb = plt.colorbar(mappable=im, pad=0.01)\n",
    "cb.set_label('Raw fluorescence units')\n",
    "\n",
    "# show the object\n",
    "plt.show()"
   ]
  },
  {
   "cell_type": "code",
   "execution_count": null,
   "metadata": {},
   "outputs": [],
   "source": []
  }
 ],
 "metadata": {
  "anaconda-cloud": {},
  "hide_input": false,
  "kernelspec": {
   "display_name": "Python 3",
   "language": "python",
   "name": "python3"
  },
  "language_info": {
   "codemirror_mode": {
    "name": "ipython",
    "version": 3
   },
   "file_extension": ".py",
   "mimetype": "text/x-python",
   "name": "python",
   "nbconvert_exporter": "python",
   "pygments_lexer": "ipython3",
   "version": "3.7.0"
  },
  "toc": {
   "base_numbering": 1,
   "nav_menu": {
    "height": "102px",
    "width": "252px"
   },
   "number_sections": true,
   "sideBar": true,
   "skip_h1_title": false,
   "title_cell": "Table of Contents",
   "title_sidebar": "Contents",
   "toc_cell": true,
   "toc_position": {},
   "toc_section_display": "block",
   "toc_window_display": false
  },
  "varInspector": {
   "cols": {
    "lenName": 16,
    "lenType": 16,
    "lenVar": 40
   },
   "kernels_config": {
    "python": {
     "delete_cmd_postfix": "",
     "delete_cmd_prefix": "del ",
     "library": "var_list.py",
     "varRefreshCmd": "print(var_dic_list())"
    },
    "r": {
     "delete_cmd_postfix": ") ",
     "delete_cmd_prefix": "rm(",
     "library": "var_list.r",
     "varRefreshCmd": "cat(var_dic_list()) "
    }
   },
   "types_to_exclude": [
    "module",
    "function",
    "builtin_function_or_method",
    "instance",
    "_Feature"
   ],
   "window_display": false
  }
 },
 "nbformat": 4,
 "nbformat_minor": 1
}

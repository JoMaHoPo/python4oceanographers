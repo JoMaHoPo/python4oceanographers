{
 "cells": [
  {
   "cell_type": "markdown",
   "metadata": {
    "run_control": {
     "frozen": false,
     "read_only": false
    },
    "toc": "true"
   },
   "source": [
    "<h1>Table of Contents<span class=\"tocSkip\"></span></h1>\n",
    "<div class=\"toc\"><ul class=\"toc-item\"><li><span><a href=\"#Quick-intro-to-cartopy\" data-toc-modified-id=\"Quick-intro-to-cartopy-1\"><span class=\"toc-item-num\">1&nbsp;&nbsp;</span>Quick intro to <code>cartopy</code></a></span></li><li><span><a href=\"#Projections\" data-toc-modified-id=\"Projections-2\"><span class=\"toc-item-num\">2&nbsp;&nbsp;</span>Projections</a></span></li><li><span><a href=\"#Understanding-transforming\" data-toc-modified-id=\"Understanding-transforming-3\"><span class=\"toc-item-num\">3&nbsp;&nbsp;</span>Understanding transforming</a></span></li><li><span><a href=\"#Plotting-netCDF-data\" data-toc-modified-id=\"Plotting-netCDF-data-4\"><span class=\"toc-item-num\">4&nbsp;&nbsp;</span>Plotting netCDF data</a></span><ul class=\"toc-item\"><li><span><a href=\"#Load-netCDF-data-for-maps\" data-toc-modified-id=\"Load-netCDF-data-for-maps-4.1\"><span class=\"toc-item-num\">4.1&nbsp;&nbsp;</span>Load netCDF data for maps</a></span></li><li><span><a href=\"#Global-map\" data-toc-modified-id=\"Global-map-4.2\"><span class=\"toc-item-num\">4.2&nbsp;&nbsp;</span>Global map</a></span></li><li><span><a href=\"#plotting-a-marker-on-the-map\" data-toc-modified-id=\"plotting-a-marker-on-the-map-4.3\"><span class=\"toc-item-num\">4.3&nbsp;&nbsp;</span>plotting a marker on the map</a></span></li><li><span><a href=\"#South-Polar-Stereographic\" data-toc-modified-id=\"South-Polar-Stereographic-4.4\"><span class=\"toc-item-num\">4.4&nbsp;&nbsp;</span>South Polar Stereographic</a></span></li></ul></li><li><span><a href=\"#With-Luke's-xda.map()-function\" data-toc-modified-id=\"With-Luke's-xda.map()-function-5\"><span class=\"toc-item-num\">5&nbsp;&nbsp;</span>With Luke's <code>xda.map()</code> function</a></span><ul class=\"toc-item\"><li><span><a href=\"#Transverse-Mercator-for-sections\" data-toc-modified-id=\"Transverse-Mercator-for-sections-5.1\"><span class=\"toc-item-num\">5.1&nbsp;&nbsp;</span>Transverse Mercator for sections</a></span></li></ul></li></ul></div>"
   ]
  },
  {
   "cell_type": "code",
   "execution_count": null,
   "metadata": {},
   "outputs": [],
   "source": [
    "%pylab inline\n",
    "\n",
    "from cartopy import crs as ccrs, feature as cfeature\n",
    "import xarray as xr\n",
    "import cmocean.cm as cmo\n",
    "import warnings\n",
    "import sys\n",
    "\n",
    "sys.path.insert(0, '..')\n",
    "import scripts\n",
    "\n",
    "plt.rcParams['figure.dpi'] = 120\n",
    "\n",
    "warnings.filterwarnings('ignore', message='Mean of empty slice return')\n",
    "warnings.filterwarnings('ignore', message='invalid value encountered in')"
   ]
  },
  {
   "cell_type": "markdown",
   "metadata": {
    "run_control": {
     "frozen": false,
     "read_only": false
    }
   },
   "source": [
    "# Quick intro to `cartopy`\n",
    "\n",
    "If we want to plot this data as a map, we can use the `cartopy` package. This replaces the older `basemap` which will be discontinued\n",
    "\n",
    "Below is an example of a simple map on a Plate Carree projection. "
   ]
  },
  {
   "cell_type": "code",
   "execution_count": null,
   "metadata": {},
   "outputs": [],
   "source": [
    "proj = ccrs.PlateCarree()\n",
    "\n",
    "fig = plt.figure(figsize=[6, 6])\n",
    "ax = fig.add_subplot(111, projection=proj)\n",
    "\n",
    "# play around with commenting with these properties\n",
    "\n",
    "xgrid = [-180, -120, -60, 0, 60, 120, 180]\n",
    "ygrid = [-90, -60, -30, 0, 30, 60, 90]\n",
    "\n",
    "# unfortunately this only works for Mercator and PlateCarree for now\n",
    "ax.gridlines(linestyle='--', color='k', linewidth=0.5, alpha=0.5)  \n",
    "\n",
    "ax.coastlines(lw=0.5, resolution='110m')\n",
    "\n",
    "ax.stock_img()\n",
    "\n",
    "fig.tight_layout()\n",
    "plt.show()"
   ]
  },
  {
   "cell_type": "markdown",
   "metadata": {},
   "source": [
    "# Projections"
   ]
  },
  {
   "cell_type": "markdown",
   "metadata": {},
   "source": [
    "By changing the `crs.projection` of the axes we can easily plot data on a different projection.  \n",
    "Below is a list of all the projections.  \n",
    "Give some of these a go! \n",
    "\n",
    "       AlbersEqualArea\n",
    "       AzimuthalEquidistant\n",
    "       EuroPP\n",
    "       Geocentric\n",
    "    >> Geodetic\n",
    "       Geostationary\n",
    "       Gnomonic\n",
    "       InterruptedGoodeHomolosine\n",
    "       LambertAzimuthalEqualArea\n",
    "       LambertConformal\n",
    "       LambertCylindrical\n",
    "       Mercator\n",
    "       Miller\n",
    "       Mollweide\n",
    "       NearsidePerspective\n",
    "       NorthPolarStereo\n",
    "       OSGB\n",
    "       OSNI\n",
    "       Orthographic\n",
    "    >> PlateCarree\n",
    "    == Robinson\n",
    "       RotatedGeodetic\n",
    "       RotatedPole\n",
    "       Sinusoidal\n",
    "       SouthPolarStereo\n",
    "    == Stereographic\n",
    "       TransverseMercator\n",
    "\n",
    "The two projections marked with `>>` are also used to transform data (described below).  \n",
    "The projections marked with `==` are those that I use frequently"
   ]
  },
  {
   "cell_type": "code",
   "execution_count": null,
   "metadata": {
    "scrolled": false
   },
   "outputs": [],
   "source": [
    "proj = ccrs.Stereographic(central_latitude=-90, scale_factor=7)\n",
    "\n",
    "fig = plt.figure(figsize=[6, 6], dpi=80)\n",
    "ax = fig.add_subplot(111, projection=proj)\n",
    "\n",
    "ax.add_feature(cfeature.LAND)\n",
    "ax.coastlines(lw=0.5, resolution='50m')\n",
    "ax.gridlines(ylocs=[-20, -40, -60, -80])\n",
    "\n",
    "fig.tight_layout()\n",
    "plt.show()"
   ]
  },
  {
   "cell_type": "markdown",
   "metadata": {},
   "source": [
    "# Understanding transforming\n",
    "\n",
    "To change projection and plot data on the correct `lat x lon` grid the data needs to be transformed. \n",
    "This needs to be done as the map has a differnt coordinate system to latitude and longitde. \n",
    "\n",
    "If we want to plot a point on the map we thus need to convert latitude and longitude to this new coordinate system. This used to be tricky in `basemap`, but with `cartopy` we simply pass the `transform=` keyword arguement with a projection to transform the data. \n",
    "\n",
    "There are two projections that also act as transformations:\n",
    "- `crs.PlateCarree()`: Transforms on a flat earth. See the example below\n",
    "- `crs.Geodetic()`: Transforms on a spherical earth - plots the great-circle distance"
   ]
  },
  {
   "cell_type": "code",
   "execution_count": null,
   "metadata": {},
   "outputs": [],
   "source": [
    "ax = plt.axes(projection=ccrs.PlateCarree())\n",
    "ax.stock_img()\n",
    "ax.coastlines(lw=0.5)\n",
    "\n",
    "ny_lon, ny_lat = -75, 43\n",
    "delhi_lon, delhi_lat = 77.23, 28.61\n",
    "\n",
    "plt.plot([ny_lon, delhi_lon], [ny_lat, delhi_lat], transform=ccrs.Geodetic(), c='blue', lw=2, ms=2)\n",
    "plt.plot([ny_lon, delhi_lon], [ny_lat, delhi_lat], transform=ccrs.PlateCarree(), c='gray', ls='--')\n",
    "\n",
    "plt.text(ny_lon - 3, ny_lat - 12,    'New York', ha='right', transform=ccrs.Geodetic())\n",
    "plt.text(delhi_lon + 3, delhi_lat - 12, 'Delhi', ha='left',  transform=ccrs.PlateCarree())\n",
    "\n",
    "plt.show()"
   ]
  },
  {
   "cell_type": "code",
   "execution_count": null,
   "metadata": {},
   "outputs": [],
   "source": [
    "ax = plt.axes(projection=ccrs.Stereographic(central_latitude=70, scale_factor=1))\n",
    "\n",
    "ax.stock_img()\n",
    "ax.add_feature(cfeature.LAND)\n",
    "ax.coastlines(lw=0.5)\n",
    "\n",
    "ny_lon, ny_lat = -75, 43\n",
    "delhi_lon, delhi_lat = 77.23, 28.61\n",
    "\n",
    "plt.plot([ny_lon, delhi_lon], [ny_lat, delhi_lat], transform=ccrs.PlateCarree(), c='gray', ls='--')\n",
    "plt.plot([ny_lon, delhi_lon], [ny_lat, delhi_lat], transform=ccrs.Geodetic(), c='blue', lw=2, ms=2)\n",
    "\n",
    "ax.set_extent([-48, 70, 10, 90])\n",
    "plt.show()"
   ]
  },
  {
   "cell_type": "markdown",
   "metadata": {},
   "source": [
    "# Plotting netCDF data"
   ]
  },
  {
   "cell_type": "markdown",
   "metadata": {},
   "source": [
    "## Load netCDF data for maps"
   ]
  },
  {
   "cell_type": "code",
   "execution_count": null,
   "metadata": {},
   "outputs": [],
   "source": [
    "chl = xr.open_dataarray('../data/Globcolour/Globcolour_L3m_GLOB_16D_25km_CHL1_2014.nc')\n",
    "chl = chl.mean('time')"
   ]
  },
  {
   "cell_type": "markdown",
   "metadata": {},
   "source": [
    "## Global map"
   ]
  },
  {
   "cell_type": "code",
   "execution_count": null,
   "metadata": {},
   "outputs": [],
   "source": [
    "fig = figure(figsize=[11, 5])\n",
    "ax = fig.add_subplot(111, projection=ccrs.Robinson())\n",
    "\n",
    "qm = chl.plot(ax=ax, transform=ccrs.PlateCarree(), vmax=2, zorder=-1, cmap=cmo.delta)\n",
    "ax.add_feature(cfeature.LAND, color='#CCCCCC', zorder=0)\n",
    "ax.coastlines(zorder=0)\n",
    "\n",
    "fig.tight_layout()\n",
    "plt.show()"
   ]
  },
  {
   "cell_type": "markdown",
   "metadata": {},
   "source": [
    "## plotting a marker on the map"
   ]
  },
  {
   "cell_type": "code",
   "execution_count": null,
   "metadata": {},
   "outputs": [],
   "source": [
    "# try this on your own first. Luke will show the result here afterwards!\n",
    "\n",
    "\n"
   ]
  },
  {
   "cell_type": "markdown",
   "metadata": {},
   "source": [
    "## South Polar Stereographic"
   ]
  },
  {
   "cell_type": "code",
   "execution_count": null,
   "metadata": {},
   "outputs": [],
   "source": [
    "fig = plt.figure()\n",
    "ax = fig.add_subplot(111, projection=ccrs.Stereographic(central_latitude=-90, scale_factor=7))\n",
    "\n",
    "so = chl.sel(lat=slice(-90, -30))\n",
    "img = so.plot(ax=ax, transform=ccrs.PlateCarree(), \n",
    "              norm=mpl.colors.LogNorm(), robust=True, cmap=cmo.delta, \n",
    "              zorder=-1)\n",
    "\n",
    "ax.add_feature(cfeature.LAND, color='#CCCCCC', zorder=0)\n",
    "ax.add_feature(cfeature.COASTLINE, lw=0.5, zorder=0)\n",
    "\n",
    "plt.show()"
   ]
  },
  {
   "cell_type": "markdown",
   "metadata": {},
   "source": [
    "# With Luke's `xda.map()` function\n",
    "\n",
    "I made a function that makes it very quick to look at data and it produces a plot that is near publication ready."
   ]
  },
  {
   "cell_type": "code",
   "execution_count": null,
   "metadata": {},
   "outputs": [],
   "source": [
    "ax = so.map(proj=ccrs.Stereographic(central_latitude=-90, scale_factor=7))\n",
    "\n",
    "ax.plot(8, -43, 'ow', mec='k', mew=2, ms=10, transform=ccrs.PlateCarree())\n",
    "ax.plot([19, 0, 0], [-34, -43, -70], '-', lw=3, c='orange', transform=ccrs.Geodetic())\n",
    "\n",
    "ax.colorbar.set_label('Chlorophyll-$a$ (mg.m$^{-3}$)')"
   ]
  },
  {
   "cell_type": "markdown",
   "metadata": {},
   "source": [
    "## Transverse Mercator for sections"
   ]
  },
  {
   "cell_type": "code",
   "execution_count": null,
   "metadata": {},
   "outputs": [],
   "source": [
    "sst_fname = '../data/GHRSST/201*.nc'\n",
    "\n",
    "xds = xr.open_mfdataset(sst_fname, autoclose=True).sel(lat=slice(-80, -20))\n",
    "sst = xds.analysed_sst - 273.15\n",
    "ice = xds.sea_ice_fraction\n",
    "\n",
    "sst_avg = sst.mean('time').load()\n",
    "ice_avg = ice.mean('time').load()\n",
    "\n",
    "fig = plt.figure(figsize=[8, 4.5])\n",
    "ax = fig.add_subplot(111, projection=ccrs.TransverseMercator(central_longitude=5, scale_factor=1), frameon=False)\n",
    "im = sst_avg.plot(ax=ax, transform=ccrs.PlateCarree(), \n",
    "                  cmap=cmo.thermal, vmin=-2, vmax=26, )\n",
    "\n",
    "def draw_boundary_gridlines(xda, ax):\n",
    "    ax.outline_patch.set_linewidth(0)\n",
    "\n",
    "    ur = np.around([xda.lon.max().values, xda.lat.max().values]).tolist()\n",
    "    ll = np.around([xda.lon.min().values, xda.lat.min().values]).tolist()\n",
    "\n",
    "    bx = ll[0], ll[0], ur[0], ur[0], ll[0]\n",
    "    by = ur[1], ll[1], ll[1], ur[1], ur[1]\n",
    "    tf = ccrs.PlateCarree()\n",
    "    \n",
    "    ax.plot(bx, by, c='k', lw=1, transform=tf)\n",
    "    \n",
    "    gx = np.arange(ll[0], ur[0], 20)\n",
    "    gy = np.arange(ll[1], ur[1], 20)\n",
    "\n",
    "    prop = dict(transform=tf, color='k', lw=0.5)\n",
    "    [ax.plot([x, x], [ll[1], ur[1]], **prop) for x in gx]\n",
    "    [ax.plot([ll[0], ur[0]], [y, y], **prop) for y in gy]\n",
    "\n",
    "    return ur, ll\n",
    "\n",
    "draw_boundary_gridlines(sst_avg, ax)\n",
    "\n",
    "ax.coastlines()\n",
    "ax.add_feature(cfeature.LAND, color='#CCCCCC')\n",
    "plt.show()"
   ]
  },
  {
   "cell_type": "code",
   "execution_count": null,
   "metadata": {},
   "outputs": [],
   "source": []
  }
 ],
 "metadata": {
  "anaconda-cloud": {},
  "hide_input": false,
  "kernelspec": {
   "display_name": "Python 3",
   "language": "python",
   "name": "python3"
  },
  "toc": {
   "base_numbering": 1,
   "nav_menu": {
    "height": "138px",
    "width": "252px"
   },
   "number_sections": true,
   "sideBar": true,
   "skip_h1_title": false,
   "title_cell": "Table of Contents",
   "title_sidebar": "Contents",
   "toc_cell": true,
   "toc_position": {},
   "toc_section_display": "block",
   "toc_window_display": false
  },
  "varInspector": {
   "cols": {
    "lenName": 16,
    "lenType": 16,
    "lenVar": 40
   },
   "kernels_config": {
    "python": {
     "delete_cmd_postfix": "",
     "delete_cmd_prefix": "del ",
     "library": "var_list.py",
     "varRefreshCmd": "print(var_dic_list())"
    },
    "r": {
     "delete_cmd_postfix": ") ",
     "delete_cmd_prefix": "rm(",
     "library": "var_list.r",
     "varRefreshCmd": "cat(var_dic_list()) "
    }
   },
   "types_to_exclude": [
    "module",
    "function",
    "builtin_function_or_method",
    "instance",
    "_Feature"
   ],
   "window_display": false
  }
 },
 "nbformat": 4,
 "nbformat_minor": 1
}

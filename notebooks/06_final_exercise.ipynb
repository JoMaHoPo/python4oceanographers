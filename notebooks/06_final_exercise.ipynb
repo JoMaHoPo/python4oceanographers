{
 "cells": [
  {
   "cell_type": "markdown",
   "metadata": {
    "toc": true
   },
   "source": [
    "<h1>Table of Contents<span class=\"tocSkip\"></span></h1>\n",
    "<div class=\"toc\"><ul class=\"toc-item\"><li><span><a href=\"#Final-exercise\" data-toc-modified-id=\"Final-exercise-1\"><span class=\"toc-item-num\">1&nbsp;&nbsp;</span>Final exercise</a></span><ul class=\"toc-item\"><li><span><a href=\"#FIGURE-1\" data-toc-modified-id=\"FIGURE-1-1.1\"><span class=\"toc-item-num\">1.1&nbsp;&nbsp;</span>FIGURE 1</a></span></li><li><span><a href=\"#FIGURE-2\" data-toc-modified-id=\"FIGURE-2-1.2\"><span class=\"toc-item-num\">1.2&nbsp;&nbsp;</span>FIGURE 2</a></span></li><li><span><a href=\"#FIGURE-3\" data-toc-modified-id=\"FIGURE-3-1.3\"><span class=\"toc-item-num\">1.3&nbsp;&nbsp;</span>FIGURE 3</a></span></li></ul></li></ul></div>"
   ]
  },
  {
   "cell_type": "code",
   "execution_count": 1,
   "metadata": {
    "ExecuteTime": {
     "end_time": "2018-03-14T10:03:13.092305Z",
     "start_time": "2018-03-14T10:03:11.792673Z"
    },
    "run_control": {
     "frozen": false,
     "read_only": false
    }
   },
   "outputs": [
    {
     "name": "stdout",
     "output_type": "stream",
     "text": [
      "Populating the interactive namespace from numpy and matplotlib\n",
      "Loading Luke's custom packages from ../scripts\n",
      "    cell magic: %less_n <fname>\n",
      "    xarray tools: xr.DataArray.map()\n"
     ]
    }
   ],
   "source": [
    "%pylab inline\n",
    "\n",
    "import xarray as xr\n",
    "import netCDF4 as nc\n",
    "\n",
    "import sys \n",
    "sys.path.insert(0, '..')\n",
    "import scripts"
   ]
  },
  {
   "cell_type": "code",
   "execution_count": 2,
   "metadata": {},
   "outputs": [],
   "source": [
    "# rcParams changes matplotlib default values - this is useful for a constant style throughout the notebook\n",
    "rcParams['savefig.dpi'] = 150\n",
    "rcParams['figure.figsize'] = [14, 7]\n",
    "rcParams['figure.dpi'] = 150"
   ]
  },
  {
   "cell_type": "markdown",
   "metadata": {},
   "source": [
    "# Final exercise\n",
    "\n",
    "You will now compare waveglider and remotely sensed SST\n",
    "\n",
    "In this exercise we will compare the sea surface temperature from\n",
    "the OSTIA SST product with the Wave Glider temperature. This is\n",
    "will use all the skills you have learnt along the way.\n",
    "\n",
    "\n",
    "\n",
    "## FIGURE 1\n",
    "1. A map of average SST for the netCDF data.\n",
    "2. A subset of Southern Africa (up to 20degS and down to 50degS).\n",
    "3. Include the location of the wave glider as a point.\n",
    "\n",
    "## FIGURE 2\n",
    "1. Time series comparing SST and wave glider temperature\n",
    "\n",
    "## FIGURE 3\n",
    "1. A scatter plot comparing resampled wave glider data with OSTIA.\n",
    "   You will need to resample the wave glider data to the same sampling\n",
    "   frequency as the satellite data.\n",
    "2. Include a 1:1 line on this plot.\n",
    "3. If you can, add the line of best fit with the slop and r^2\n",
    "\n"
   ]
  },
  {
   "cell_type": "code",
   "execution_count": 4,
   "metadata": {},
   "outputs": [],
   "source": [
    "sst_fname = '../data/GHRSST/201*.nc'\n",
    "wgl_fname = '../data/WaveGlider/02_wave_glider.csv'"
   ]
  },
  {
   "cell_type": "code",
   "execution_count": null,
   "metadata": {
    "ExecuteTime": {
     "end_time": "2018-03-14T16:07:48.004936Z",
     "start_time": "2018-03-14T16:07:38.927169Z"
    },
    "scrolled": false
   },
   "outputs": [],
   "source": []
  }
 ],
 "metadata": {
  "anaconda-cloud": {},
  "hide_input": false,
  "kernelspec": {
   "display_name": "Python 3",
   "language": "python",
   "name": "python3"
  },
  "language_info": {
   "codemirror_mode": {
    "name": "ipython",
    "version": 3
   },
   "file_extension": ".py",
   "mimetype": "text/x-python",
   "name": "python",
   "nbconvert_exporter": "python",
   "pygments_lexer": "ipython3",
   "version": "3.7.0"
  },
  "toc": {
   "base_numbering": 1,
   "nav_menu": {
    "height": "138px",
    "width": "252px"
   },
   "number_sections": true,
   "sideBar": true,
   "skip_h1_title": false,
   "title_cell": "Table of Contents",
   "title_sidebar": "Contents",
   "toc_cell": true,
   "toc_position": {},
   "toc_section_display": "block",
   "toc_window_display": false
  },
  "varInspector": {
   "cols": {
    "lenName": 16,
    "lenType": 16,
    "lenVar": 40
   },
   "kernels_config": {
    "python": {
     "delete_cmd_postfix": "",
     "delete_cmd_prefix": "del ",
     "library": "var_list.py",
     "varRefreshCmd": "print(var_dic_list())"
    },
    "r": {
     "delete_cmd_postfix": ") ",
     "delete_cmd_prefix": "rm(",
     "library": "var_list.r",
     "varRefreshCmd": "cat(var_dic_list()) "
    }
   },
   "types_to_exclude": [
    "module",
    "function",
    "builtin_function_or_method",
    "instance",
    "_Feature"
   ],
   "window_display": false
  }
 },
 "nbformat": 4,
 "nbformat_minor": 1
}

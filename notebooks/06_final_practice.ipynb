{
 "cells": [
  {
   "cell_type": "markdown",
   "metadata": {
    "toc": true
   },
   "source": [
    "<h1>Table of Contents<span class=\"tocSkip\"></span></h1>\n",
    "<div class=\"toc\"><ul class=\"toc-item\"><li><span><a href=\"#About-this-project\" data-toc-modified-id=\"About-this-project-1\"><span class=\"toc-item-num\">1&nbsp;&nbsp;</span>About this project</a></span><ul class=\"toc-item\"><li><span><a href=\"#Map-of-SST\" data-toc-modified-id=\"Map-of-SST-1.1\"><span class=\"toc-item-num\">1.1&nbsp;&nbsp;</span>Map of SST</a></span></li><li><span><a href=\"#Time-series\" data-toc-modified-id=\"Time-series-1.2\"><span class=\"toc-item-num\">1.2&nbsp;&nbsp;</span>Time series</a></span></li><li><span><a href=\"#Scatter-comparing-SST-and-glider-temperature\" data-toc-modified-id=\"Scatter-comparing-SST-and-glider-temperature-1.3\"><span class=\"toc-item-num\">1.3&nbsp;&nbsp;</span>Scatter comparing SST and glider temperature</a></span></li><li><span><a href=\"#Transverse-Mercator-for-sections\" data-toc-modified-id=\"Transverse-Mercator-for-sections-1.4\"><span class=\"toc-item-num\">1.4&nbsp;&nbsp;</span>Transverse Mercator for sections</a></span></li></ul></li></ul></div>"
   ]
  },
  {
   "cell_type": "code",
   "execution_count": null,
   "metadata": {
    "ExecuteTime": {
     "end_time": "2018-03-14T10:03:13.092305Z",
     "start_time": "2018-03-14T10:03:11.792673Z"
    },
    "run_control": {
     "frozen": false,
     "read_only": false
    }
   },
   "outputs": [],
   "source": [
    "%pylab inline\n",
    "\n",
    "import xarray as xr\n",
    "import netCDF4 as nc\n",
    "import cmocean.cm as cmo\n",
    "import cartopy.crs as ccrs\n",
    "import cartopy.feature as cfeature\n",
    "\n",
    "import sys \n",
    "sys.path.insert(0, '..')\n",
    "import scripts"
   ]
  },
  {
   "cell_type": "code",
   "execution_count": null,
   "metadata": {},
   "outputs": [],
   "source": [
    "# rcParams changes matplotlib default values - this is useful for a constant style throughout the notebook\n",
    "rcParams['savefig.dpi'] = 150\n",
    "rcParams['figure.figsize'] = [14, 7]\n",
    "rcParams['figure.dpi'] = 150"
   ]
  },
  {
   "cell_type": "markdown",
   "metadata": {},
   "source": [
    "# About this project"
   ]
  },
  {
   "cell_type": "markdown",
   "metadata": {},
   "source": [
    "You will now compare waveglider and remotely sensed SST\n",
    "\n",
    "In this exercise we will compare the sea surface temperature from\n",
    "the OSTIA SST product with the Wave Glider temperature. This is\n",
    "will use all the skills you have learnt along the way.\n",
    "\n",
    "\n",
    "<div>\n",
    "<img src=\"../images/SAMPLE_Fig1.png\" style=\"float:left; width: 50%; margin-right: 20px; margin-bottom:50px\">\n",
    "\n",
    "## Map of SST\n",
    "1. A map of average SST for the netCDF data.\n",
    "2. A subset of Southern Africa (up to 20°S and down to 80°S).\n",
    "3. Include the location of the wave glider as a point.\n",
    "4. Add average ice fraction as a second pcolormesh layer.\n",
    "</div>\n",
    "\n",
    "<div style=\"clear:both; margin-top: 50px;\">\n",
    "<img src=\"../images/SAMPLE_Fig2.png\" style=\"float:right; width: 70%; margin-right: 20px; margin-bottom:50px\">\n",
    "    \n",
    "## Time series\n",
    "1. Time series comparing SST and wave glider temperature. \n",
    "</div>\n",
    "\n",
    "<div style=\"clear:both; margin-top: 50px;\">\n",
    "<img src=\"../images/SAMPLE_Fig3.png\" style=\"float:left; width: 40%; margin-right: 20px; margin-bottom:50px\">\n",
    "\n",
    "## Scatter comparing SST and glider temperature\n",
    "1. A scatter plot comparing resampled wave glider data with OSTIA.\n",
    "   You will need to resample the wave glider data to the same sampling\n",
    "   frequency as the satellite data.\n",
    "2. Include a 1:1 line on this plot.\n",
    "3. If you can, add the line of best fit with the slope and $r^2$ using `sklearn.linear_model.LinearRegression`\n",
    "\n",
    "</div>"
   ]
  },
  {
   "cell_type": "code",
   "execution_count": null,
   "metadata": {},
   "outputs": [],
   "source": [
    "sst_fname = '../data/GHRSST/201*.nc'\n",
    "wgl_fname = '../data/WaveGlider/02_wave_glider.csv'"
   ]
  },
  {
   "cell_type": "code",
   "execution_count": null,
   "metadata": {
    "ExecuteTime": {
     "end_time": "2018-03-14T16:07:48.004936Z",
     "start_time": "2018-03-14T16:07:38.927169Z"
    },
    "scrolled": false
   },
   "outputs": [],
   "source": [
    "xds = xr.open_mfdataset(sst_fname, autoclose=True).sel(lat=slice(-80, -20))\n",
    "sst = xds.analysed_sst - 273.15\n",
    "ice = xds.sea_ice_fraction\n",
    "\n",
    "sst_avg = sst.mean('time').load()\n",
    "ice_avg = ice.mean('time').load()"
   ]
  },
  {
   "cell_type": "markdown",
   "metadata": {},
   "source": [
    "## Transverse Mercator for sections"
   ]
  },
  {
   "cell_type": "code",
   "execution_count": null,
   "metadata": {},
   "outputs": [],
   "source": [
    "fig = plt.figure(figsize=[8, 4.5])\n",
    "ax = fig.add_subplot(111, projection=ccrs.TransverseMercator(central_longitude=5, scale_factor=1), frameon=False)\n",
    "im = sst_avg.plot(ax=ax, transform=ccrs.PlateCarree(), \n",
    "                  cmap=cmo.thermal, vmin=-2, vmax=26, )\n",
    "\n",
    "def draw_boundary_gridlines(xda, ax):\n",
    "    ax.outline_patch.set_linewidth(0)\n",
    "\n",
    "    ur = np.around([xda.lon.max().values, xda.lat.max().values]).tolist()\n",
    "    ll = np.around([xda.lon.min().values, xda.lat.min().values]).tolist()\n",
    "\n",
    "    bx = ll[0], ll[0], ur[0], ur[0], ll[0]\n",
    "    by = ur[1], ll[1], ll[1], ur[1], ur[1]\n",
    "    tf = ccrs.PlateCarree()\n",
    "    \n",
    "    ax.plot(bx, by, c='k', lw=1, transform=tf)\n",
    "    \n",
    "    gx = np.arange(ll[1], ur[1], 20)\n",
    "    gy = np.arange(ll[0], ur[0], 20)\n",
    "    \n",
    "    prop = dict(transform=tf, color='k', lw=0.5)\n",
    "    [ax.plot([x, x], [ll[1], ur[1]], **prop) for x in xg]\n",
    "    [ax.plot([ll[0], ur[0]], [y, y], **prop) for y in yg]\n",
    "\n",
    "    return ur, ll\n",
    "\n",
    "draw_boundary_gridlines(sst_avg, ax)\n",
    "\n",
    "ax.coastlines()\n",
    "ax.add_feature(cfeature.LAND, color='#CCCCCC')\n",
    "plt.show()"
   ]
  },
  {
   "cell_type": "code",
   "execution_count": null,
   "metadata": {},
   "outputs": [],
   "source": []
  }
 ],
 "metadata": {
  "anaconda-cloud": {},
  "hide_input": false,
  "kernelspec": {
   "display_name": "Python 3",
   "language": "python",
   "name": "python3"
  },
  "toc": {
   "base_numbering": 1,
   "nav_menu": {
    "height": "138px",
    "width": "252px"
   },
   "number_sections": true,
   "sideBar": true,
   "skip_h1_title": false,
   "title_cell": "Table of Contents",
   "title_sidebar": "Contents",
   "toc_cell": true,
   "toc_position": {},
   "toc_section_display": "block",
   "toc_window_display": false
  },
  "varInspector": {
   "cols": {
    "lenName": 16,
    "lenType": 16,
    "lenVar": 40
   },
   "kernels_config": {
    "python": {
     "delete_cmd_postfix": "",
     "delete_cmd_prefix": "del ",
     "library": "var_list.py",
     "varRefreshCmd": "print(var_dic_list())"
    },
    "r": {
     "delete_cmd_postfix": ") ",
     "delete_cmd_prefix": "rm(",
     "library": "var_list.r",
     "varRefreshCmd": "cat(var_dic_list()) "
    }
   },
   "types_to_exclude": [
    "module",
    "function",
    "builtin_function_or_method",
    "instance",
    "_Feature"
   ],
   "window_display": false
  }
 },
 "nbformat": 4,
 "nbformat_minor": 1
}

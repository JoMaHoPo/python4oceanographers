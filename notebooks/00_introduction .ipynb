{
 "cells": [
  {
   "cell_type": "markdown",
   "metadata": {
    "toc": true
   },
   "source": [
    "<h1>Table of Contents<span class=\"tocSkip\"></span></h1>\n",
    "<div class=\"toc\"><ul class=\"toc-item\"><li><span><a href=\"#Understanding-Anaconda\" data-toc-modified-id=\"Understanding-Anaconda-1\">Understanding Anaconda</a></span></li><li><span><a href=\"#Python-Programming-environments\" data-toc-modified-id=\"Python-Programming-environments-2\">Python Programming environments</a></span><ul class=\"toc-item\"><li><span><a href=\"#jupyter\" data-toc-modified-id=\"jupyter-2.1\">jupyter</a></span><ul class=\"toc-item\"><li><span><a href=\"#Launching-jupyter\" data-toc-modified-id=\"Launching-jupyter-2.1.1\">Launching jupyter</a></span></li><li><span><a href=\"#Running-code-in-jupyter\" data-toc-modified-id=\"Running-code-in-jupyter-2.1.2\">Running code in jupyter</a></span></li><li><span><a href=\"#Finding-function-help-in-jupyter\" data-toc-modified-id=\"Finding-function-help-in-jupyter-2.1.3\">Finding function help in jupyter</a></span></li></ul></li><li><span><a href=\"#Spyder\" data-toc-modified-id=\"Spyder-2.2\">Spyder</a></span></li><li><span><a href=\"#Any-other-IDEs-(integrated-development-environment)\" data-toc-modified-id=\"Any-other-IDEs-(integrated-development-environment)-2.3\">Any other IDEs (integrated development environment)</a></span></li><li><span><a href=\"#vim-+-ipython\" data-toc-modified-id=\"vim-+-ipython-2.4\"><code>vim</code> + <code>ipython</code></a></span></li></ul></li><li><span><a href=\"#Installing-packages-with-Anaconda\" data-toc-modified-id=\"Installing-packages-with-Anaconda-3\">Installing packages with Anaconda</a></span><ul class=\"toc-item\"><li><span><a href=\"#Creating-new-enviroments\" data-toc-modified-id=\"Creating-new-enviroments-3.1\">Creating new enviroments</a></span></li></ul></li><li><span><a href=\"#Things-to-Google\" data-toc-modified-id=\"Things-to-Google-4\">Things to Google</a></span></li><li><span><a href=\"#Project-structure\" data-toc-modified-id=\"Project-structure-5\">Project structure</a></span></li></ul></div>"
   ]
  },
  {
   "cell_type": "markdown",
   "metadata": {
    "heading_collapsed": true
   },
   "source": [
    "# Understanding Anaconda "
   ]
  },
  {
   "cell_type": "markdown",
   "metadata": {
    "hidden": true
   },
   "source": [
    "<img src=\"../images/anaconda_structure.png\" style=\"float: left; width: 65%; margin-right: 20px\">\n",
    "\n",
    "Anaconda is a distribution of Python that makes your live much easier!\n",
    "\n",
    "The *Navigator* makes it much easier to access different tools, GUIs, interfaces. \n",
    "\n",
    "I tend to use **Jupyter Notebooks** for interactive programming (data science applications) and this is what we'll be using in this course. I use VS Code for scripting. Spyder is similar to MATLAB's interface.\n",
    "\n",
    "We'll use some of the science tools and visualisation packages. \n",
    "\n",
    "Conda is the package manager that provides an easy way to install packages such as `matplotlib` and provides a more robust alternative to `pip`. Note you can also install non-Python packages such as `cdo`."
   ]
  },
  {
   "cell_type": "markdown",
   "metadata": {
    "heading_collapsed": true
   },
   "source": [
    "# Python Programming environments"
   ]
  },
  {
   "cell_type": "markdown",
   "metadata": {
    "hidden": true
   },
   "source": [
    "## jupyter\n",
    "Jupyter is an interactive programming enviroment. It runs from your local computer (in the terminal/cmd), and uses the browser as an interface. Note that it does not run online!\n",
    "\n",
    "We will be using this interface. \n",
    "\n",
    "Note that Jupyter is not limited to running Python - it actually stands for: **`Ju`**(lia)**`Pyt`**(hon)`e`**`R`**.\n",
    "With an extra bit of work, these languages can be run in notebooks too!\n",
    "\n",
    "### Launching jupyter\n",
    "\n",
    "- Can be done using **Anaconda Navigator** or \n",
    "- From the **terminal** (MacOS and Linux) with the `jupyter-notebook` command. Your browser should launch automatically.\n",
    "\n",
    "There is also jupyterlab, but I have not got much experience with this platform. It is still in its infancy, but from what I've read will eventually take over from jupyter. \n",
    "\n",
    "### Running code in jupyter\n",
    "To start, run the user interface tour: `Help --> User Interface Tour`\n",
    "\n",
    "Jupyter consists of *cells* or blocks of code that can be run independently. These are run by pressing  \n",
    "`CTRL + Enter` (stay on cell) or `SHIFT + Enter` (go to next cell)\n",
    "\n",
    "### Finding function help in jupyter\n",
    "You can run a function followed by a `?` for documentation and `??` for documentation + code.  \n",
    "`print??`\n",
    "\n",
    "Alternatively, you can quickly find the help of a function by moving the cursor to the function you'd like to know more about.  \n",
    "Then hold `SHIFT` while pressing `TAB` up to four times to show different displays of the documentation. Pressing `TAB` four times is the equivalent to `<func>?`\n",
    "\n"
   ]
  },
  {
   "cell_type": "code",
   "execution_count": 1,
   "metadata": {
    "ExecuteTime": {
     "end_time": "2018-12-03T14:45:14.508120Z",
     "start_time": "2018-12-03T14:45:14.504813Z"
    },
    "hidden": true
   },
   "outputs": [],
   "source": [
    "# run some code here\n",
    "name1 = 'Luke Gregor'\n",
    "name2 = 'Tommy Ryan-Keogh'"
   ]
  },
  {
   "cell_type": "code",
   "execution_count": 2,
   "metadata": {
    "ExecuteTime": {
     "end_time": "2018-12-03T14:45:15.387034Z",
     "start_time": "2018-12-03T14:45:15.375601Z"
    },
    "hidden": true
   },
   "outputs": [
    {
     "data": {
      "text/plain": [
       "'Tommy Ryan-Keogh'"
      ]
     },
     "execution_count": 2,
     "metadata": {},
     "output_type": "execute_result"
    }
   ],
   "source": [
    "# this is to show how the output of cells behaves\n",
    "name1\n",
    "name2"
   ]
  },
  {
   "cell_type": "code",
   "execution_count": 3,
   "metadata": {
    "ExecuteTime": {
     "end_time": "2018-12-03T14:45:17.079927Z",
     "start_time": "2018-12-03T14:45:17.072283Z"
    },
    "hidden": true
   },
   "outputs": [
    {
     "name": "stdout",
     "output_type": "stream",
     "text": [
      "Luke Gregor\n"
     ]
    },
    {
     "data": {
      "text/plain": [
       "'Tommy Ryan-Keogh'"
      ]
     },
     "execution_count": 3,
     "metadata": {},
     "output_type": "execute_result"
    }
   ],
   "source": [
    "# we can show output from any variable by printing it\n",
    "print(name1)  # try looking at the help for the print function\n",
    "name2"
   ]
  },
  {
   "cell_type": "markdown",
   "metadata": {
    "ExecuteTime": {
     "end_time": "2018-12-03T14:05:21.185306Z",
     "start_time": "2018-12-03T14:05:21.177874Z"
    },
    "hidden": true
   },
   "source": [
    "<div></div>\n",
    "\n",
    "<img src=\"../images/Spyder.png\" style='width:60%; float:right; margin-left: 20px; margin-bottom: 20px'>\n",
    "\n",
    "## Spyder\n",
    "\n",
    "This is a MATLAB-esque environment as shown in the figure below. \n",
    "\n",
    "This might be a better platform for programming if you are used to MATLAB and you are relatively new to programming. \n",
    "\n",
    "Spyder is installed by default if you install Anaconda. "
   ]
  },
  {
   "cell_type": "markdown",
   "metadata": {
    "hidden": true
   },
   "source": [
    "## Any other IDEs (integrated development environment)\n",
    "I recommend the following free IDE's  \n",
    "- VS Code (https://code.visualstudio.com/download)\n",
    "- Sublime (https://www.sublimetext.com/3)\n",
    "\n",
    "These are both very powerfull environments that are highly customisable. It takes a while to set these up. I recommend these if you are developing a tool or building a package. Otherwise it may be easier to stick with the first two suggestions.\n"
   ]
  },
  {
   "cell_type": "markdown",
   "metadata": {
    "ExecuteTime": {
     "end_time": "2018-12-03T14:05:41.807637Z",
     "start_time": "2018-12-03T14:05:41.802532Z"
    },
    "hidden": true
   },
   "source": [
    "## `vim` + `ipython`\n",
    "This is old school, but useful for those who work remotely on clusters as there is no installation on your machine required. We will not be looking at this option. \n",
    "\n"
   ]
  },
  {
   "cell_type": "markdown",
   "metadata": {
    "hidden": true
   },
   "source": [
    "---"
   ]
  },
  {
   "cell_type": "markdown",
   "metadata": {
    "heading_collapsed": true
   },
   "source": [
    "# Installing packages with Anaconda"
   ]
  },
  {
   "cell_type": "markdown",
   "metadata": {
    "hidden": true
   },
   "source": [
    "<img src=\"../images/anaconda_install_packages.png\" style=\"float:right; width:70%\">\n",
    "\n",
    "Packages are what makes Python powerfull. It turns it from a very basic scripting language into a platform for science, website-creating or application development. \n",
    "\n",
    "Anaconda is geared toward scientific computing so most of the pacakges we'll be using are pre-installed. These include:\n",
    "```\n",
    "numpy \n",
    "scipy\n",
    "matplotlib\n",
    "pandas\n",
    "```\n",
    "\n",
    "You will have to install others, such as:\n",
    "```\n",
    "netCDF4\n",
    "xarray\n",
    "cartopy\n",
    "```\n",
    "\n",
    "Installing these can be done with anaconda navigator (as shown in the image on the right) or in the command line with conda.  \n",
    "`conda install netCDF4 xarray`"
   ]
  },
  {
   "cell_type": "markdown",
   "metadata": {
    "hidden": true
   },
   "source": [
    "## Creating new enviroments"
   ]
  },
  {
   "cell_type": "markdown",
   "metadata": {
    "hidden": true
   },
   "source": [
    "<img src=\"../images/anaconda_install_environ.png\" style=\"float:right; width:70%\">\n",
    "\n",
    "It's quite common that you'll run into legacy issues when running older scientific packages that require Python 2.7 instead of Python 3.6/3.7. It is easy to create a new environment with Anaconda. \n",
    "\n",
    "You can choose the Python version. It then installs Python for that version, but you have to remember to enable it if you are using the command line. You will also have to install all the packages for the new version of Python. "
   ]
  },
  {
   "cell_type": "markdown",
   "metadata": {
    "heading_collapsed": true
   },
   "source": [
    "---\n",
    "# Things to Google"
   ]
  },
  {
   "cell_type": "markdown",
   "metadata": {
    "hidden": true
   },
   "source": [
    "- `install jupyter extensions`\n",
    "    - vairable inspector\n",
    "    - collapsing cells\n",
    "    - table of contents\n",
    "    - time to run for each cell\n",
    "- `conda install new environment`\n",
    "- `data science folder structure`"
   ]
  },
  {
   "cell_type": "markdown",
   "metadata": {},
   "source": [
    "---"
   ]
  },
  {
   "cell_type": "markdown",
   "metadata": {
    "heading_collapsed": true
   },
   "source": [
    "# Project structure"
   ]
  },
  {
   "cell_type": "markdown",
   "metadata": {
    "hidden": true
   },
   "source": [
    "One of the key aspects of doing research is that we need to **make our results reproducible**. As the computational element of climate science increases, we need to be ever more diligent of how we set up our projects. Projects can be papers or a thesis. \n",
    "\n",
    "A good setup can help us to make our work more reproducible by structuring the project correctly. \n",
    "\n",
    "Here are some of my rules for project structure:\n",
    "1. Create a folder for your project\n",
    "2. Keep all the data for that project in the project folder. This means that when you copy the data, it is easy for a person to run your code. \n",
    "3. Make sure all the scripts you use for the project are also hosted in the project. \n",
    "4. Save all output data and figures inside the project.\n",
    "5. Document your work! Jupyter notebooks are great for this, but you can also create a folder where you write reports or the thesis. \n",
    "\n",
    "\n",
    "Below is an example from one of my projects:\n",
    "```bash\n",
    "Global_CO2_MachineLearning\n",
    "│\n",
    "├── data\n",
    "│   ├── output\n",
    "│   │   ├── experiment_01\n",
    "│   │   └── experiment_02\n",
    "│   └── raw\n",
    "│\n",
    "├── figures\n",
    "│   ├── animations\n",
    "│   ├── data_exploration\n",
    "│   └── experiment_01\n",
    "│\n",
    "├── notebooks\n",
    "│   └── old\n",
    "│\n",
    "├── scripts\n",
    "│   ├── python\n",
    "│   └── bash\n",
    "│\n",
    "└── reports\n",
    "    ├── images\n",
    "    ├── references\n",
    "    ├── markdown\n",
    "    └── latex\n",
    "```\n",
    "\n",
    "The project we're working in at the moment - these slides - are structured in a similar way. You don't have to follow this verbatim, it's just a suggestion."
   ]
  },
  {
   "cell_type": "code",
   "execution_count": null,
   "metadata": {
    "hidden": true
   },
   "outputs": [],
   "source": []
  }
 ],
 "metadata": {
  "kernelspec": {
   "display_name": "Python 3",
   "language": "python",
   "name": "python3"
  },
  "language_info": {
   "codemirror_mode": {
    "name": "ipython",
    "version": 3
   },
   "file_extension": ".py",
   "mimetype": "text/x-python",
   "name": "python",
   "nbconvert_exporter": "python",
   "pygments_lexer": "ipython3",
   "version": "3.7.0"
  },
  "toc": {
   "base_numbering": 1,
   "nav_menu": {},
   "number_sections": false,
   "sideBar": true,
   "skip_h1_title": false,
   "title_cell": "Table of Contents",
   "title_sidebar": "Contents",
   "toc_cell": true,
   "toc_position": {},
   "toc_section_display": true,
   "toc_window_display": false
  },
  "varInspector": {
   "cols": {
    "lenName": 16,
    "lenType": 16,
    "lenVar": 40
   },
   "kernels_config": {
    "python": {
     "delete_cmd_postfix": "",
     "delete_cmd_prefix": "del ",
     "library": "var_list.py",
     "varRefreshCmd": "print(var_dic_list())"
    },
    "r": {
     "delete_cmd_postfix": ") ",
     "delete_cmd_prefix": "rm(",
     "library": "var_list.r",
     "varRefreshCmd": "cat(var_dic_list()) "
    }
   },
   "position": {
    "height": "353px",
    "left": "1533px",
    "right": "20px",
    "top": "79px",
    "width": "376px"
   },
   "types_to_exclude": [
    "module",
    "function",
    "builtin_function_or_method",
    "instance",
    "_Feature"
   ],
   "window_display": false
  }
 },
 "nbformat": 4,
 "nbformat_minor": 2
}
